{
 "cells": [
  {
   "cell_type": "markdown",
   "metadata": {},
   "source": [
    "### The components of a web page\n",
    "\n",
    "When we visit a web page, our web browser makes a request to a web server. This request is called a `GET` request, since we're getting files from the server. The server then sends back files that tell our browser how to render the page for us. The files fall into a few main types:\n",
    "* HTML — contain the main content of the page.\n",
    "* CSS — add styling to make the page look nicer.\n",
    "* JS — Javascript files add interactivity to web pages.\n",
    "* Images — image formats, such as JPG and PNG allow web pages to show pictures."
   ]
  },
  {
   "cell_type": "markdown",
   "metadata": {},
   "source": [
    "### HTML\n",
    "#### 1. Introduction\n",
    "HTML a markup language that tells a browser how to layout content. HTML allows you to do similar things to what you do in a word processor like Microsoft Word — make text bold, create paragraphs, and so on. \n",
    "\n",
    "HTML consists of elements called tags. The most basic tag is the `<html>` tag. This tag tells the web browser that everything inside of it is HTML. \n",
    "\n",
    "```html\n",
    "<html>\n",
    "    <head>\n",
    "    </head>\n",
    "    <body>\n",
    "        <p>\n",
    "            Here's a paragraph of text!\n",
    "        </p>\n",
    "        <p>\n",
    "            Here's a second paragraph of text!\n",
    "        </p>\n",
    "    </body>\n",
    "</html>\n",
    "```\n",
    "#### Here's how this will look:\n",
    "<kbd>\n",
    "<html>\n",
    "    <head>\n",
    "    </head>\n",
    "    <body>\n",
    "        <p>\n",
    "            Here's a paragraph of text!\n",
    "        </p>\n",
    "        <p>\n",
    "            Here's a second paragraph of text!\n",
    "        </p>\n",
    "    </body>\n",
    "</html>\n",
    "</kbd>\n",
    "\n",
    "\n",
    "Tags have commonly used names that depend on their position in relation to other tags:\n",
    "\n",
    "* `child` — a child is a tag inside another tag. So the two `p` tags above are both children of the `body` tag.\n",
    "* `parent` — a parent is the tag that another tag is inside. e.g. the `html` tag is the parent of the `body` tag.\n",
    "* `sibiling` — a sibiling is a tag that inside the same parent as another tag. e.g., `head` and `body` are siblings, since they're both inside `html`. \n"
   ]
  },
  {
   "cell_type": "markdown",
   "metadata": {},
   "source": [
    "#### 2.HTML hyperlink\n",
    "```html\n",
    "<html>\n",
    "    <head>\n",
    "    </head>\n",
    "    <body>\n",
    "        <p>\n",
    "            Here's a paragraph of text!\n",
    "            <a href=\"https://www.dataquest.io\">Learn Data Science Online</a>\n",
    "        </p>\n",
    "        <p>\n",
    "            Here's a second paragraph of text!\n",
    "            <a href=\"https://www.python.org\">Python</a>\n",
    "        </p>\n",
    "    </body>\n",
    "</html>\n",
    "```\n",
    "Output:\n",
    "<kbd>\n",
    "<html>\n",
    "    <head>\n",
    "    </head>\n",
    "    <body>\n",
    "        <p>\n",
    "            Here's a paragraph of text!\n",
    "            <a href=\"https://www.dataquest.io\">Learn Data Science Online</a>\n",
    "        </p>\n",
    "        <p>\n",
    "            Here's a second paragraph of text!\n",
    "            <a href=\"https://www.python.org\">Python</a>\n",
    "        </p>\n",
    "    </body>\n",
    "</html>\n",
    "</kbd>\n",
    "<br \\>\n",
    "In which, <br \\>\n",
    "`a` tag are links, tell the browser to render a link to another web page. <br \\>\n",
    "The `href` property of the tag determines where the link goes.<br \\><br \\>\n",
    "There are some more tags:\n",
    "* `div` — indicates a division, or area, of the page.\n",
    "* `b` — bolds any text inside.\n",
    "* `i` — italicizes any text inside.\n",
    "* `table` — creates a table.\n",
    "* `form` — creates an input form."
   ]
  },
  {
   "cell_type": "markdown",
   "metadata": {},
   "source": [
    "#### 3.HTML classes\n",
    "\n",
    "One element can have multiple classes, and a class can be shared between elements. Each element can only have one id, and an id can only be used once on a page. Classes and ids are optional, and not all elements will have them.\n",
    "\n",
    "```html\n",
    "<html>\n",
    "    <head>\n",
    "    </head>\n",
    "    <body>\n",
    "        <p class=\"bold-paragraph\">\n",
    "            Here's a paragraph of text!\n",
    "            <a href=\"https://www.dataquest.io\" id=\"learn-link\">Learn Data Science Online</a>\n",
    "        </p>\n",
    "        <p class=\"bold-paragraph extra-large\">\n",
    "            Here's a second paragraph of text!\n",
    "            <a href=\"https://www.python.org\" class=\"extra-large\">Python</a>\n",
    "        </p>\n",
    "    </body>\n",
    "</html>\n",
    "```\n",
    "Output:\n",
    "<kbd>\n",
    "<html>\n",
    "    <head>\n",
    "    </head>\n",
    "    <body>\n",
    "        <p class=\"bold-paragraph\">\n",
    "            Here's a paragraph of text!\n",
    "            <a href=\"https://www.dataquest.io\" id=\"learn-link\">Learn Data Science Online</a>\n",
    "        </p>\n",
    "        <p class=\"bold-paragraph extra-large\">\n",
    "            Here's a second paragraph of text!\n",
    "            <a href=\"https://www.python.org\" class=\"extra-large\">Python</a>\n",
    "        </p>\n",
    "    </body>\n",
    "</html>\n",
    "</kbd>"
   ]
  },
  {
   "cell_type": "markdown",
   "metadata": {},
   "source": [
    "### Request\n",
    "The first thing we'll need to do to scrape a web page is to download the page. We can download pages using the Python requests library. The requests library will make a `GET` request to a web server, which will download the `HTML` contents of a given web page for us. "
   ]
  },
  {
   "cell_type": "code",
   "execution_count": 1,
   "metadata": {},
   "outputs": [
    {
     "data": {
      "text/plain": [
       "<Response [200]>"
      ]
     },
     "execution_count": 1,
     "metadata": {},
     "output_type": "execute_result"
    }
   ],
   "source": [
    "import requests\n",
    "page = requests.get('http://dataquestio.github.io/web-scraping-pages/simple.html')\n",
    "page\n",
    "\n",
    "#Status code starting with a 2 generally indicates success, \n",
    "# and a code starting with a 4 or a 5 indicates an error."
   ]
  },
  {
   "cell_type": "code",
   "execution_count": 2,
   "metadata": {},
   "outputs": [
    {
     "data": {
      "text/plain": [
       "b'<!DOCTYPE html>\\n<html>\\n    <head>\\n        <title>A simple example page</title>\\n    </head>\\n    <body>\\n        <p>Here is some simple content for this page.</p>\\n    </body>\\n</html>'"
      ]
     },
     "execution_count": 2,
     "metadata": {},
     "output_type": "execute_result"
    }
   ],
   "source": [
    "page.content  #content of the downloaded html"
   ]
  },
  {
   "cell_type": "markdown",
   "metadata": {},
   "source": []
  },
  {
   "cell_type": "markdown",
   "metadata": {},
   "source": [
    "### BeautifulSoup\n",
    "html parsing tool."
   ]
  },
  {
   "cell_type": "code",
   "execution_count": 3,
   "metadata": {},
   "outputs": [
    {
     "data": {
      "text/plain": [
       "<!DOCTYPE html>\n",
       "\n",
       "<html>\n",
       "<head>\n",
       "<title>A simple example page</title>\n",
       "</head>\n",
       "<body>\n",
       "<p>Here is some simple content for this page.</p>\n",
       "</body>\n",
       "</html>"
      ]
     },
     "execution_count": 3,
     "metadata": {},
     "output_type": "execute_result"
    }
   ],
   "source": [
    "from bs4 import BeautifulSoup\n",
    "soup = BeautifulSoup(page.content,'html.parser')\n",
    "soup"
   ]
  },
  {
   "cell_type": "code",
   "execution_count": 4,
   "metadata": {},
   "outputs": [
    {
     "name": "stdout",
     "output_type": "stream",
     "text": [
      "<!DOCTYPE html>\n",
      "<html>\n",
      " <head>\n",
      "  <title>\n",
      "   A simple example page\n",
      "  </title>\n",
      " </head>\n",
      " <body>\n",
      "  <p>\n",
      "   Here is some simple content for this page.\n",
      "  </p>\n",
      " </body>\n",
      "</html>\n"
     ]
    }
   ],
   "source": [
    "# format - nested\n",
    "print(soup.prettify())"
   ]
  },
  {
   "cell_type": "code",
   "execution_count": 5,
   "metadata": {},
   "outputs": [
    {
     "data": {
      "text/plain": [
       "['html', '\\n', <html>\n",
       " <head>\n",
       " <title>A simple example page</title>\n",
       " </head>\n",
       " <body>\n",
       " <p>Here is some simple content for this page.</p>\n",
       " </body>\n",
       " </html>]"
      ]
     },
     "execution_count": 5,
     "metadata": {},
     "output_type": "execute_result"
    }
   ],
   "source": [
    "# list all the elements at the top level of the page\n",
    "list(soup.children)\n",
    "# "
   ]
  },
  {
   "cell_type": "code",
   "execution_count": 6,
   "metadata": {},
   "outputs": [
    {
     "data": {
      "text/plain": [
       "[bs4.element.Doctype, bs4.element.NavigableString, bs4.element.Tag]"
      ]
     },
     "execution_count": 6,
     "metadata": {},
     "output_type": "execute_result"
    }
   ],
   "source": [
    "[type(item) for item in list(soup.children)]"
   ]
  },
  {
   "cell_type": "markdown",
   "metadata": {},
   "source": [
    "All of the items are `BeautifulSoup` objects:\n",
    "1. `Doctype` contains information about the type of the document\n",
    "2. `NavigableString` represent text found in the HTML document\n",
    "3. `Tag` contains nested tags."
   ]
  },
  {
   "cell_type": "code",
   "execution_count": 7,
   "metadata": {},
   "outputs": [
    {
     "data": {
      "text/plain": [
       "<html>\n",
       "<head>\n",
       "<title>A simple example page</title>\n",
       "</head>\n",
       "<body>\n",
       "<p>Here is some simple content for this page.</p>\n",
       "</body>\n",
       "</html>"
      ]
     },
     "execution_count": 7,
     "metadata": {},
     "output_type": "execute_result"
    }
   ],
   "source": [
    "# select html items from soup's children:\n",
    "html = list(soup.children)[2]\n",
    "html"
   ]
  },
  {
   "cell_type": "code",
   "execution_count": 8,
   "metadata": {},
   "outputs": [
    {
     "data": {
      "text/plain": [
       "<body>\n",
       "<p>Here is some simple content for this page.</p>\n",
       "</body>"
      ]
     },
     "execution_count": 8,
     "metadata": {},
     "output_type": "execute_result"
    }
   ],
   "source": [
    "# select body items from html's children\n",
    "body =  list(html.children)[3]\n",
    "body"
   ]
  },
  {
   "cell_type": "code",
   "execution_count": 9,
   "metadata": {},
   "outputs": [
    {
     "name": "stdout",
     "output_type": "stream",
     "text": [
      "Here is some simple content for this page.\n"
     ]
    }
   ],
   "source": [
    "# select p items from body's children\n",
    "p = list(body.children)[1]\n",
    "print(p.get_text())"
   ]
  },
  {
   "cell_type": "code",
   "execution_count": 10,
   "metadata": {},
   "outputs": [
    {
     "data": {
      "text/plain": [
       "[<p>Here is some simple content for this page.</p>]"
      ]
     },
     "execution_count": 10,
     "metadata": {},
     "output_type": "execute_result"
    }
   ],
   "source": [
    "# Finding all instance of a tag at once, instead of parsing layer by layer\n",
    "soup = BeautifulSoup(page.content,'html.parser')\n",
    "soup.find_all('p')"
   ]
  },
  {
   "cell_type": "code",
   "execution_count": 11,
   "metadata": {},
   "outputs": [
    {
     "data": {
      "text/plain": [
       "'Here is some simple content for this page.'"
      ]
     },
     "execution_count": 11,
     "metadata": {},
     "output_type": "execute_result"
    }
   ],
   "source": [
    "soup.find_all('p')[0].get_text()"
   ]
  },
  {
   "cell_type": "markdown",
   "metadata": {},
   "source": []
  },
  {
   "cell_type": "markdown",
   "metadata": {},
   "source": [
    "### Searching for tags by class and id\n",
    "\n",
    "Classes and ids are used by CSS to determine which HTML elements to apply certain styles to. We can also use them when scraping to specify specific elements we want to scrape. To illustrate this principle, we'll work with the following page:\n",
    "\n",
    "```html\n",
    "<html>\n",
    "    <head>\n",
    "        <title>A simple example page</title>\n",
    "    </head>\n",
    "    <body>\n",
    "        <div>\n",
    "            <p class=\"inner-text first-item\" id=\"first\">\n",
    "                First paragraph.\n",
    "            </p>\n",
    "            <p class=\"inner-text\">\n",
    "                Second paragraph.\n",
    "            </p>\n",
    "        </div>\n",
    "        <p class=\"outer-text first-item\" id=\"second\">\n",
    "            <b>\n",
    "                First outer paragraph.\n",
    "            </b>\n",
    "        </p>\n",
    "        <p class=\"outer-text\">\n",
    "            <b>\n",
    "                Second outer paragraph.\n",
    "            </b>\n",
    "        </p>\n",
    "    </body>\n",
    "</html>\n",
    "```\n",
    "Output:\n",
    "<kbd>\n",
    "<html>\n",
    "    <head>\n",
    "        <title>A simple example page</title>\n",
    "    </head>\n",
    "    <body>\n",
    "        <div>\n",
    "            <p class=\"inner-text first-item\" id=\"first\">\n",
    "                First paragraph.\n",
    "            </p>\n",
    "            <p class=\"inner-text\">\n",
    "                Second paragraph.\n",
    "            </p>\n",
    "        </div>\n",
    "        <p class=\"outer-text first-item\" id=\"second\">\n",
    "            <b>\n",
    "                First outer paragraph.\n",
    "            </b>\n",
    "        </p>\n",
    "        <p class=\"outer-text\">\n",
    "            <b>\n",
    "                Second outer paragraph.\n",
    "            </b>\n",
    "        </p>\n",
    "    </body>\n",
    "</html>\n",
    "</kbd>"
   ]
  },
  {
   "cell_type": "code",
   "execution_count": 12,
   "metadata": {},
   "outputs": [
    {
     "data": {
      "text/plain": [
       "[<p class=\"outer-text first-item\" id=\"second\">\n",
       " <b>\n",
       "                 First outer paragraph.\n",
       "             </b>\n",
       " </p>, <p class=\"outer-text\">\n",
       " <b>\n",
       "                 Second outer paragraph.\n",
       "             </b>\n",
       " </p>]"
      ]
     },
     "execution_count": 12,
     "metadata": {},
     "output_type": "execute_result"
    }
   ],
   "source": [
    "page = requests.get(\"http://dataquestio.github.io/web-scraping-pages/ids_and_classes.html\")\n",
    "soup = BeautifulSoup(page.content, 'html.parser')\n",
    "# search outer-text，using class name\n",
    "soup.find_all('p', class_='outer-text')"
   ]
  },
  {
   "cell_type": "code",
   "execution_count": 13,
   "metadata": {},
   "outputs": [
    {
     "data": {
      "text/plain": [
       "[<p class=\"inner-text first-item\" id=\"first\">\n",
       "                 First paragraph.\n",
       "             </p>]"
      ]
     },
     "execution_count": 13,
     "metadata": {},
     "output_type": "execute_result"
    }
   ],
   "source": [
    "# search according to the id\n",
    "soup.find_all(id=\"first\")"
   ]
  },
  {
   "cell_type": "markdown",
   "metadata": {},
   "source": []
  },
  {
   "cell_type": "markdown",
   "metadata": {},
   "source": [
    "### searching according to the CSS selectors\n",
    "CSS language selectors allows developers to specify HTML tags to style\n",
    "\n",
    "* `p a` — finds all `a` tags inside of a `p` tag.\n",
    "* `body p a` — finds all `a` tags inside of a `p` tag inside of a `body` tag.\n",
    "* `html body` — finds all `body` tags inside of an `html` tag.\n",
    "* `p.outer-text` — finds all `p` tags with a class of `outer-text`.\n",
    "* `p#first` — finds all `p` tags with an id of `first`.\n",
    "* `body p.outer-text` — finds any `p` tags with a class of `outer-text` inside of a `body` tag."
   ]
  },
  {
   "cell_type": "code",
   "execution_count": 14,
   "metadata": {},
   "outputs": [
    {
     "data": {
      "text/plain": [
       "[<p class=\"inner-text first-item\" id=\"first\">\n",
       "                 First paragraph.\n",
       "             </p>, <p class=\"inner-text\">\n",
       "                 Second paragraph.\n",
       "             </p>]"
      ]
     },
     "execution_count": 14,
     "metadata": {},
     "output_type": "execute_result"
    }
   ],
   "source": [
    "# select p inside of div\n",
    "soup.select(\"div p\")"
   ]
  },
  {
   "cell_type": "markdown",
   "metadata": {},
   "source": []
  },
  {
   "cell_type": "markdown",
   "metadata": {},
   "source": [
    "## Case study\n",
    "extract weather data from from the National Weather Service website. （https://www.weather.gov), inspect elements of the web site。 In this case, it's a `div` tag with the id `seven-day-forecast`:\n",
    "<img src=\"resources/7days1.png\" style=\"width:50%;height:50%\">\n",
    "\n",
    "<br \\>\n",
    "If you click around on the console, and explore the div, you'll discover that each forecast item (like \"Tonight\", \"Thursday\", and \"Thursday Night\") is contained in a div with the class `tombstone-container`.\n",
    "<img src=\"resources/7days2.png\" style=\"width:50%;height:50%\">\n",
    "<br \\><br \\>\n",
    "\n",
    "parsing the Page:\n",
    "* Download the web page cotaining the forecast\n",
    "* Create a `BeautifulSoup` class the parse the page.\n",
    "* Find the `div` with id `seven-day-forecast`, and assign to `seven_day`\n",
    "* Inside `seven_day`, find each individual forecast item.\n",
    "* Extract and print the first forecast item.\n"
   ]
  },
  {
   "cell_type": "code",
   "execution_count": 15,
   "metadata": {},
   "outputs": [
    {
     "name": "stdout",
     "output_type": "stream",
     "text": [
      "<div class=\"tombstone-container\">\n",
      " <p class=\"period-name\">\n",
      "  Tonight\n",
      "  <br/>\n",
      "  <br/>\n",
      " </p>\n",
      " <p>\n",
      "  <img alt=\"Tonight: Increasing clouds, with a low around 50. East southeast wind 12 to 17 mph decreasing to 5 to 10 mph after midnight. Winds could gust as high as 23 mph. \" class=\"forecast-icon\" src=\"newimages/medium/nbkn.png\" title=\"Tonight: Increasing clouds, with a low around 50. East southeast wind 12 to 17 mph decreasing to 5 to 10 mph after midnight. Winds could gust as high as 23 mph. \"/>\n",
      " </p>\n",
      " <p class=\"short-desc\">\n",
      "  Increasing\n",
      "  <br/>\n",
      "  Clouds\n",
      " </p>\n",
      " <p class=\"temp temp-low\">\n",
      "  Low: 50 °F\n",
      " </p>\n",
      "</div>\n"
     ]
    }
   ],
   "source": [
    "import requests\n",
    "from bs4 import BeautifulSoup\n",
    "url = 'https://forecast.weather.gov/MapClick.php?lat=47.60357000000005&lon=-122.32944999999995#.WqacHmacZdA'\n",
    "page = requests.get(url)\n",
    "soup = BeautifulSoup(page.content,'html.parser')\n",
    "seven_day = soup.find(id=\"seven-day-forecast\")\n",
    "forecast_items = seven_day.find_all(class_=\"tombstone-container\")\n",
    "tonight = forecast_items[0]\n",
    "print(tonight.prettify())"
   ]
  },
  {
   "cell_type": "markdown",
   "metadata": {},
   "source": [
    "### Further extraction:\n",
    "Analysis: inside the forcast item `tonight` is all the information we want.There are 4 pieces of information we can extract:\n",
    "* The name of the period-name forecast item - `tonight` \n",
    "* The description of the conditions — properties of `img`.\n",
    "* A short description of the conditions — in this case, `Clouds`.\n",
    "* Temperature low - 50 degrees"
   ]
  },
  {
   "cell_type": "code",
   "execution_count": 16,
   "metadata": {},
   "outputs": [
    {
     "name": "stdout",
     "output_type": "stream",
     "text": [
      "Tonight\n",
      "IncreasingClouds\n",
      "Low: 50 °F\n"
     ]
    }
   ],
   "source": [
    "#further extraction:\n",
    "period = tonight.find(class_=\"period-name\").get_text()\n",
    "short_desc = tonight.find(class_=\"short-desc\").get_text()\n",
    "temp = tonight.find(class_=\"temp\").get_text()\n",
    "\n",
    "print(period)\n",
    "print(short_desc)\n",
    "print(temp)"
   ]
  },
  {
   "cell_type": "code",
   "execution_count": 17,
   "metadata": {},
   "outputs": [
    {
     "name": "stdout",
     "output_type": "stream",
     "text": [
      "Tonight: Increasing clouds, with a low around 50. East southeast wind 12 to 17 mph decreasing to 5 to 10 mph after midnight. Winds could gust as high as 23 mph. \n"
     ]
    }
   ],
   "source": [
    "img = tonight.find('img')\n",
    "desc = img['title']\n",
    "print(desc)"
   ]
  },
  {
   "cell_type": "markdown",
   "metadata": {},
   "source": []
  },
  {
   "cell_type": "markdown",
   "metadata": {},
   "source": [
    "### extract all the information from the page\n",
    "* Select all items with the class `period-name` inside an item with the class `tombstone-container` in `seven_day`\n",
    "* Use a list comprehension to call the `get_text` method on each `BeautifulSoup` object."
   ]
  },
  {
   "cell_type": "code",
   "execution_count": 18,
   "metadata": {},
   "outputs": [
    {
     "data": {
      "text/plain": [
       "['Tonight',\n",
       " 'Tuesday',\n",
       " 'TuesdayNight',\n",
       " 'Wednesday',\n",
       " 'WednesdayNight',\n",
       " 'Thursday',\n",
       " 'ThursdayNight',\n",
       " 'Friday',\n",
       " 'FridayNight']"
      ]
     },
     "execution_count": 18,
     "metadata": {},
     "output_type": "execute_result"
    }
   ],
   "source": [
    "period_tags = seven_day.select(\".tombstone-container .period-name\")\n",
    "periods = [pt.get_text() for pt in period_tags]\n",
    "periods"
   ]
  },
  {
   "cell_type": "code",
   "execution_count": 19,
   "metadata": {},
   "outputs": [
    {
     "name": "stdout",
     "output_type": "stream",
     "text": [
      "['IncreasingClouds', 'Rain andBreezy', 'Rain andBreezy', 'ShowersLikely', 'ChanceShowers', 'ChanceShowers', 'Slight ChanceShowers', 'Slight ChanceShowers', 'Slight ChanceShowers']\n",
      "['Low: 50 °F', 'High: 55 °F', 'Low: 40 °F', 'High: 51 °F', 'Low: 38 °F', 'High: 53 °F', 'Low: 37 °F', 'High: 54 °F', 'Low: 40 °F']\n",
      "['Tonight: Increasing clouds, with a low around 50. East southeast wind 12 to 17 mph decreasing to 5 to 10 mph after midnight. Winds could gust as high as 23 mph. ', 'Tuesday: Rain, mainly after 11am.  High near 55. Breezy, with an east southeast wind 10 to 15 mph becoming south 17 to 22 mph in the morning. Winds could gust as high as 29 mph.  Chance of precipitation is 80%. New precipitation amounts between a tenth and quarter of an inch possible. ', 'Tuesday Night: Rain.  Low around 40. Breezy, with a west southwest wind 18 to 23 mph becoming west southwest 8 to 13 mph in the evening. Winds could gust as high as 30 mph.  Chance of precipitation is 80%. New precipitation amounts of less than a tenth of an inch possible. ', 'Wednesday: Showers likely.  Mostly cloudy, with a high near 51. North wind 8 to 17 mph becoming southwest in the afternoon. Winds could gust as high as 23 mph.  Chance of precipitation is 60%. New precipitation amounts between a tenth and quarter of an inch possible. ', 'Wednesday Night: A 30 percent chance of showers.  Mostly cloudy, with a low around 38. East northeast wind 7 to 10 mph becoming south southeast after midnight. ', 'Thursday: A 30 percent chance of showers.  Mostly cloudy, with a high near 53.', 'Thursday Night: A 20 percent chance of showers.  Mostly cloudy, with a low around 37.', 'Friday: A slight chance of showers.  Partly sunny, with a high near 54.', 'Friday Night: A slight chance of showers.  Mostly cloudy, with a low around 40.']\n"
     ]
    }
   ],
   "source": [
    "short_descs = [sd.get_text() for sd in seven_day.select(\".tombstone-container .short-desc\")]\n",
    "temps = [t.get_text() for t in seven_day.select(\".tombstone-container .temp\")]\n",
    "descs = [d[\"title\"] for d in seven_day.select(\".tombstone-container img\")]\n",
    "\n",
    "print(short_descs)\n",
    "print(temps)\n",
    "print(descs)"
   ]
  },
  {
   "cell_type": "code",
   "execution_count": 20,
   "metadata": {},
   "outputs": [
    {
     "data": {
      "text/html": [
       "<div>\n",
       "<style scoped>\n",
       "    .dataframe tbody tr th:only-of-type {\n",
       "        vertical-align: middle;\n",
       "    }\n",
       "\n",
       "    .dataframe tbody tr th {\n",
       "        vertical-align: top;\n",
       "    }\n",
       "\n",
       "    .dataframe thead th {\n",
       "        text-align: right;\n",
       "    }\n",
       "</style>\n",
       "<table border=\"1\" class=\"dataframe\">\n",
       "  <thead>\n",
       "    <tr style=\"text-align: right;\">\n",
       "      <th></th>\n",
       "      <th>desc</th>\n",
       "      <th>period</th>\n",
       "      <th>short_desc</th>\n",
       "      <th>temp</th>\n",
       "    </tr>\n",
       "  </thead>\n",
       "  <tbody>\n",
       "    <tr>\n",
       "      <th>0</th>\n",
       "      <td>Tonight: Increasing clouds, with a low around ...</td>\n",
       "      <td>Tonight</td>\n",
       "      <td>IncreasingClouds</td>\n",
       "      <td>Low: 50 °F</td>\n",
       "    </tr>\n",
       "    <tr>\n",
       "      <th>1</th>\n",
       "      <td>Tuesday: Rain, mainly after 11am.  High near 5...</td>\n",
       "      <td>Tuesday</td>\n",
       "      <td>Rain andBreezy</td>\n",
       "      <td>High: 55 °F</td>\n",
       "    </tr>\n",
       "    <tr>\n",
       "      <th>2</th>\n",
       "      <td>Tuesday Night: Rain.  Low around 40. Breezy, w...</td>\n",
       "      <td>TuesdayNight</td>\n",
       "      <td>Rain andBreezy</td>\n",
       "      <td>Low: 40 °F</td>\n",
       "    </tr>\n",
       "    <tr>\n",
       "      <th>3</th>\n",
       "      <td>Wednesday: Showers likely.  Mostly cloudy, wit...</td>\n",
       "      <td>Wednesday</td>\n",
       "      <td>ShowersLikely</td>\n",
       "      <td>High: 51 °F</td>\n",
       "    </tr>\n",
       "    <tr>\n",
       "      <th>4</th>\n",
       "      <td>Wednesday Night: A 30 percent chance of shower...</td>\n",
       "      <td>WednesdayNight</td>\n",
       "      <td>ChanceShowers</td>\n",
       "      <td>Low: 38 °F</td>\n",
       "    </tr>\n",
       "    <tr>\n",
       "      <th>5</th>\n",
       "      <td>Thursday: A 30 percent chance of showers.  Mos...</td>\n",
       "      <td>Thursday</td>\n",
       "      <td>ChanceShowers</td>\n",
       "      <td>High: 53 °F</td>\n",
       "    </tr>\n",
       "    <tr>\n",
       "      <th>6</th>\n",
       "      <td>Thursday Night: A 20 percent chance of showers...</td>\n",
       "      <td>ThursdayNight</td>\n",
       "      <td>Slight ChanceShowers</td>\n",
       "      <td>Low: 37 °F</td>\n",
       "    </tr>\n",
       "    <tr>\n",
       "      <th>7</th>\n",
       "      <td>Friday: A slight chance of showers.  Partly su...</td>\n",
       "      <td>Friday</td>\n",
       "      <td>Slight ChanceShowers</td>\n",
       "      <td>High: 54 °F</td>\n",
       "    </tr>\n",
       "    <tr>\n",
       "      <th>8</th>\n",
       "      <td>Friday Night: A slight chance of showers.  Mos...</td>\n",
       "      <td>FridayNight</td>\n",
       "      <td>Slight ChanceShowers</td>\n",
       "      <td>Low: 40 °F</td>\n",
       "    </tr>\n",
       "  </tbody>\n",
       "</table>\n",
       "</div>"
      ],
      "text/plain": [
       "                                                desc          period  \\\n",
       "0  Tonight: Increasing clouds, with a low around ...         Tonight   \n",
       "1  Tuesday: Rain, mainly after 11am.  High near 5...         Tuesday   \n",
       "2  Tuesday Night: Rain.  Low around 40. Breezy, w...    TuesdayNight   \n",
       "3  Wednesday: Showers likely.  Mostly cloudy, wit...       Wednesday   \n",
       "4  Wednesday Night: A 30 percent chance of shower...  WednesdayNight   \n",
       "5  Thursday: A 30 percent chance of showers.  Mos...        Thursday   \n",
       "6  Thursday Night: A 20 percent chance of showers...   ThursdayNight   \n",
       "7  Friday: A slight chance of showers.  Partly su...          Friday   \n",
       "8  Friday Night: A slight chance of showers.  Mos...     FridayNight   \n",
       "\n",
       "             short_desc         temp  \n",
       "0      IncreasingClouds   Low: 50 °F  \n",
       "1        Rain andBreezy  High: 55 °F  \n",
       "2        Rain andBreezy   Low: 40 °F  \n",
       "3         ShowersLikely  High: 51 °F  \n",
       "4         ChanceShowers   Low: 38 °F  \n",
       "5         ChanceShowers  High: 53 °F  \n",
       "6  Slight ChanceShowers   Low: 37 °F  \n",
       "7  Slight ChanceShowers  High: 54 °F  \n",
       "8  Slight ChanceShowers   Low: 40 °F  "
      ]
     },
     "execution_count": 20,
     "metadata": {},
     "output_type": "execute_result"
    }
   ],
   "source": [
    "# save the data to the pandas dataframe\n",
    "\n",
    "import pandas as pd\n",
    "weather = pd.DataFrame({\n",
    "        \"period\": periods, \n",
    "        \"short_desc\": short_descs, \n",
    "        \"temp\": temps, \n",
    "        \"desc\":descs\n",
    "    })\n",
    "weather"
   ]
  },
  {
   "cell_type": "code",
   "execution_count": 21,
   "metadata": {},
   "outputs": [
    {
     "data": {
      "text/plain": [
       "0    50\n",
       "1    55\n",
       "2    40\n",
       "3    51\n",
       "4    38\n",
       "5    53\n",
       "6    37\n",
       "7    54\n",
       "8    40\n",
       "Name: temp_num, dtype: object"
      ]
     },
     "execution_count": 21,
     "metadata": {},
     "output_type": "execute_result"
    }
   ],
   "source": [
    "# Data cleaning\n",
    "temp_nums = weather[\"temp\"].str.extract(\"(?P<temp_num>\\d+)\", expand=False)\n",
    "weather[\"temp_num\"] = temp_nums.astype('int')\n",
    "temp_nums"
   ]
  },
  {
   "cell_type": "code",
   "execution_count": 22,
   "metadata": {},
   "outputs": [
    {
     "data": {
      "text/plain": [
       "0     True\n",
       "1    False\n",
       "2     True\n",
       "3    False\n",
       "4     True\n",
       "5    False\n",
       "6     True\n",
       "7    False\n",
       "8     True\n",
       "Name: temp, dtype: bool"
      ]
     },
     "execution_count": 22,
     "metadata": {},
     "output_type": "execute_result"
    }
   ],
   "source": [
    "# Data filter\n",
    "is_night = weather[\"temp\"].str.contains(\"Low\")\n",
    "weather[\"is_night\"] = is_night\n",
    "is_night"
   ]
  },
  {
   "cell_type": "code",
   "execution_count": 23,
   "metadata": {},
   "outputs": [
    {
     "data": {
      "text/html": [
       "<div>\n",
       "<style scoped>\n",
       "    .dataframe tbody tr th:only-of-type {\n",
       "        vertical-align: middle;\n",
       "    }\n",
       "\n",
       "    .dataframe tbody tr th {\n",
       "        vertical-align: top;\n",
       "    }\n",
       "\n",
       "    .dataframe thead th {\n",
       "        text-align: right;\n",
       "    }\n",
       "</style>\n",
       "<table border=\"1\" class=\"dataframe\">\n",
       "  <thead>\n",
       "    <tr style=\"text-align: right;\">\n",
       "      <th></th>\n",
       "      <th>desc</th>\n",
       "      <th>period</th>\n",
       "      <th>short_desc</th>\n",
       "      <th>temp</th>\n",
       "      <th>temp_num</th>\n",
       "      <th>is_night</th>\n",
       "    </tr>\n",
       "  </thead>\n",
       "  <tbody>\n",
       "    <tr>\n",
       "      <th>0</th>\n",
       "      <td>Tonight: Increasing clouds, with a low around ...</td>\n",
       "      <td>Tonight</td>\n",
       "      <td>IncreasingClouds</td>\n",
       "      <td>Low: 50 °F</td>\n",
       "      <td>50</td>\n",
       "      <td>True</td>\n",
       "    </tr>\n",
       "    <tr>\n",
       "      <th>2</th>\n",
       "      <td>Tuesday Night: Rain.  Low around 40. Breezy, w...</td>\n",
       "      <td>TuesdayNight</td>\n",
       "      <td>Rain andBreezy</td>\n",
       "      <td>Low: 40 °F</td>\n",
       "      <td>40</td>\n",
       "      <td>True</td>\n",
       "    </tr>\n",
       "    <tr>\n",
       "      <th>4</th>\n",
       "      <td>Wednesday Night: A 30 percent chance of shower...</td>\n",
       "      <td>WednesdayNight</td>\n",
       "      <td>ChanceShowers</td>\n",
       "      <td>Low: 38 °F</td>\n",
       "      <td>38</td>\n",
       "      <td>True</td>\n",
       "    </tr>\n",
       "    <tr>\n",
       "      <th>6</th>\n",
       "      <td>Thursday Night: A 20 percent chance of showers...</td>\n",
       "      <td>ThursdayNight</td>\n",
       "      <td>Slight ChanceShowers</td>\n",
       "      <td>Low: 37 °F</td>\n",
       "      <td>37</td>\n",
       "      <td>True</td>\n",
       "    </tr>\n",
       "    <tr>\n",
       "      <th>8</th>\n",
       "      <td>Friday Night: A slight chance of showers.  Mos...</td>\n",
       "      <td>FridayNight</td>\n",
       "      <td>Slight ChanceShowers</td>\n",
       "      <td>Low: 40 °F</td>\n",
       "      <td>40</td>\n",
       "      <td>True</td>\n",
       "    </tr>\n",
       "  </tbody>\n",
       "</table>\n",
       "</div>"
      ],
      "text/plain": [
       "                                                desc          period  \\\n",
       "0  Tonight: Increasing clouds, with a low around ...         Tonight   \n",
       "2  Tuesday Night: Rain.  Low around 40. Breezy, w...    TuesdayNight   \n",
       "4  Wednesday Night: A 30 percent chance of shower...  WednesdayNight   \n",
       "6  Thursday Night: A 20 percent chance of showers...   ThursdayNight   \n",
       "8  Friday Night: A slight chance of showers.  Mos...     FridayNight   \n",
       "\n",
       "             short_desc        temp  temp_num  is_night  \n",
       "0      IncreasingClouds  Low: 50 °F        50      True  \n",
       "2        Rain andBreezy  Low: 40 °F        40      True  \n",
       "4         ChanceShowers  Low: 38 °F        38      True  \n",
       "6  Slight ChanceShowers  Low: 37 °F        37      True  \n",
       "8  Slight ChanceShowers  Low: 40 °F        40      True  "
      ]
     },
     "execution_count": 23,
     "metadata": {},
     "output_type": "execute_result"
    }
   ],
   "source": [
    "weather[is_night]"
   ]
  },
  {
   "cell_type": "code",
   "execution_count": null,
   "metadata": {},
   "outputs": [],
   "source": []
  }
 ],
 "metadata": {
  "kernelspec": {
   "display_name": "Python 3",
   "language": "python",
   "name": "python3"
  },
  "language_info": {
   "codemirror_mode": {
    "name": "ipython",
    "version": 3
   },
   "file_extension": ".py",
   "mimetype": "text/x-python",
   "name": "python",
   "nbconvert_exporter": "python",
   "pygments_lexer": "ipython3",
   "version": "3.6.3"
  }
 },
 "nbformat": 4,
 "nbformat_minor": 2
}
