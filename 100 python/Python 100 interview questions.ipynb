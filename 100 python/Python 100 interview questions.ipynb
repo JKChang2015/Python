{
 "cells": [
  {
   "cell_type": "markdown",
   "metadata": {},
   "source": [
    "# 100 Python interview questions"
   ]
  },
  {
   "cell_type": "markdown",
   "metadata": {},
   "source": [
    "### 1. 分批读入分批读入数据\n",
    "\n",
    "现在要处理一个大小为10G的文件，但是内存只有4G，如果在只修改get_lines 函数而其他代码保持不变的情况下，应该如何实现？需要考虑的问题都有那些？\n",
    "\n",
    "```python\n",
    "def get_lines():\n",
    "    with open('file.txt','rb') as f:\n",
    "        return f.readlines()\n",
    "\n",
    "if __name__ == '__main__':\n",
    "    for e in get_lines():\n",
    "        process(e) # 处理每一行数据\n",
    "```"
   ]
  },
  {
   "cell_type": "code",
   "execution_count": null,
   "metadata": {},
   "outputs": [],
   "source": []
  },
  {
   "cell_type": "markdown",
   "metadata": {},
   "source": [
    "### 2. 打印文件路径\n",
    "\n",
    "``` \n",
    "这个函数接收文件夹的名称作为输入参数\n",
    "返回该文件夹中文件的路径,以及其包含文件夹中文件的路径\n",
    "```"
   ]
  },
  {
   "cell_type": "code",
   "execution_count": 35,
   "metadata": {},
   "outputs": [
    {
     "name": "stdout",
     "output_type": "stream",
     "text": [
      "/Users/jkchang/Github/Python/100 python/Q019.py\n",
      "/Users/jkchang/Github/Python/100 python/Q048.py\n",
      "/Users/jkchang/Github/Python/100 python/Q058.py\n",
      "/Users/jkchang/Github/Python/100 python/Q009.py\n",
      "/Users/jkchang/Github/Python/100 python/Q029.py\n",
      "/Users/jkchang/Github/Python/100 python/Q078.py\n",
      "/Users/jkchang/Github/Python/100 python/Python 100 practices.ipynb\n",
      "/Users/jkchang/Github/Python/100 python/Python 100 interview questions.ipynb\n",
      "/Users/jkchang/Github/Python/100 python/Q068.py\n",
      "/Users/jkchang/Github/Python/100 python/Q039.py\n",
      "/Users/jkchang/Github/Python/100 python/Q028.py\n",
      "/Users/jkchang/Github/Python/100 python/Q079.py\n",
      "/Users/jkchang/Github/Python/100 python/Q069.py\n",
      "/Users/jkchang/Github/Python/100 python/Q038.py\n",
      "/Users/jkchang/Github/Python/100 python/Q018.py\n",
      "/Users/jkchang/Github/Python/100 python/Q049.py\n",
      "/Users/jkchang/Github/Python/100 python/Q059.py\n",
      "/Users/jkchang/Github/Python/100 python/Q008.py\n",
      "/Users/jkchang/Github/Python/100 python/Q076.py\n",
      "/Users/jkchang/Github/Python/100 python/Q027.py\n",
      "/Users/jkchang/Github/Python/100 python/Q085.py\n",
      "/Users/jkchang/Github/Python/100 python/Q013.py\n",
      "/Users/jkchang/Github/Python/100 python/Q042.py\n",
      "/Users/jkchang/Github/Python/100 python/Q052.py\n",
      "/Users/jkchang/Github/Python/100 python/Q003.py\n",
      "/Users/jkchang/Github/Python/100 python/Q095.py\n",
      "/Users/jkchang/Github/Python/100 python/Q037.py\n",
      "/Users/jkchang/Github/Python/100 python/Q066.py\n",
      "/Users/jkchang/Github/Python/100 python/Q046.py\n",
      "/Users/jkchang/Github/Python/100 python/Q017.py\n",
      "/Users/jkchang/Github/Python/100 python/Q023.py\n",
      "/Users/jkchang/Github/Python/100 python/Q072.py\n",
      "/Users/jkchang/Github/Python/100 python/Q081.py\n",
      "/Users/jkchang/Github/Python/100 python/Q091.py\n",
      "/Users/jkchang/Github/Python/100 python/Q062.py\n",
      "/Users/jkchang/Github/Python/100 python/Q033.py\n",
      "/Users/jkchang/Github/Python/100 python/Q007.py\n",
      "/Users/jkchang/Github/Python/100 python/Q056.py\n",
      "/Users/jkchang/Github/Python/100 python/Q047.py\n",
      "/Users/jkchang/Github/Python/100 python/Q016.py\n",
      "/Users/jkchang/Github/Python/100 python/Q022.py\n",
      "/Users/jkchang/Github/Python/100 python/Q073.py\n",
      "/Users/jkchang/Github/Python/100 python/Q080.py\n",
      "/Users/jkchang/Github/Python/100 python/__init__.py\n",
      "/Users/jkchang/Github/Python/100 python/Q090.py\n",
      "/Users/jkchang/Github/Python/100 python/Q063.py\n",
      "/Users/jkchang/Github/Python/100 python/Q032.py\n",
      "/Users/jkchang/Github/Python/100 python/Q006.py\n",
      "/Users/jkchang/Github/Python/100 python/Q057.py\n",
      "/Users/jkchang/Github/Python/100 python/Q077.py\n",
      "/Users/jkchang/Github/Python/100 python/Q026.py\n",
      "/Users/jkchang/Github/Python/100 python/Q084.py\n",
      "/Users/jkchang/Github/Python/100 python/Q012.py\n",
      "/Users/jkchang/Github/Python/100 python/Q043.py\n",
      "/Users/jkchang/Github/Python/100 python/Q053.py\n",
      "/Users/jkchang/Github/Python/100 python/Q002.py\n",
      "/Users/jkchang/Github/Python/100 python/review.py\n",
      "/Users/jkchang/Github/Python/100 python/Q094.py\n",
      "/Users/jkchang/Github/Python/100 python/Q036.py\n",
      "/Users/jkchang/Github/Python/100 python/Q067.py\n",
      "/Users/jkchang/Github/Python/100 python/README.md\n",
      "/Users/jkchang/Github/Python/100 python/Q015.py\n",
      "/Users/jkchang/Github/Python/100 python/Q044.py\n",
      "/Users/jkchang/Github/Python/100 python/Q083.py\n",
      "/Users/jkchang/Github/Python/100 python/Q070.py\n",
      "/Users/jkchang/Github/Python/100 python/Q021.py\n",
      "/Users/jkchang/Github/Python/100 python/Q031.py\n",
      "/Users/jkchang/Github/Python/100 python/Q060.py\n",
      "/Users/jkchang/Github/Python/100 python/Q093.py\n",
      "/Users/jkchang/Github/Python/100 python/Q054.py\n",
      "/Users/jkchang/Github/Python/100 python/Q005.py\n",
      "/Users/jkchang/Github/Python/100 python/Q087.py\n",
      "/Users/jkchang/Github/Python/100 python/Q025.py\n",
      "/Users/jkchang/Github/Python/100 python/Q074.py\n",
      "/Users/jkchang/Github/Python/100 python/Q100.py\n",
      "/Users/jkchang/Github/Python/100 python/Q040.py\n",
      "/Users/jkchang/Github/Python/100 python/Q011.py\n",
      "/Users/jkchang/Github/Python/100 python/Q001.py\n",
      "/Users/jkchang/Github/Python/100 python/Q050.py\n",
      "/Users/jkchang/Github/Python/100 python/Q064.py\n",
      "/Users/jkchang/Github/Python/100 python/Q035.py\n",
      "/Users/jkchang/Github/Python/100 python/Q097.py\n",
      "/Users/jkchang/Github/Python/100 python/Q086.py\n",
      "/Users/jkchang/Github/Python/100 python/Q024.py\n",
      "/Users/jkchang/Github/Python/100 python/Q075.py\n",
      "/Users/jkchang/Github/Python/100 python/Q041.py\n",
      "/Users/jkchang/Github/Python/100 python/Q010.py\n",
      "/Users/jkchang/Github/Python/100 python/Q051.py\n",
      "/Users/jkchang/Github/Python/100 python/Q065.py\n",
      "/Users/jkchang/Github/Python/100 python/Q034.py\n",
      "/Users/jkchang/Github/Python/100 python/Q096.py\n",
      "/Users/jkchang/Github/Python/100 python/Q014.py\n",
      "/Users/jkchang/Github/Python/100 python/Q045.py\n",
      "/Users/jkchang/Github/Python/100 python/Q082.py\n",
      "/Users/jkchang/Github/Python/100 python/Q071.py\n",
      "/Users/jkchang/Github/Python/100 python/Q020.py\n",
      "/Users/jkchang/Github/Python/100 python/Q030.py\n",
      "/Users/jkchang/Github/Python/100 python/Q061.py\n",
      "/Users/jkchang/Github/Python/100 python/Q092.py\n",
      "/Users/jkchang/Github/Python/100 python/Q055.py\n",
      "/Users/jkchang/Github/Python/100 python/Q004.py\n",
      "/Users/jkchang/Github/Python/100 python/Q089.py\n",
      "/Users/jkchang/Github/Python/100 python/Q099.py\n",
      "/Users/jkchang/Github/Python/100 python/Q088.py\n",
      "/Users/jkchang/Github/Python/100 python/Q098.py\n",
      "/Users/jkchang/Github/Python/100 python/.ipynb_checkpoints/Python 100 practices-checkpoint.ipynb\n",
      "/Users/jkchang/Github/Python/100 python/.ipynb_checkpoints/Python 100 interview questions-checkpoint.ipynb\n",
      "/Users/jkchang/Github/Python/100 python/.idea/encodings.xml\n",
      "/Users/jkchang/Github/Python/100 python/.idea/workspace.xml\n",
      "/Users/jkchang/Github/Python/100 python/.idea/100 python.iml\n",
      "/Users/jkchang/Github/Python/100 python/.idea/modules.xml\n",
      "/Users/jkchang/Github/Python/100 python/.idea/misc.xml\n",
      "/Users/jkchang/Github/Python/100 python/.idea/inspectionProfiles/profiles_settings.xml\n"
     ]
    }
   ],
   "source": [
    "import os\n",
    "\n",
    "def print_directory_contents(sPath):\n",
    "    x = [os.path.join(r,file) for r,d,f in os.walk(sPath) for file in f]\n",
    "    return x\n",
    "\n",
    "print('\\n'.join(print_directory_contents(os.getcwd())))"
   ]
  },
  {
   "cell_type": "markdown",
   "metadata": {},
   "source": [
    "### 3. 输入日期， 判断这一天是这一年的第几天？\n"
   ]
  },
  {
   "cell_type": "code",
   "execution_count": 5,
   "metadata": {},
   "outputs": [
    {
     "name": "stdin",
     "output_type": "stream",
     "text": [
      "pls input the year 2019\n",
      "pls input the month 3\n",
      "pls input the day 11\n"
     ]
    },
    {
     "name": "stdout",
     "output_type": "stream",
     "text": [
      "69\n"
     ]
    }
   ],
   "source": [
    "import datetime\n",
    "def dateCount():\n",
    "    year = int(input('pls input the year'))\n",
    "    month = int(input('pls input the month'))\n",
    "    day = int(input('pls input the day'))\n",
    "    date1 = datetime.date(year=year,month=1,day=1)\n",
    "    date2 = datetime.date(year=year, month= month, day= day)\n",
    "    return (date2-date1).days\n",
    "\n",
    "print(dateCount())"
   ]
  },
  {
   "cell_type": "markdown",
   "metadata": {},
   "source": [
    "### 4. 打乱一个有序的List"
   ]
  },
  {
   "cell_type": "code",
   "execution_count": 6,
   "metadata": {},
   "outputs": [
    {
     "name": "stdout",
     "output_type": "stream",
     "text": [
      "[2, 1, 3, 4, 5]\n"
     ]
    }
   ],
   "source": [
    "import random\n",
    "\n",
    "a = [1,2,3,4,5]\n",
    "random.shuffle(a)\n",
    "print(a)"
   ]
  },
  {
   "cell_type": "markdown",
   "metadata": {},
   "source": [
    "### 5. 现有字典 d= {'a':24,'g':52,'i':12,'k':33}请按value值进行排序?"
   ]
  },
  {
   "cell_type": "code",
   "execution_count": 14,
   "metadata": {},
   "outputs": [
    {
     "name": "stdout",
     "output_type": "stream",
     "text": [
      "{'i': 12, 'a': 24, 'k': 33, 'g': 52}\n"
     ]
    }
   ],
   "source": [
    "d= {'a':24,'g':52,'i':12,'k':33}\n",
    "d = dict(sorted(d.items(),key=lambda x: x[1]))\n",
    "print(d)"
   ]
  },
  {
   "cell_type": "markdown",
   "metadata": {},
   "source": [
    "### 6.字典推导式\n",
    "\n",
    "```python\n",
    "d = {key:value for (key,value) in iterable}\n",
    "```"
   ]
  },
  {
   "cell_type": "markdown",
   "metadata": {},
   "source": [
    "### 7.将字符串 \"k:1 |k1:2|k2:3|k3:4\"，处理成字典 {k:1,k1:2,...}"
   ]
  },
  {
   "cell_type": "code",
   "execution_count": 18,
   "metadata": {},
   "outputs": [
    {
     "name": "stdout",
     "output_type": "stream",
     "text": [
      "{'k': 1, 'k1': 2, 'k2': 3, 'k3': 4}\n"
     ]
    }
   ],
   "source": [
    "s = 'k:1 |k1:2|k2:3|k3:4'\n",
    "ele = s.split('|')\n",
    "res = {}\n",
    "for iter in ele:\n",
    "    key,value = iter.strip().split(':')\n",
    "    res[key] = int(value)\n",
    "\n",
    "print(res)"
   ]
  },
  {
   "cell_type": "code",
   "execution_count": 23,
   "metadata": {},
   "outputs": [
    {
     "name": "stdout",
     "output_type": "stream",
     "text": [
      "{'k': 1, 'k1': 2, 'k2': 3, 'k3': 4}\n"
     ]
    }
   ],
   "source": [
    "s = 'k:1 |k1:2|k2:3|k3:4'\n",
    "res = {k:int(v) for k,v in [ x.strip().split(':') for x in s.split('|')] }\n",
    "print(res)"
   ]
  },
  {
   "cell_type": "markdown",
   "metadata": {},
   "source": [
    "### 8. 请反转字符串 \"aStr\""
   ]
  },
  {
   "cell_type": "code",
   "execution_count": 24,
   "metadata": {},
   "outputs": [
    {
     "name": "stdout",
     "output_type": "stream",
     "text": [
      "rtSa\n"
     ]
    }
   ],
   "source": [
    "print('aStr'[::-1])"
   ]
  },
  {
   "cell_type": "markdown",
   "metadata": {},
   "source": [
    "### 9.请按alist中元素的age由大到小排序"
   ]
  },
  {
   "cell_type": "code",
   "execution_count": 29,
   "metadata": {},
   "outputs": [
    {
     "name": "stdout",
     "output_type": "stream",
     "text": [
      "[{'name': 'b', 'age': 30}, {'name': 'c', 'age': 25}, {'name': 'a', 'age': 20}]\n"
     ]
    }
   ],
   "source": [
    "alist = [{'name':'a','age':20},{'name':'b','age':30},{'name':'c','age':25}]\n",
    "\n",
    "def sort_by_age(l):\n",
    "    return sorted(l, key = lambda x: x['age'],reverse = True)\n",
    "\n",
    "print(sort_by_age(alist))"
   ]
  },
  {
   "cell_type": "code",
   "execution_count": 30,
   "metadata": {},
   "outputs": [
    {
     "name": "stdout",
     "output_type": "stream",
     "text": [
      "[]\n"
     ]
    }
   ],
   "source": [
    "list = ['a','b','c','d','e']\n",
    "print(list[10:])"
   ]
  },
  {
   "cell_type": "code",
   "execution_count": null,
   "metadata": {},
   "outputs": [],
   "source": []
  }
 ],
 "metadata": {
  "kernelspec": {
   "display_name": "Python 3",
   "language": "python",
   "name": "python3"
  },
  "language_info": {
   "codemirror_mode": {
    "name": "ipython",
    "version": 3
   },
   "file_extension": ".py",
   "mimetype": "text/x-python",
   "name": "python",
   "nbconvert_exporter": "python",
   "pygments_lexer": "ipython3",
   "version": "3.6.8"
  }
 },
 "nbformat": 4,
 "nbformat_minor": 2
}
