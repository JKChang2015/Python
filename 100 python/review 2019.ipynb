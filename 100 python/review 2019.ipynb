{
 "cells": [
  {
   "cell_type": "markdown",
   "metadata": {},
   "source": [
    "#### Code review in 2019"
   ]
  },
  {
   "cell_type": "code",
   "execution_count": 4,
   "metadata": {},
   "outputs": [
    {
     "data": {
      "text/plain": [
       "[203, 217, 224, 231, 238, 252, 259, 266, 273, 287, 294, 301, 308]"
      ]
     },
     "execution_count": 4,
     "metadata": {},
     "output_type": "execute_result"
    }
   ],
   "source": [
    "# -*- coding: utf-8 -*-\n",
    "# 001\n",
    "# Description: Write a program which will find all such numbers which are divisible by 7 but are not a multiple of 5,\n",
    "#              between 200 and 320 (both included).The numbers obtained should be printed in a comma-separated\n",
    "#              sequence on a single line.\n",
    "\n",
    "\n",
    "def num():\n",
    "    return [x for x in range(200, 321) if x % 7 == 0 and x % 5 != 0]\n",
    "\n",
    "\n",
    "num()"
   ]
  },
  {
   "cell_type": "code",
   "execution_count": 6,
   "metadata": {},
   "outputs": [
    {
     "name": "stdout",
     "output_type": "stream",
     "text": [
      "120\n"
     ]
    }
   ],
   "source": [
    "# 002\n",
    "# Description: Write a program which can compute the factorial of a given numbers.\n",
    "#              The results should be printed in a comma-separated sequence on a single line.\n",
    "#              Suppose the following input is supplied to the program:\n",
    "\n",
    "\n",
    "def factorial(num):\n",
    "    return 1 if (num == 0 or num == 1) else factorial(num - 1) * num\n",
    "\n",
    "\n",
    "print(factorial(5))"
   ]
  },
  {
   "cell_type": "code",
   "execution_count": 7,
   "metadata": {},
   "outputs": [
    {
     "name": "stdout",
     "output_type": "stream",
     "text": [
      "{1: 1, 2: 4, 3: 9, 4: 16, 5: 25}\n"
     ]
    }
   ],
   "source": [
    "# 003\n",
    "# Description: With a given integral number n, write a program to generate a dictionary that contains (i, i*i) such\n",
    "#              that is an integral number between 1 and n (both included). and then the program should print the\n",
    "#              dictionary.\n",
    "\n",
    "\n",
    "def dict_converter(num):\n",
    "    return {x: x**2 for x in range(1, num + 1)}\n",
    "\n",
    "\n",
    "print(dict_converter(5))"
   ]
  },
  {
   "cell_type": "code",
   "execution_count": 8,
   "metadata": {},
   "outputs": [
    {
     "name": "stdout",
     "output_type": "stream",
     "text": [
      "('12', '23', '45', '68', '21', '43', '87')\n"
     ]
    }
   ],
   "source": [
    "# 004\n",
    "# Description: Write a program which accepts a sequence of comma-separated numbers from console and generate a list\n",
    "#              and a tuple which contains every number.\n",
    "\n",
    "\n",
    "def split_tuple(s):\n",
    "    return tuple(s.split(','))\n",
    "\n",
    "\n",
    "print(split_tuple('12,23,45,68,21,43,87'))"
   ]
  },
  {
   "cell_type": "code",
   "execution_count": 15,
   "metadata": {},
   "outputs": [
    {
     "name": "stdout",
     "output_type": "stream",
     "text": [
      "information\n",
      "INFORMATION\n"
     ]
    }
   ],
   "source": [
    "# 005\n",
    "# # Description: Define a class which has at least two methods:\n",
    "#                getString: to get a string from console input # printString: to print the string in upper case.\n",
    "#                Also please include simple test function to test the class methods.\n",
    "\n",
    "\n",
    "class foo(object):\n",
    "    def __init__(self):\n",
    "        self.s = ' '\n",
    "\n",
    "    def getString(self):\n",
    "        self.s = input()\n",
    "\n",
    "    def printString(self):\n",
    "        print(self.s.upper())\n",
    "\n",
    "\n",
    "if __name__ == '__main__':\n",
    "    f = foo()\n",
    "    f.getString()\n",
    "    f.printString()"
   ]
  },
  {
   "cell_type": "code",
   "execution_count": 24,
   "metadata": {},
   "outputs": [
    {
     "name": "stdout",
     "output_type": "stream",
     "text": [
      "4,100\n",
      "4\n",
      "18\n"
     ]
    }
   ],
   "source": [
    "# 006\n",
    "# Description: Write a program that calculates and prints the value according to the given formula:\n",
    "#                       Q = Square root of [(2 * C * D)/H]\n",
    "#              Following are the fixed values of C and H: C is 50. H is 30.\n",
    "#              D is the variable whose values should be input to your program in a comma-separated sequence.\n",
    "\n",
    "import math\n",
    "\n",
    "\n",
    "def converter(D):\n",
    "    C, H = 50, 30\n",
    "    return int(round(math.sqrt(2 * C * D / H)))\n",
    "\n",
    "\n",
    "d = [int(x) for x in input().split(',')]\n",
    "for num in d:\n",
    "    print(converter(num))"
   ]
  },
  {
   "cell_type": "code",
   "execution_count": 30,
   "metadata": {},
   "outputs": [
    {
     "name": "stdout",
     "output_type": "stream",
     "text": [
      "pls input X and Y: 2,3\n",
      "[[0, 0, 0], [0, 1, 2]]\n"
     ]
    }
   ],
   "source": [
    "# 007\n",
    "# Description: Write a program which takes 2 digits, X,Y as input and generates a 2-dimensional array. The element\n",
    "#              value in the i-th row and j-th column of the array should be i*j.\n",
    "#              Note: i=0,1.., X-1; j=0,1 !=Y-1.\n",
    "\n",
    "dimensions = input('pls input X and Y: ').split(',')\n",
    "x = int(dimensions[0])\n",
    "y = int(dimensions[1])\n",
    "\n",
    "res = [[0 for col in range(y)] for row in range(x)]\n",
    "for row in range(x):\n",
    "    for col in range(y):\n",
    "        res[row][col] = row * col\n",
    "print(res)"
   ]
  },
  {
   "cell_type": "code",
   "execution_count": 32,
   "metadata": {},
   "outputs": [
    {
     "name": "stdout",
     "output_type": "stream",
     "text": [
      "Milk,David,zoo,Mike,Zoe\n",
      "David,Mike,Milk,Zoe,zoo\n"
     ]
    }
   ],
   "source": [
    "# 008\n",
    "# Description: Write a program that accepts a comma separated sequence of words as input and prints the words in a\n",
    "#              comma-separated sequence after sorting them alphabetically.\n",
    "\n",
    "seq = input().split(',')\n",
    "print(','.join(sorted(seq, key=lambda s: s.strip().lower())))"
   ]
  },
  {
   "cell_type": "code",
   "execution_count": 36,
   "metadata": {},
   "outputs": [
    {
     "name": "stdout",
     "output_type": "stream",
     "text": [
      "Happy to share fuel costs.\n",
      "Happy costs. fuel share to\n"
     ]
    }
   ],
   "source": [
    "# 010\n",
    "# Description: Write a program that accepts a sequence of whitespace separated words as input and prints the words\n",
    "#              after removing all duplicate words and sorting them alphanumerically.\n",
    "\n",
    "def fun(l):\n",
    "    return sorted(set(l))\n",
    "\n",
    "l = input().split()\n",
    "print(' '.join(fun(l)))"
   ]
  },
  {
   "cell_type": "code",
   "execution_count": 41,
   "metadata": {},
   "outputs": [
    {
     "name": "stdout",
     "output_type": "stream",
     "text": [
      "4 digit binary numbers: 1001,1111,1101,0011\n",
      "1111,0011\n"
     ]
    }
   ],
   "source": [
    "# 011\n",
    "# Description: Write a program which accepts a sequence of comma separated 4 digit binary numbers as its input and\n",
    "#              then check whether they are divisible by 5 or not. The numbers that are divisible by 5 are to be\n",
    "#              printed in a comma separated sequence.\n",
    "\n",
    "def fun(bi_num):\n",
    "    dex_x = int(bi_num,2)\n",
    "    return True if dex_x%5==0 else False\n",
    "\n",
    "bi_nums = input('4 digit binary numbers: ').split(',')\n",
    "\n",
    "for bi_num in bi_nums:\n",
    "    if not fun(bi_num):\n",
    "        bi_nums.remove(bi_num)\n",
    "\n",
    "print(','.join(bi_nums))"
   ]
  },
  {
   "cell_type": "code",
   "execution_count": 57,
   "metadata": {},
   "outputs": [
    {
     "name": "stdout",
     "output_type": "stream",
     "text": [
      "[200, 202, 204, 206, 208, 220, 222, 224, 226, 228, 240, 242, 244, 246, 248, 260, 262, 264, 266, 268, 280, 282, 284, 286, 288]\n"
     ]
    }
   ],
   "source": [
    "# 012\n",
    "# Description: Write a program, which will find all such numbers between 100 and 300 (both included) such that each\n",
    "#              digit of the number is an even number. The numbers obtained should be printed in a comma-separated\n",
    "#              sequence on a single line.\n",
    "\n",
    "\n",
    "def fun():\n",
    "    return [\n",
    "        x for x in range(100, 300)\n",
    "        if all([int(digit) % 2 == 0 for digit in str(x)])\n",
    "    ]\n",
    "\n",
    "\n",
    "print(fun())"
   ]
  },
  {
   "cell_type": "code",
   "execution_count": 59,
   "metadata": {},
   "outputs": [
    {
     "name": "stdout",
     "output_type": "stream",
     "text": [
      "{'DIGITS': 3, 'LETTERS': 17}\n"
     ]
    }
   ],
   "source": [
    "# 013\n",
    "# Description: Write a program that accepts a sentence and calculate the number of letters and digits.\n",
    "# s = raw_input('please input sequence of text:')\n",
    "# d = {'DIGITS': 0, 'LETTERS': 0}\n",
    "\n",
    "\n",
    "def count(s):\n",
    "    digit_count = sum(c.isdigit() for c in s)\n",
    "    letter_count = sum(c.isalpha() for c in s)\n",
    "    return {'DIGITS': digit_count, 'LETTERS': letter_count}\n",
    "\n",
    "\n",
    "print(count('akdjflkaj232lajdlkja'))"
   ]
  },
  {
   "cell_type": "code",
   "execution_count": 63,
   "metadata": {},
   "outputs": [
    {
     "name": "stdout",
     "output_type": "stream",
     "text": [
      "{'LOWER': 13, 'UPPER': 5}\n"
     ]
    }
   ],
   "source": [
    "# 014\n",
    "# Description: Write a program that accepts a sentence and calculate the number of upper case letters and lower case\n",
    "#              letters.\n",
    "\n",
    "\n",
    "def count(s):\n",
    "    lower_count = sum(c.islower() for c in s)\n",
    "    upper_count = sum(c.isupper() for c in s)\n",
    "    return {'LOWER': lower_count, 'UPPER': upper_count}\n",
    "\n",
    "\n",
    "print(count('DaividlkfjlkajDEOI'))"
   ]
  },
  {
   "cell_type": "code",
   "execution_count": 64,
   "metadata": {},
   "outputs": [
    {
     "name": "stdout",
     "output_type": "stream",
     "text": [
      "6170\n"
     ]
    }
   ],
   "source": [
    "# 015\n",
    "# Description: Write a program that computes the value of a+aa+aaa+aaaa with a given digit as the value of\n",
    "\n",
    "\n",
    "def sum_star(num):\n",
    "    return num + int(str(num) * 2) + int(str(num) * 3) + int(str(num) * 4)\n",
    "\n",
    "\n",
    "print(sum_star(5))"
   ]
  },
  {
   "cell_type": "code",
   "execution_count": 67,
   "metadata": {},
   "outputs": [
    {
     "name": "stdout",
     "output_type": "stream",
     "text": [
      "32,23,42,2,32,4,5\n",
      "{23: 529, 5: 25}\n"
     ]
    }
   ],
   "source": [
    "# 016\n",
    "# Description: Use a list comprehension to square each odd number in a list. The list is input by a sequence of\n",
    "#              comma-separated numbers.\n",
    "\n",
    "\n",
    "def fun(l_num):\n",
    "    return {x: x**2 for x in l_num if x % 2 != 0}\n",
    "\n",
    "\n",
    "i = [int(x) for x in input().split(',')]\n",
    "print(fun(i))"
   ]
  },
  {
   "cell_type": "code",
   "execution_count": 71,
   "metadata": {},
   "outputs": [
    {
     "name": "stdout",
     "output_type": "stream",
     "text": [
      "D:deposit and W:withdrawal \n",
      "D 200\n",
      "D:deposit and W:withdrawal \n",
      "W 100\n",
      "D:deposit and W:withdrawal \n",
      "\n",
      "100\n"
     ]
    }
   ],
   "source": [
    "# 017\n",
    "# Description: Write a program that computes the net amount of a bank account based a transaction log from console input.\n",
    "#              The transaction log format is shown as following:\n",
    "# D 100\n",
    "# W 200\n",
    "# D means deposit while W means withdrawal.\n",
    "\n",
    "res = 0\n",
    "\n",
    "while True:\n",
    "    s = input('D:deposit and W:withdrawal \\n')\n",
    "    if not s:\n",
    "        break\n",
    "\n",
    "    value = s.split(' ')\n",
    "    operation = value[0]\n",
    "    amount = value[1]\n",
    "\n",
    "    if operation == 'D':\n",
    "        res += int(amount)\n",
    "    elif operation == 'W':\n",
    "        res -= int(amount)\n",
    "    else:\n",
    "        pass\n",
    "\n",
    "print(res)"
   ]
  },
  {
   "cell_type": "code",
   "execution_count": 83,
   "metadata": {},
   "outputs": [
    {
     "name": "stdout",
     "output_type": "stream",
     "text": [
      "ABd1234@1,a F1#,2w3E*,2We3345,Bypass#1\n",
      "ABd1234@1,Bypass#1\n"
     ]
    }
   ],
   "source": [
    "# 018\n",
    "# Description: A website requires the users to input username and password to register. Write a program to check the\n",
    "#              validity of password input by users.\n",
    "#\n",
    "# Following are the criteria for checking the password:\n",
    "# 1. At least 1 letter between [a-z]\n",
    "# 2. At least 1 number between [0-9]\n",
    "# 1. At least 1 letter between [A-Z]\n",
    "# 3. At least 1 character from [$#@]\n",
    "# 4. Minimum length of transaction password: 6\n",
    "# 5. Maximum length of transaction password: 12\n",
    "# Your program should accept a sequence of comma separated passwords and will check them according to the above criteria.\n",
    "#     Passwords that match the criteria are to be printed, each separated by a comma.\n",
    "\n",
    "import string\n",
    "\n",
    "\n",
    "def psw_check(psw):\n",
    "    l = list(psw)\n",
    "    if any(set(psw) & set(string.ascii_lowercase)) \\\n",
    "    and any(set(psw) & set(string.ascii_uppercase)) \\\n",
    "    and any(set(psw) & set(string.digits)) \\\n",
    "    and any(set(psw) & set(['$','#','@']))  \\\n",
    "    and len(psw) >6 and len(psw) < 12:\n",
    "        return True\n",
    "    else:\n",
    "        return False\n",
    "\n",
    "passwords = input().split(',')\n",
    "print(','.join([x for x in passwords if psw_check(x)]))"
   ]
  },
  {
   "cell_type": "code",
   "execution_count": 85,
   "metadata": {},
   "outputs": [
    {
     "name": "stdout",
     "output_type": "stream",
     "text": [
      "Amy 43 231\n",
      "David 18 342\n",
      "David 19 202\n",
      "David 19 203\n",
      "Mike 23 100\n"
     ]
    }
   ],
   "source": [
    "# 019\n",
    "# Description: You are required to write a program to sort the (name, age, height) tuples by ascending order where name\n",
    "#              is string, age and height are numbers. The tuples are input by console. The sort criteria is:\n",
    "# 1: Sort based on name;\n",
    "# 2: Then sort based on age;\n",
    "# 3: Then sort by score.\n",
    "# The priority is that name > age > score.\n",
    "\n",
    "from operator import attrgetter\n",
    "\n",
    "\n",
    "class people():\n",
    "    def __init__(self, name, age, score):\n",
    "        self.name = name\n",
    "        self.age = age\n",
    "        self.score = score\n",
    "\n",
    "\n",
    "# sort according to object properties\n",
    "def priority_sort(l) -> list:\n",
    "    res = sorted(l, key=attrgetter('name', 'age', 'score'))\n",
    "    return res\n",
    "\n",
    "\n",
    "p1 = people('David', 19, 203)\n",
    "p2 = people('Mike', 23, 100)\n",
    "p3 = people('David', 19, 202)\n",
    "p4 = people('David', 18, 342)\n",
    "p5 = people('Amy', 43, 231)\n",
    "\n",
    "p = [p1, p2, p3, p4, p5]\n",
    "res = priority_sort(p)\n",
    "\n",
    "for r in res:\n",
    "    print(r.name, str(r.age), str(r.score))"
   ]
  },
  {
   "cell_type": "code",
   "execution_count": null,
   "metadata": {},
   "outputs": [],
   "source": []
  }
 ],
 "metadata": {
  "kernelspec": {
   "display_name": "Python 3",
   "language": "python",
   "name": "python3"
  },
  "language_info": {
   "codemirror_mode": {
    "name": "ipython",
    "version": 3
   },
   "file_extension": ".py",
   "mimetype": "text/x-python",
   "name": "python",
   "nbconvert_exporter": "python",
   "pygments_lexer": "ipython3",
   "version": "3.7.5"
  }
 },
 "nbformat": 4,
 "nbformat_minor": 2
}
