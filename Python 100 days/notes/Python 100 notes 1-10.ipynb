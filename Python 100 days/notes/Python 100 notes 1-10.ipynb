{
 "cells": [
  {
   "cell_type": "markdown",
   "metadata": {},
   "source": [
    "# Python 100 notes"
   ]
  },
  {
   "cell_type": "markdown",
   "metadata": {},
   "source": [
    "## Day01 - 初识Python"
   ]
  },
  {
   "cell_type": "markdown",
   "metadata": {},
   "source": [
    "#### Python的优缺点\n",
    "\n",
    "Python的优点很多，简单的可以总结为以下几点。\n",
    "\n",
    "1. 简单和明确，做一件事只有一种方法。\n",
    "2. 学习曲线低，与其他很多语言比上手更容易。\n",
    "3. 开放源代码，拥有强大的社区和生态圈。\n",
    "4. 解释型语言，完美的平台可移植性。\n",
    "5. 支持两种主流的编程范式，可以使用面向对象和函数式编程。\n",
    "6. 可扩展性和可嵌入性，可以调用C/C++代码也可以在C/C++中调用。\n",
    "7. 代码规范程度高，可读性强，适合有代码洁癖和强迫症的人群。\n",
    "\n",
    "Python的缺点主要集中在以下几点。\n",
    "\n",
    "1. 执行效率低下，因此计算密集型任务可以由C/C++编写。\n",
    "2. 代码无法加密，但是现在的公司很多都不是卖软件而是卖服务，这个问题慢慢会淡化。\n",
    "3. 在开发时可以选择的框架太多，有选择的地方就有错误。"
   ]
  },
  {
   "cell_type": "markdown",
   "metadata": {},
   "source": [
    "#### Sublime - 文本编辑神器\n",
    "\n",
    "![](./res/python-sublime.png)\n",
    "\n",
    "- 首先可以通过[官方网站](https://www.sublimetext.com/)下载安装程序安装Sublime 3或Sublime 2。\n",
    "\n",
    "- 安装包管理工具。通过快捷键Ctrl+`或者在View菜单中选择Show Console打开控制台，输入下面的代码。\n",
    "\n",
    "\n",
    "\n",
    "- Sublime 3\n",
    "\n",
    "  ```Python\n",
    "  import  urllib.request,os;pf='Package Control.sublime-package';ipp=sublime.installed_packages_path();urllib.request.install_opener(urllib.request.build_opener(urllib.request.ProxyHandler()));open(os.path.join(ipp,pf),'wb').write(urllib.request.urlopen('http://sublime.wbond.net/'+pf.replace(' ','%20')).read())\n",
    "  ```\n",
    "\n",
    "- Sublime 2\n",
    "\n",
    "  ```Python\n",
    "  import  urllib2,os;pf='Package Control.sublime-package';ipp=sublime.installed_packages_path();os.makedirs(ipp)ifnotos.path.exists(ipp)elseNone;urllib2.install_opener(urllib2.build_opener(urllib2.ProxyHandler()));open(os.path.join(ipp,pf),'wb').write(urllib2.urlopen('http://sublime.wbond.net/'+pf.replace(' ','%20')).read());print('Please restart Sublime Text to finish installation')\n",
    "  ```\n",
    "\n",
    "- 安装插件。通过Preference菜单的Package Control或快捷键Ctrl+Shift+P打开命令面板，在面板中输入Install Package就可以找到安装插件的工具，然后再查找需要的插件。我们推荐大家安装以下几个插件。\n",
    "\n",
    "  - SublimeCodeIntel - 代码自动补全工具插件\n",
    "  - Emmet - 前端开发代码模板插件\n",
    "  - Git - 版本控制工具插件\n",
    "  - Python PEP8 Autoformat - PEP8规范自动格式化插件\n",
    "  - ConvertToUTF8 - 将本地编码转换为UTF-8"
   ]
  },
  {
   "cell_type": "code",
   "execution_count": 1,
   "metadata": {},
   "outputs": [
    {
     "name": "stdout",
     "output_type": "stream",
     "text": [
      "hello, world!\n",
      "hello, world!goodbye, world!\n"
     ]
    }
   ],
   "source": [
    "print('hello, world!')\n",
    "print('hello', 'world', sep=', ', end='!')\n",
    "print('goodbye, world', end='!\\n')"
   ]
  },
  {
   "cell_type": "markdown",
   "metadata": {},
   "source": [
    "## Day02 - 语言元素"
   ]
  },
  {
   "cell_type": "markdown",
   "metadata": {},
   "source": [
    "#### 变量和类型\n",
    "\n",
    "在程序设计中，变量是一种存储数据的载体。计算机中的变量是实际存在的数据或者说是存储器中存储数据的一块内存空间，变量的值可以被读取和修改，这是所有计算和控制的基础。计算机能处理的数据有很多中类型，除了数值之外还可以处理文本、图形、音频、视频等各种各样的数据，那么不同的数据就需要定义不同的存储类型。Python中的数据类型很多，而且也允许我们自定义新的数据类型（这一点在后面会讲到），我们先介绍几种常用的数据类型。\n",
    "\n",
    "- 整型：Python中可以处理任意大小的整数（Python 2.x中有int和long两种类型的整数，但这种区分对Python来说意义不大，因此在Python 3.x中整数只有int这一种了），而且支持二进制（如`0b100`，换算成十进制是4）、八进制（如`0o100`，换算成十进制是64）、十进制（`100`）和十六进制（`0x100`，换算成十进制是256）的表示法。\n",
    "- 浮点型：浮点数也就是小数，之所以称为浮点数，是因为按照科学记数法表示时，一个浮点数的小数点位置是可变的，浮点数除了数学写法（如`123.456`）之外还支持科学计数法（如`1.23456e2`）。\n",
    "- 字符串型：字符串是以单引号或双引号括起来的任意文本，比如`'hello'`和`\"hello\"`,字符串还有原始字符串表示法、字节字符串表示法、Unicode字符串表示法，而且可以书写成多行的形式（用三个单引号或三个双引号开头，三个单引号或三个双引号结尾）。\n",
    "- 布尔型：布尔值只有`True`、`False`两种值，要么是`True`，要么是`False`，在Python中，可以直接用`True`、`False`表示布尔值（请注意大小写），也可以通过布尔运算计算出来（例如`3 < 5`会产生布尔值`True`，而`2 == 1`会产生布尔值`False`）。\n",
    "- 复数型：形如`3+5j`，跟数学上的复数表示一样，唯一不同的是虚部的i换成了j。"
   ]
  },
  {
   "cell_type": "markdown",
   "metadata": {},
   "source": [
    "#### 变量命名\n",
    "\n",
    "对于每个变量我们需要给它取一个名字，就如同我们每个人都有属于自己的响亮的名字一样。在Python中，变量命名需要遵循以下这些必须遵守硬性规则和强烈建议遵守的非硬性规则。\n",
    "\n",
    "- 硬性规则：\n",
    "  - 变量名由字母（广义的Unicode字符，不包括特殊字符）、数字和下划线构成，数字不能开头。\n",
    "  - 大小写敏感（大写的`a`和小写的`A`是两个不同的变量）。\n",
    "  - 不要跟关键字（有特殊含义的单词，后面会讲到）和系统保留字（如函数、模块等的名字）冲突。\n",
    "- PEP 8要求：\n",
    "  - 用小写字母拼写，多个单词用下划线连接。\n",
    "  - 受保护的实例属性用单个下划线开头。\n",
    "  - 私有的实例属性用两个下划线开头。"
   ]
  },
  {
   "cell_type": "code",
   "execution_count": 5,
   "metadata": {},
   "outputs": [
    {
     "name": "stdout",
     "output_type": "stream",
     "text": [
      "21 + 5 = 26\n",
      "21 - 5 = 16\n",
      "21 * 5 = 105\n",
      "21 / 5 = 4.200000\n",
      "21 // 5 = 4\n",
      "21 % 5 = 1\n",
      "21 ** 5 = 4084101\n"
     ]
    }
   ],
   "source": [
    "a = 21\n",
    "b = 5\n",
    "\n",
    "print('%d + %d = %d' % (a, b, a + b))\n",
    "print('%d - %d = %d' % (a, b, a - b))\n",
    "print('%d * %d = %d' % (a, b, a * b))\n",
    "print('%d / %d = %f' % (a, b, a / b))\n",
    "print('%d // %d = %d' % (a, b, a // b))\n",
    "print('%d %% %d = %d' % (a, b, a % b))\n",
    "print('%d ** %d = %d' % (a, b, a ** b))"
   ]
  },
  {
   "cell_type": "code",
   "execution_count": 6,
   "metadata": {},
   "outputs": [
    {
     "name": "stdout",
     "output_type": "stream",
     "text": [
      "<class 'int'>\n",
      "<class 'float'>\n",
      "<class 'complex'>\n",
      "<class 'str'>\n",
      "<class 'bool'>\n"
     ]
    }
   ],
   "source": [
    "a = 100\n",
    "b = 12.345\n",
    "c = 1 + 5j\n",
    "d = 'hello, world'\n",
    "e = True\n",
    "print(type(a))\n",
    "print(type(b))\n",
    "print(type(c))\n",
    "print(type(d))\n",
    "print(type(e))"
   ]
  },
  {
   "cell_type": "markdown",
   "metadata": {},
   "source": [
    "### 运算符\n",
    "\n",
    "Python支持多种运算符，下表大致按照优先级从高到低的顺序列出了所有的运算符，我们会陆续使用到它们。\n",
    "\n",
    "| 运算符                                                       | 描述                           |\n",
    "| ------------------------------------------------------------ | ------------------------------ |\n",
    "| `[]` `[:]`                                                   | 下标，切片                     |\n",
    "| `**`                                                         | 指数                           |\n",
    "| `~` `+` `-`                                                  | 按位取反, 正负号               |\n",
    "| `*` `/` `%` `//`                                             | 乘，除，模，整除               |\n",
    "| `+` `-`                                                      | 加，减                         |\n",
    "| `>>` `<<`                                                    | 右移，左移                     |\n",
    "| `&`                                                          | 按位与                         |\n",
    "| `^` &#124;                                                  | 按位异或，按位或               |\n",
    "| `<=` `<` `>` `>=`                                            | 小于等于，小于，大于，大于等于 |\n",
    "| `==` `!=`                                                    | 等于，不等于                   |\n",
    "| `is`  `is not`                                               | 身份运算符                     |\n",
    "| `in` `not in`                                                | 成员运算符                     |\n",
    "| `not` `or` `and`                                             | 逻辑运算符                     |\n",
    "| `=` `+=` `-=` `*=` `/=` `%=` `//=` `**=` `&=`  `^=` `>>=` `<<=` | （复合）赋值运算符             |\n",
    "\n",
    ">**说明：**在实际开发中，如果搞不清楚优先级可以使用括号来确保运算的执行顺序。"
   ]
  },
  {
   "cell_type": "code",
   "execution_count": 11,
   "metadata": {},
   "outputs": [
    {
     "name": "stdout",
     "output_type": "stream",
     "text": [
      "a += b, a= 15\n",
      "a -= c, a= 12\n",
      "a *= d, a= 48\n",
      "a /= e, a= 9.6\n"
     ]
    }
   ],
   "source": [
    "a = 5\n",
    "b = 10\n",
    "c = 3\n",
    "d = 4\n",
    "e = 5\n",
    "a += b\n",
    "print('a += b, a=',a)\n",
    "a -= c\n",
    "print('a -= c, a=',a)\n",
    "a *= d\n",
    "print('a *= d, a=',a)\n",
    "a /= e\n",
    "print('a /= e, a=',a)\n"
   ]
  },
  {
   "cell_type": "markdown",
   "metadata": {},
   "source": [
    "##### Exercise\n",
    "##### 练习1：华氏温度转摄氏温度。\n",
    "将华氏温度转换为摄氏温度\n",
    "F = 1.8C + 32"
   ]
  },
  {
   "cell_type": "code",
   "execution_count": 12,
   "metadata": {},
   "outputs": [
    {
     "name": "stdout",
     "output_type": "stream",
     "text": [
      "pls input Fahrenheit： 100\n",
      "100.000 F = 37.778 C\n"
     ]
    }
   ],
   "source": [
    "f = float(input('pls input Fahrenheit： '))\n",
    "c = (f - 32) / 1.8\n",
    "print('%.3f F = %.3f C' % (f, c))"
   ]
  },
  {
   "cell_type": "markdown",
   "metadata": {},
   "source": [
    "##### 练习2：输入圆的半径计算计算周长和面积。"
   ]
  },
  {
   "cell_type": "code",
   "execution_count": 14,
   "metadata": {},
   "outputs": [
    {
     "name": "stdout",
     "output_type": "stream",
     "text": [
      "pls input radius: 10\n",
      "Perimeter = 62.83185307179586\n",
      "Area =  314.1592653589793\n"
     ]
    }
   ],
   "source": [
    "import math\n",
    "radius = float(input('pls input radius: '))\n",
    "perimeter = 2 * math.pi * radius\n",
    "area = math.pi * (radius**2)\n",
    "print('Perimeter =', perimeter)\n",
    "print('Area = ', area)"
   ]
  },
  {
   "cell_type": "markdown",
   "metadata": {},
   "source": [
    "##### 练习3：输入年份判断是不是闰年。\n",
    "输入年份 如果是闰年输出True 否则输出False"
   ]
  },
  {
   "cell_type": "code",
   "execution_count": 15,
   "metadata": {},
   "outputs": [
    {
     "name": "stdout",
     "output_type": "stream",
     "text": [
      "pls input a year2008\n",
      "True\n"
     ]
    }
   ],
   "source": [
    "year = int(input('pls input a year'))\n",
    "is_leap = (year % 4 == 0 and year % 100 != 0 or year % 400 == 0)\n",
    "print(is_leap)"
   ]
  },
  {
   "cell_type": "markdown",
   "metadata": {},
   "source": [
    "## Day03 - 分支结构"
   ]
  },
  {
   "cell_type": "markdown",
   "metadata": {},
   "source": [
    "#### if语句的使用\n",
    "在Python中，要构造分支结构可以使用`if`、`elif`和`else`关键字。所谓关键字就是有特殊含义的单词，像`if`和`else`就是专门用于构造分支结构的关键字.\n",
    "例如："
   ]
  },
  {
   "cell_type": "markdown",
   "metadata": {},
   "source": [
    "$$f(x)=\\begin{cases} 3x-5&\\text{(x>1)}\\\\x+2&\\text{(-1}\\leq\\text{x}\\leq\\text{1)}\\\\5x+3&\\text {(x<-1)}\\end{cases}$$"
   ]
  },
  {
   "cell_type": "code",
   "execution_count": 23,
   "metadata": {},
   "outputs": [
    {
     "name": "stdout",
     "output_type": "stream",
     "text": [
      "x = 1\n",
      "f(1.00) = 3.00\n"
     ]
    }
   ],
   "source": [
    "x = float(input('x = '))\n",
    "if x > 1:\n",
    "    y = 3*x - 5\n",
    "elif x >=-1 and x <= 1:\n",
    "    y = x + 2\n",
    "else:\n",
    "    y = 5*x + 3\n",
    "\n",
    "print('f(%.2f) = %.2f' %(x,y))\n"
   ]
  },
  {
   "cell_type": "markdown",
   "metadata": {},
   "source": [
    "##### Exercise\n",
    "##### 练习1：百分制成绩转等级制成绩\n",
    "90分以上    --> A <br>\n",
    "80分~89分    --> B <br>\n",
    "70分~79分\t   --> C <br>\n",
    "60分~69分    --> D <br>\n",
    "60分以下    --> E <br>"
   ]
  },
  {
   "cell_type": "code",
   "execution_count": 29,
   "metadata": {},
   "outputs": [
    {
     "name": "stdout",
     "output_type": "stream",
     "text": [
      "请输入成绩: 23\n",
      "your grade is:  E\n"
     ]
    }
   ],
   "source": [
    "score = float(input('请输入成绩: '))\n",
    "if score >= 90:\n",
    "    grade = 'A'\n",
    "elif score >= 80:\n",
    "    grade = 'B'\n",
    "elif score >= 70:\n",
    "    grade = 'C'\n",
    "elif score >= 60:\n",
    "    grade = 'D'\n",
    "else:\n",
    "    grade = 'E'\n",
    "\n",
    "print('your grade is: ', grade)"
   ]
  },
  {
   "cell_type": "markdown",
   "metadata": {},
   "source": [
    "##### 练习4：输入三条边长如果能构成三角形就计算周长和面积"
   ]
  },
  {
   "cell_type": "code",
   "execution_count": 30,
   "metadata": {},
   "outputs": [
    {
     "name": "stdout",
     "output_type": "stream",
     "text": [
      "a = 3\n",
      "b = 4\n",
      "c = 5\n",
      "perimeter: 12.00\n",
      "area: 6.00\n"
     ]
    }
   ],
   "source": [
    "import math\n",
    "\n",
    "a = float(input('a = '))\n",
    "b = float(input('b = '))\n",
    "c = float(input('c = '))\n",
    "\n",
    "if a+b >c and a+c >b and b+c >a:\n",
    "    print('perimeter: %.2f' %(a+b+c))\n",
    "    p = (a+b+c) /2\n",
    "    area = math.sqrt(p*(p-a)*(p-b)*(p-c))\n",
    "    print('area: %.2f'%area)\n",
    "else:\n",
    "    print(\"It's not a trangle\")"
   ]
  },
  {
   "cell_type": "code",
   "execution_count": null,
   "metadata": {},
   "outputs": [],
   "source": []
  }
 ],
 "metadata": {
  "kernelspec": {
   "display_name": "Python 3",
   "language": "python",
   "name": "python3"
  },
  "language_info": {
   "codemirror_mode": {
    "name": "ipython",
    "version": 3
   },
   "file_extension": ".py",
   "mimetype": "text/x-python",
   "name": "python",
   "nbconvert_exporter": "python",
   "pygments_lexer": "ipython3",
   "version": "3.6.5"
  }
 },
 "nbformat": 4,
 "nbformat_minor": 2
}
