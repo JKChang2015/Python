{
 "cells": [
  {
   "cell_type": "markdown",
   "metadata": {},
   "source": [
    "## Day06 - 函数"
   ]
  },
  {
   "cell_type": "markdown",
   "metadata": {},
   "source": [
    "在Python中可以使用def关键字来定义函数，和变量一样每个函数也有一个响亮的名字，而且命名规则跟变量的命名规则是一致的。在函数名后面的圆括号中可以放置传递给函数的参数，这一点和数学上的函数非常相似，程序中函数的参数就相当于是数学上说的函数的自变量，而函数执行完成后我们可以通过return关键字来返回一个值，这相当于数学上说的函数的因变量。"
   ]
  },
  {
   "cell_type": "code",
   "execution_count": 3,
   "metadata": {},
   "outputs": [
    {
     "name": "stdin",
     "output_type": "stream",
     "text": [
      "m= 10\n"
     ]
    },
    {
     "name": "stdout",
     "output_type": "stream",
     "text": [
      "3628800\n"
     ]
    }
   ],
   "source": [
    "%load_ext lab_black\n",
    "def factorial(num):\n",
    "    result = 1\n",
    "    for n in range(1, num + 1):\n",
    "        result *= n\n",
    "    return result\n",
    "\n",
    "\n",
    "m = int(input(\"m=\"))\n",
    "print(factorial(m))"
   ]
  },
  {
   "cell_type": "markdown",
   "metadata": {},
   "source": [
    "### 函数的参数\n",
    "\n",
    "* Python函数的参数可以有默认值\n",
    "* Python函数也支持可变参数\n",
    "* 不像其他语言支持函数的重载"
   ]
  },
  {
   "cell_type": "code",
   "execution_count": 7,
   "metadata": {},
   "outputs": [
    {
     "name": "stdout",
     "output_type": "stream",
     "text": [
      "10\n",
      "17\n"
     ]
    }
   ],
   "source": [
    "from random import randint\n",
    "\n",
    "\n",
    "def roll_dice(n=2):\n",
    "    # n = time to roll\n",
    "    # return total number\n",
    "\n",
    "    total = 0\n",
    "    for _ in range(n):\n",
    "        total += randint(1, 6)\n",
    "    return total\n",
    "\n",
    "\n",
    "print(roll_dice())\n",
    "print(roll_dice(3))"
   ]
  },
  {
   "cell_type": "markdown",
   "metadata": {},
   "source": [
    "Python函数可以设置默认参数，当调用时如果空着，则直接使用默认参数。否则代替原有默认参数"
   ]
  },
  {
   "cell_type": "code",
   "execution_count": 13,
   "metadata": {},
   "outputs": [
    {
     "name": "stdout",
     "output_type": "stream",
     "text": [
      "10\n",
      "13\n",
      "6\n",
      "6\n"
     ]
    }
   ],
   "source": [
    "def add(a=0, b=0, c=10):\n",
    "    return a + b + c\n",
    "\n",
    "\n",
    "print(add())  # default a=0, b=0, c=10\n",
    "print(add(1, 2))  # a=1 b=2 c=10\n",
    "print(add(1, 2, 3))  # a=1 b=2 c=3\n",
    "print(add(a=1, c=5))  # a=1 b=0 c=6"
   ]
  },
  {
   "cell_type": "code",
   "execution_count": 19,
   "metadata": {},
   "outputs": [
    {
     "name": "stdout",
     "output_type": "stream",
     "text": [
      "0\n",
      "3\n",
      "3\n",
      "6\n",
      "55\n"
     ]
    }
   ],
   "source": [
    "# uncertain number of parameters\n",
    "def add(*args):\n",
    "    total = 0\n",
    "    for val in args:\n",
    "        total += val\n",
    "    return total\n",
    "\n",
    "\n",
    "print(add())\n",
    "print(add(3))\n",
    "print(add(1, 2))\n",
    "print(add(1, 2, 3))\n",
    "print(add(1, 2, 3, 4, 45))"
   ]
  },
  {
   "cell_type": "markdown",
   "metadata": {},
   "source": [
    "#### main 函数\n",
    "\n",
    "\\_\\_name\\_\\_ 是Python中一个隐含的变量它代表了模块的名字\n",
    "只有被Python解释器直接执行的模块的名字才是\\_\\_main\\_\\_\n",
    "\n",
    "```python\n",
    "def foo():\n",
    "    pass\n",
    "\n",
    "\n",
    "def bar():\n",
    "    pass\n",
    "\n",
    "if __name__ == '__main__':\n",
    "    print('call foo()')\n",
    "    foo()\n",
    "    print('call bar()')\n",
    "    bar()\n",
    "```"
   ]
  },
  {
   "cell_type": "code",
   "execution_count": null,
   "metadata": {},
   "outputs": [],
   "source": []
  }
 ],
 "metadata": {
  "kernelspec": {
   "display_name": "Python 3",
   "language": "python",
   "name": "python3"
  },
  "language_info": {
   "codemirror_mode": {
    "name": "ipython",
    "version": 3
   },
   "file_extension": ".py",
   "mimetype": "text/x-python",
   "name": "python",
   "nbconvert_exporter": "python",
   "pygments_lexer": "ipython3",
   "version": "3.6.8"
  }
 },
 "nbformat": 4,
 "nbformat_minor": 2
}
