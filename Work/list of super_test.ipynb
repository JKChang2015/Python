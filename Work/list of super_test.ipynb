{
 "cells": [
  {
   "cell_type": "code",
   "execution_count": 5,
   "metadata": {},
   "outputs": [],
   "source": [
    "import pandas as pd\n",
    "from owlready2 import *"
   ]
  },
  {
   "cell_type": "code",
   "execution_count": 6,
   "metadata": {},
   "outputs": [],
   "source": [
    "pd = pd.read_csv('tax.tsv',sep='\\t')"
   ]
  },
  {
   "cell_type": "code",
   "execution_count": 7,
   "metadata": {},
   "outputs": [
    {
     "name": "stdout",
     "output_type": "stream",
     "text": [
      "<class 'pandas.core.frame.DataFrame'>\n",
      "RangeIndex: 186 entries, 0 to 185\n",
      "Data columns (total 3 columns):\n",
      "ID        186 non-null object\n",
      "entity    186 non-null object\n",
      "url       186 non-null object\n",
      "dtypes: object(3)\n",
      "memory usage: 4.4+ KB\n"
     ]
    }
   ],
   "source": [
    "pd.info()"
   ]
  },
  {
   "cell_type": "code",
   "execution_count": 8,
   "metadata": {},
   "outputs": [],
   "source": [
    "entities = pd.entity.tolist()"
   ]
  },
  {
   "cell_type": "code",
   "execution_count": 48,
   "metadata": {},
   "outputs": [],
   "source": [
    "res = []\n",
    "def get_super(onto_class):\n",
    "    if onto_class.label == '':\n",
    "        return\n",
    "\n",
    "    for parent in onto_class.is_a:\n",
    "        get_super(parent)\n",
    "        res.append(parent.label)\n",
    "        print(type(parent.label))"
   ]
  },
  {
   "cell_type": "code",
   "execution_count": 37,
   "metadata": {},
   "outputs": [],
   "source": [
    "# onto = get_ontology('file://../large file/ncbitaxon.owl').load()\n",
    "onto = get_ontology('file://./infor.owl').load()"
   ]
  },
  {
   "cell_type": "code",
   "execution_count": 49,
   "metadata": {},
   "outputs": [
    {
     "name": "stdout",
     "output_type": "stream",
     "text": [
      "['fruit']\n"
     ]
    }
   ],
   "source": [
    "for cl in onto.classes():\n",
    "    print(cl.label)\n",
    "    break"
   ]
  },
  {
   "cell_type": "code",
   "execution_count": 50,
   "metadata": {},
   "outputs": [
    {
     "name": "stdout",
     "output_type": "stream",
     "text": [
      "<class 'owlready2.individual.ValueList'>\n",
      "<class 'owlready2.individual.ValueList'>\n",
      "<class 'owlready2.individual.ValueList'>\n",
      "<class 'owlready2.individual.ValueList'>\n",
      "<class 'owlready2.individual.ValueList'>\n",
      "<class 'owlready2.individual.ValueList'>\n",
      "<class 'owlready2.individual.ValueList'>\n",
      "<class 'owlready2.individual.ValueList'>\n",
      "<class 'owlready2.individual.ValueList'>\n",
      "<class 'owlready2.individual.ValueList'>\n",
      "<class 'owlready2.individual.ValueList'>\n",
      "<class 'owlready2.individual.ValueList'>\n",
      "<class 'owlready2.individual.ValueList'>\n",
      "<class 'owlready2.individual.ValueList'>\n",
      "<class 'owlready2.individual.ValueList'>\n",
      "<class 'owlready2.individual.ValueList'>\n",
      "<class 'owlready2.individual.ValueList'>\n",
      "<class 'owlready2.individual.ValueList'>\n",
      "<class 'owlready2.individual.ValueList'>\n",
      "<class 'owlready2.individual.ValueList'>\n",
      "<class 'owlready2.individual.ValueList'>\n",
      "<class 'owlready2.individual.ValueList'>\n",
      "<class 'owlready2.individual.ValueList'>\n",
      "<class 'owlready2.individual.ValueList'>\n",
      "<class 'owlready2.individual.ValueList'>\n",
      "<class 'owlready2.individual.ValueList'>\n",
      "<class 'owlready2.individual.ValueList'>\n",
      "<class 'owlready2.individual.ValueList'>\n",
      "<class 'owlready2.individual.ValueList'>\n"
     ]
    }
   ],
   "source": [
    "for cl in onto.classes():\n",
    "    get_super(cl)"
   ]
  },
  {
   "cell_type": "code",
   "execution_count": 55,
   "metadata": {},
   "outputs": [
    {
     "data": {
      "text/plain": [
       "['fruit',\n",
       " 'fruit',\n",
       " 'apple',\n",
       " 'UK apple',\n",
       " 'fruit',\n",
       " 'apple',\n",
       " 'UK apple',\n",
       " 'pink lady',\n",
       " 'fruit',\n",
       " 'apple',\n",
       " 'UK apple',\n",
       " 'fruit',\n",
       " 'fruit',\n",
       " 'fruit',\n",
       " 'banana',\n",
       " 'fruit',\n",
       " 'banana',\n",
       " 'fruit',\n",
       " 'apple']"
      ]
     },
     "execution_count": 55,
     "metadata": {},
     "output_type": "execute_result"
    }
   ],
   "source": [
    "res = [ list(x)[0] for x in res if len(x)>0]\n",
    "res"
   ]
  },
  {
   "cell_type": "code",
   "execution_count": 76,
   "metadata": {},
   "outputs": [
    {
     "data": {
      "text/plain": [
       "{'fruit': 9, 'apple': 4, 'UK apple': 3, 'banana': 2, 'pink lady': 1}"
      ]
     },
     "execution_count": 76,
     "metadata": {},
     "output_type": "execute_result"
    }
   ],
   "source": [
    "from collections import Counter\n",
    "import operator\n",
    "\n",
    "res = sorted(res, key=Counter(res).get,reverse=True)\n",
    "\n",
    "sett = set(res)\n",
    "dic = {}\n",
    "for ele in sett:\n",
    "    dic[ele] = res.count(ele)\n",
    "\n",
    "sorted_res = sorted(dic.items(),key=operator.itemgetter(1),reverse = True)\n",
    "sorted_res = dict(sorted_res)\n"
   ]
  },
  {
   "cell_type": "code",
   "execution_count": 34,
   "metadata": {},
   "outputs": [
    {
     "data": {
      "text/plain": [
       "{1, 2}"
      ]
     },
     "execution_count": 34,
     "metadata": {},
     "output_type": "execute_result"
    }
   ],
   "source": [
    "a = [1,1,2]\n",
    "set(a)"
   ]
  },
  {
   "cell_type": "code",
   "execution_count": 72,
   "metadata": {},
   "outputs": [],
   "source": [
    "import csv"
   ]
  },
  {
   "cell_type": "code",
   "execution_count": 81,
   "metadata": {},
   "outputs": [],
   "source": [
    "with open('fruit.csv','w') as f:\n",
    "    cols = ['entity', 'frequency']\n",
    "    writer = csv.DictWriter(f, fieldnames=cols)\n",
    "    writer.writeheader()\n",
    "    data = [dict(zip(cols, [k, v])) for k, v in dic.items()]\n",
    "    writer.writerows(data)"
   ]
  },
  {
   "cell_type": "code",
   "execution_count": null,
   "metadata": {},
   "outputs": [],
   "source": []
  }
 ],
 "metadata": {
  "kernelspec": {
   "display_name": "Python 3",
   "language": "python",
   "name": "python3"
  },
  "language_info": {
   "codemirror_mode": {
    "name": "ipython",
    "version": 3
   },
   "file_extension": ".py",
   "mimetype": "text/x-python",
   "name": "python",
   "nbconvert_exporter": "python",
   "pygments_lexer": "ipython3",
   "version": "3.6.5"
  }
 },
 "nbformat": 4,
 "nbformat_minor": 2
}
