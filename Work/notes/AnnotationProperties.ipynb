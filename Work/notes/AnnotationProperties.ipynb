{
 "cells": [
  {
   "cell_type": "markdown",
   "metadata": {},
   "source": [
    "# Annotation Properties\n",
    "\n",
    "Load annotation properties from ncbitaxon.owl"
   ]
  },
  {
   "cell_type": "code",
   "execution_count": 1,
   "metadata": {},
   "outputs": [],
   "source": [
    "from owlready2 import *"
   ]
  },
  {
   "cell_type": "code",
   "execution_count": 2,
   "metadata": {},
   "outputs": [],
   "source": [
    "onto = get_ontology(\"file://../resources/Metabolights.owl\").load()"
   ]
  },
  {
   "cell_type": "code",
   "execution_count": 24,
   "metadata": {},
   "outputs": [
    {
     "data": {
      "text/plain": [
       "[obo.GENO_0000152,\n",
       " obo.GENO_0000476,\n",
       " obo.NCBITaxon_9606,\n",
       " obo.NCIT_C103199,\n",
       " obo.NCIT_C14250,\n",
       " obo.NCIT_C19924,\n",
       " obo.NCIT_C25936,\n",
       " obo.NCIT_C51812,\n",
       " obo.NCIT_C51817,\n",
       " obo.NCIT_C51818,\n",
       " obo.NCIT_C51825,\n",
       " obo.NCIT_C51826,\n",
       " obo.NCIT_C54622,\n",
       " obo.NCIT_C63403,\n",
       " obo.NCIT_C93404,\n",
       " obo.UPHENO_0001001,\n",
       " efo.EFO_0000001,\n",
       " efo.EFO_0000246,\n",
       " efo.EFO_0001742,\n",
       " efo.EFO_0001794,\n",
       " efo.EFO_0001795,\n",
       " efo.EFO_0001796,\n",
       " efo.EFO_0004703,\n",
       " efo.EFO_0004704,\n",
       " efo.EFO_0004847,\n",
       " efo.EFO_0005056,\n",
       " efo.EFO_0005112,\n",
       " efo.EFO_0007888,\n",
       " efo.EFO_0008007,\n",
       " Metabolights.MTBLS_000001,\n",
       " Metabolights.MTBLS_000002,\n",
       " Metabolights.MTBLS_000003,\n",
       " Metabolights.MTBLS_000005]"
      ]
     },
     "execution_count": 24,
     "metadata": {},
     "output_type": "execute_result"
    }
   ],
   "source": [
    "list(onto.classes())"
   ]
  },
  {
   "cell_type": "code",
   "execution_count": 25,
   "metadata": {},
   "outputs": [
    {
     "data": {
      "text/plain": [
       "Metabolights.MTBLS_000001"
      ]
     },
     "execution_count": 25,
     "metadata": {},
     "output_type": "execute_result"
    }
   ],
   "source": [
    "onto.MTBLS_000001"
   ]
  },
  {
   "cell_type": "code",
   "execution_count": 3,
   "metadata": {},
   "outputs": [
    {
     "name": "stdout",
     "output_type": "stream",
     "text": [
      "['reference']\n",
      "['variant']\n",
      "['Homo sapiens']\n",
      "['Organism Part']\n",
      "['Organism']\n",
      "['Principal Investigator']\n",
      "['Investigator']\n",
      "['Co-Investigator']\n",
      "['Contract Principal Investigator']\n",
      "['Coordinating Investigator']\n",
      "['Grant Investigator']\n",
      "['Grant Principal Investigator']\n",
      "['Subinvestigator']\n",
      "['Funded Principal Investigator']\n",
      "['Study Site Investigator']\n",
      "['Phenotype']\n",
      "['experimental factor']\n",
      "['age']\n",
      "['publication status']\n",
      "['submitted']\n",
      "['in preparation']\n",
      "['published']\n",
      "['age at menarche']\n",
      "['age at menopause']\n",
      "['age at onset']\n",
      "['age at death']\n",
      "['gestational age']\n",
      "['age at voice drop']\n",
      "['age at assessment']\n",
      "['factors']\n",
      "['roles']\n",
      "['taxonomy']\n",
      "['characteristics']\n"
     ]
    }
   ],
   "source": [
    "for cls in onto.classes():\n",
    "    print(cls.label)  # type: owlready2.individual.ValueList"
   ]
  },
  {
   "cell_type": "code",
   "execution_count": 4,
   "metadata": {},
   "outputs": [
    {
     "name": "stdout",
     "output_type": "stream",
     "text": [
      "http://purl.obolibrary.org/obo/NCBITaxon_9606\n"
     ]
    }
   ],
   "source": [
    "cls = onto.search_one(label = 'Homo sapiens')\n",
    "print(cls.iri)"
   ]
  },
  {
   "cell_type": "code",
   "execution_count": 5,
   "metadata": {},
   "outputs": [
    {
     "data": {
      "text/plain": [
       "'Metabolights'"
      ]
     },
     "execution_count": 5,
     "metadata": {},
     "output_type": "execute_result"
    }
   ],
   "source": [
    "onto.name"
   ]
  },
  {
   "cell_type": "code",
   "execution_count": 6,
   "metadata": {},
   "outputs": [
    {
     "data": {
      "text/plain": [
       "'http://www.ebi.ac.uk/metabolights/ontology/'"
      ]
     },
     "execution_count": 6,
     "metadata": {},
     "output_type": "execute_result"
    }
   ],
   "source": [
    "onto.base_iri"
   ]
  },
  {
   "cell_type": "markdown",
   "metadata": {},
   "source": [
    "## ancestors"
   ]
  },
  {
   "cell_type": "code",
   "execution_count": 7,
   "metadata": {},
   "outputs": [
    {
     "data": {
      "text/plain": [
       "{Metabolights.MTBLS_000003, obo.NCBITaxon_9606, owl.Thing}"
      ]
     },
     "execution_count": 7,
     "metadata": {},
     "output_type": "execute_result"
    }
   ],
   "source": [
    "cls.ancestors()   #type: set"
   ]
  },
  {
   "cell_type": "code",
   "execution_count": 8,
   "metadata": {},
   "outputs": [
    {
     "name": "stdout",
     "output_type": "stream",
     "text": [
      "['Principal Investigator']\n",
      "[]\n",
      "['Investigator']\n",
      "['roles']\n",
      "['Grant Principal Investigator']\n"
     ]
    }
   ],
   "source": [
    "\n",
    "t = onto.search_one(iri= 'http://purl.obolibrary.org/obo/NCIT_C51826')\n",
    "len(t.ancestors())\n",
    "for i in t.ancestors():\n",
    "    print(i.label)"
   ]
  },
  {
   "cell_type": "code",
   "execution_count": 9,
   "metadata": {},
   "outputs": [
    {
     "data": {
      "text/plain": [
       "<generator object ThingClass.constructs at 0x110d10af0>"
      ]
     },
     "execution_count": 9,
     "metadata": {},
     "output_type": "execute_result"
    }
   ],
   "source": [
    "cls.constructs()"
   ]
  },
  {
   "cell_type": "code",
   "execution_count": 10,
   "metadata": {},
   "outputs": [
    {
     "data": {
      "text/plain": [
       "[]"
      ]
     },
     "execution_count": 10,
     "metadata": {},
     "output_type": "execute_result"
    }
   ],
   "source": [
    "list(cls.constructs())"
   ]
  },
  {
   "cell_type": "code",
   "execution_count": 11,
   "metadata": {},
   "outputs": [
    {
     "data": {
      "text/plain": [
       "'http://purl.obolibrary.org/obo/NCBITaxon_9606'"
      ]
     },
     "execution_count": 11,
     "metadata": {},
     "output_type": "execute_result"
    }
   ],
   "source": [
    "cls.iri"
   ]
  },
  {
   "cell_type": "code",
   "execution_count": 15,
   "metadata": {},
   "outputs": [],
   "source": [
    "a = cls.namespace"
   ]
  },
  {
   "cell_type": "code",
   "execution_count": 16,
   "metadata": {},
   "outputs": [
    {
     "data": {
      "text/plain": [
       "<generator object Thing.get_properties at 0x110d87c50>"
      ]
     },
     "execution_count": 16,
     "metadata": {},
     "output_type": "execute_result"
    }
   ],
   "source": [
    "cls.get_properties(a)"
   ]
  },
  {
   "cell_type": "code",
   "execution_count": 19,
   "metadata": {},
   "outputs": [
    {
     "data": {
      "text/plain": [
       "obo.NCBITaxon_9606"
      ]
     },
     "execution_count": 19,
     "metadata": {},
     "output_type": "execute_result"
    }
   ],
   "source": [
    "cls"
   ]
  },
  {
   "cell_type": "code",
   "execution_count": 20,
   "metadata": {},
   "outputs": [
    {
     "data": {
      "text/plain": [
       "'NCBITaxon_9606'"
      ]
     },
     "execution_count": 20,
     "metadata": {},
     "output_type": "execute_result"
    }
   ],
   "source": [
    "cls.name"
   ]
  },
  {
   "cell_type": "code",
   "execution_count": 22,
   "metadata": {},
   "outputs": [
    {
     "data": {
      "text/plain": [
       "get_ontology(\"http://www.ebi.ac.uk/metabolights/ontology/\").get_namespace(\"http://purl.obolibrary.org/obo/\")"
      ]
     },
     "execution_count": 22,
     "metadata": {},
     "output_type": "execute_result"
    }
   ],
   "source": [
    "cls.namespace"
   ]
  },
  {
   "cell_type": "code",
   "execution_count": null,
   "metadata": {},
   "outputs": [],
   "source": []
  }
 ],
 "metadata": {
  "kernelspec": {
   "display_name": "Python 3",
   "language": "python",
   "name": "python3"
  },
  "language_info": {
   "codemirror_mode": {
    "name": "ipython",
    "version": 3
   },
   "file_extension": ".py",
   "mimetype": "text/x-python",
   "name": "python",
   "nbconvert_exporter": "python",
   "pygments_lexer": "ipython3",
   "version": "3.6.5"
  }
 },
 "nbformat": 4,
 "nbformat_minor": 2
}
