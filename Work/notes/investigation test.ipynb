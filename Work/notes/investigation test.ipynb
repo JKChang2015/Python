{
 "cells": [
  {
   "cell_type": "code",
   "execution_count": 1,
   "metadata": {},
   "outputs": [],
   "source": [
    "import json\n",
    "import numpy as np\n",
    "import pandas as pd\n",
    "import re\n",
    "\n",
    "import urllib.request\n",
    "from io import BytesIO\n",
    "from zipfile import ZipFile"
   ]
  },
  {
   "cell_type": "code",
   "execution_count": 2,
   "metadata": {},
   "outputs": [],
   "source": [
    "studyID = \"MTBLS75\""
   ]
  },
  {
   "cell_type": "code",
   "execution_count": 3,
   "metadata": {},
   "outputs": [],
   "source": [
    "u = 'http://www.ebi.ac.uk/metabolights/' + studyID + '/files/i_Investigation.txt?token=15fef9e0-9187-4c8a-857d-93d8e7df53d0'\n",
    "url = urllib.request.urlopen(u)\n",
    "text = ''\n",
    "\n",
    "with ZipFile(BytesIO(url.read())) as my_zip_file:\n",
    "    for contained_file in my_zip_file.namelist():\n",
    "\n",
    "        for line in my_zip_file.open(contained_file).readlines():\n",
    "                  if line.decode().startswith('Study Assay Technology Type'):\n",
    "                        text = text + line.decode()\n",
    "\n",
    "lines = text.split('\\n')\n",
    "terms,iris = [],[]\n",
    "\n",
    "for line in lines:\n",
    "    if line.startswith('Study Assay Technology Type\t'):\n",
    "        terms = list(set(re.findall(r'\"([^\"]*)\"', line)))\n",
    "    if line.startswith('Study Assay Technology Type Term Accession Number'):\n",
    "        iris = list(set(re.findall(r'\"([^\"]*)\"', line)))"
   ]
  },
  {
   "cell_type": "code",
   "execution_count": 4,
   "metadata": {},
   "outputs": [
    {
     "name": "stdout",
     "output_type": "stream",
     "text": [
      "MTBLS75 mass spectrometry http://purl.obolibrary.org/obo/OBI_0000623\n"
     ]
    }
   ],
   "source": [
    "for term, iri in zip(terms,iris):\n",
    "    print(studyID,term,iri)"
   ]
  },
  {
   "cell_type": "code",
   "execution_count": 5,
   "metadata": {},
   "outputs": [],
   "source": [
    "class entity():\n",
    "    def __init__(self, studyID, term, iri):\n",
    "        self.studyID = studyID\n",
    "        self.term = term\n",
    "        self.iri = iri"
   ]
  },
  {
   "cell_type": "code",
   "execution_count": 6,
   "metadata": {},
   "outputs": [
    {
     "data": {
      "text/plain": [
       "['mass spectrometry']"
      ]
     },
     "execution_count": 6,
     "metadata": {},
     "output_type": "execute_result"
    }
   ],
   "source": [
    "terms"
   ]
  },
  {
   "cell_type": "code",
   "execution_count": 7,
   "metadata": {},
   "outputs": [
    {
     "data": {
      "text/plain": [
       "['http://purl.obolibrary.org/obo/OBI_0000623']"
      ]
     },
     "execution_count": 7,
     "metadata": {},
     "output_type": "execute_result"
    }
   ],
   "source": [
    "iris"
   ]
  },
  {
   "cell_type": "code",
   "execution_count": 8,
   "metadata": {},
   "outputs": [
    {
     "name": "stdout",
     "output_type": "stream",
     "text": [
      "MTBLS75 mass spectrometry http://purl.obolibrary.org/obo/OBI_0000623\n"
     ]
    },
    {
     "data": {
      "text/plain": [
       "[<__main__.entity at 0x10781b4a8>]"
      ]
     },
     "execution_count": 8,
     "metadata": {},
     "output_type": "execute_result"
    }
   ],
   "source": [
    "res = []\n",
    "\n",
    "for term, iri in zip(terms, iris):\n",
    "    print(studyID,term,iri)\n",
    "    enti = entity(studyID, term, iri)\n",
    "    res.append(enti)\n",
    "\n",
    "res"
   ]
  },
  {
   "cell_type": "code",
   "execution_count": null,
   "metadata": {},
   "outputs": [],
   "source": []
  }
 ],
 "metadata": {
  "kernelspec": {
   "display_name": "Python 3",
   "language": "python",
   "name": "python3"
  },
  "language_info": {
   "codemirror_mode": {
    "name": "ipython",
    "version": 3
   },
   "file_extension": ".py",
   "mimetype": "text/x-python",
   "name": "python",
   "nbconvert_exporter": "python",
   "pygments_lexer": "ipython3",
   "version": "3.6.8"
  }
 },
 "nbformat": 4,
 "nbformat_minor": 2
}
