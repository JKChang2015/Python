{
 "cells": [
  {
   "cell_type": "code",
   "execution_count": 1,
   "metadata": {},
   "outputs": [],
   "source": [
    "from owlready2 import *"
   ]
  },
  {
   "cell_type": "code",
   "execution_count": 2,
   "metadata": {},
   "outputs": [],
   "source": [
    "onto = get_ontology(\"file://../resources/pizza.owl\").load()"
   ]
  },
  {
   "cell_type": "code",
   "execution_count": 3,
   "metadata": {},
   "outputs": [
    {
     "data": {
      "text/plain": [
       "[pizza.American,\n",
       " pizza.AmericanHot,\n",
       " pizza.AnchoviesTopping,\n",
       " pizza.ArtichokeTopping,\n",
       " pizza.AsparagusTopping,\n",
       " pizza.Cajun,\n",
       " pizza.CajunSpiceTopping,\n",
       " pizza.CaperTopping,\n",
       " pizza.Capricciosa,\n",
       " pizza.Caprina,\n",
       " pizza.CheeseTopping,\n",
       " pizza.CheeseyPizza,\n",
       " pizza.CheeseyVegetableTopping,\n",
       " pizza.ChickenTopping,\n",
       " pizza.Country,\n",
       " pizza.DeepPanBase,\n",
       " pizza.DomainConcept,\n",
       " pizza.Fiorentina,\n",
       " pizza.FishTopping,\n",
       " pizza.Food,\n",
       " pizza.FourCheesesTopping,\n",
       " pizza.FourSeasons,\n",
       " pizza.FruitTopping,\n",
       " pizza.FruttiDiMare,\n",
       " pizza.GarlicTopping,\n",
       " pizza.Giardiniera,\n",
       " pizza.GoatsCheeseTopping,\n",
       " pizza.GorgonzolaTopping,\n",
       " pizza.GreenPepperTopping,\n",
       " pizza.HamTopping,\n",
       " pizza.HerbSpiceTopping,\n",
       " pizza.Hot,\n",
       " pizza.HotGreenPepperTopping,\n",
       " pizza.HotSpicedBeefTopping,\n",
       " pizza.IceCream,\n",
       " pizza.InterestingPizza,\n",
       " pizza.JalapenoPepperTopping,\n",
       " pizza.LaReine,\n",
       " pizza.LeekTopping,\n",
       " pizza.Margherita,\n",
       " pizza.MeatTopping,\n",
       " pizza.MeatyPizza,\n",
       " pizza.Medium,\n",
       " pizza.Mild,\n",
       " pizza.MixedSeafoodTopping,\n",
       " pizza.MozzarellaTopping,\n",
       " pizza.Mushroom,\n",
       " pizza.MushroomTopping,\n",
       " pizza.NamedPizza,\n",
       " pizza.Napoletana,\n",
       " pizza.NonVegetarianPizza,\n",
       " pizza.NutTopping,\n",
       " pizza.OliveTopping,\n",
       " pizza.OnionTopping,\n",
       " pizza.ParmaHamTopping,\n",
       " pizza.Parmense,\n",
       " pizza.ParmesanTopping,\n",
       " pizza.PeperonataTopping,\n",
       " pizza.PeperoniSausageTopping,\n",
       " pizza.PepperTopping,\n",
       " pizza.PetitPoisTopping,\n",
       " pizza.PineKernels,\n",
       " pizza.Pizza,\n",
       " pizza.PizzaBase,\n",
       " pizza.PizzaTopping,\n",
       " pizza.PolloAdAstra,\n",
       " pizza.PrawnsTopping,\n",
       " pizza.PrinceCarlo,\n",
       " pizza.QuattroFormaggi,\n",
       " pizza.RealItalianPizza,\n",
       " pizza.RedOnionTopping,\n",
       " pizza.RocketTopping,\n",
       " pizza.Rosa,\n",
       " pizza.RosemaryTopping,\n",
       " pizza.SauceTopping,\n",
       " pizza.Siciliana,\n",
       " pizza.SlicedTomatoTopping,\n",
       " pizza.SloppyGiuseppe,\n",
       " pizza.Soho,\n",
       " pizza.Spiciness,\n",
       " pizza.SpicyPizza,\n",
       " pizza.SpicyPizzaEquivalent,\n",
       " pizza.SpicyTopping,\n",
       " pizza.SpinachTopping,\n",
       " pizza.SultanaTopping,\n",
       " pizza.SundriedTomatoTopping,\n",
       " pizza.SweetPepperTopping,\n",
       " pizza.ThinAndCrispyBase,\n",
       " pizza.ThinAndCrispyPizza,\n",
       " pizza.TobascoPepperSauce,\n",
       " pizza.TomatoTopping,\n",
       " pizza.UnclosedPizza,\n",
       " pizza.ValuePartition,\n",
       " pizza.VegetableTopping,\n",
       " pizza.VegetarianPizza,\n",
       " pizza.VegetarianPizzaEquivalent1,\n",
       " pizza.VegetarianPizzaEquivalent2,\n",
       " pizza.VegetarianTopping,\n",
       " pizza.Veneziana]"
      ]
     },
     "execution_count": 3,
     "metadata": {},
     "output_type": "execute_result"
    }
   ],
   "source": [
    "list(onto.classes())"
   ]
  },
  {
   "cell_type": "code",
   "execution_count": 4,
   "metadata": {},
   "outputs": [],
   "source": [
    "# http://www.w3.org/2004/02/skos/core#definition\n",
    "# 'http://www.co-ode.org/ontologies/pizza/pizza.owl#Pizza'\n",
    "# 'http://www.co-ode.org/ontologies/pizza/pizza.owl#CheeseyPizza'"
   ]
  },
  {
   "cell_type": "code",
   "execution_count": 5,
   "metadata": {},
   "outputs": [],
   "source": [
    "cls = onto.search_one(label = 'Pizza')"
   ]
  },
  {
   "cell_type": "code",
   "execution_count": 6,
   "metadata": {},
   "outputs": [
    {
     "data": {
      "text/plain": [
       "'http://www.co-ode.org/ontologies/pizza/pizza.owl#Pizza'"
      ]
     },
     "execution_count": 6,
     "metadata": {},
     "output_type": "execute_result"
    }
   ],
   "source": [
    "cls.iri"
   ]
  },
  {
   "cell_type": "code",
   "execution_count": 7,
   "metadata": {},
   "outputs": [
    {
     "data": {
      "text/plain": [
       "get_ontology(\"http://www.co-ode.org/ontologies/pizza/\").get_namespace(\"http://www.co-ode.org/ontologies/pizza/pizza.owl#\")"
      ]
     },
     "execution_count": 7,
     "metadata": {},
     "output_type": "execute_result"
    }
   ],
   "source": [
    "cls.namespace"
   ]
  },
  {
   "cell_type": "code",
   "execution_count": 8,
   "metadata": {},
   "outputs": [],
   "source": [
    "c = onto.search_one(label = 'CheesyPizza' )"
   ]
  },
  {
   "cell_type": "code",
   "execution_count": 9,
   "metadata": {},
   "outputs": [
    {
     "data": {
      "text/plain": [
       "core.definition"
      ]
     },
     "execution_count": 9,
     "metadata": {},
     "output_type": "execute_result"
    }
   ],
   "source": [
    "anno = onto.search_one(iri ='http://www.w3.org/2004/02/skos/core#definition')\n",
    "anno"
   ]
  },
  {
   "cell_type": "code",
   "execution_count": 10,
   "metadata": {},
   "outputs": [
    {
     "name": "stdout",
     "output_type": "stream",
     "text": [
      "<class 'owlready2.entity.ThingClass'>\n",
      "<class 'owlready2.annotation.AnnotationPropertyClass'>\n"
     ]
    }
   ],
   "source": [
    "print(type(c))\n",
    "print(type(anno))"
   ]
  },
  {
   "cell_type": "code",
   "execution_count": 11,
   "metadata": {},
   "outputs": [
    {
     "data": {
      "text/plain": [
       "['Any pizza that has at least 1 cheese topping.',\n",
       " 'Any pizza that has at least 2 cheese topping.',\n",
       " 'Any pizza that has at least 3 cheese topping.']"
      ]
     },
     "execution_count": 11,
     "metadata": {},
     "output_type": "execute_result"
    }
   ],
   "source": [
    "anno[c]"
   ]
  },
  {
   "cell_type": "code",
   "execution_count": 12,
   "metadata": {},
   "outputs": [],
   "source": [
    "skos = get_namespace('http://www.w3.org/2004/02/skos/core#')\n",
    "pizza = get_namespace('http://www.co-ode.org/ontologies/pizza/pizza.owl#')"
   ]
  },
  {
   "cell_type": "code",
   "execution_count": 13,
   "metadata": {},
   "outputs": [],
   "source": [
    "d = skos.definition\n",
    "cc = pizza.SpicyPizza"
   ]
  },
  {
   "cell_type": "code",
   "execution_count": 14,
   "metadata": {},
   "outputs": [
    {
     "name": "stdout",
     "output_type": "stream",
     "text": [
      "<class 'owlready2.annotation.AnnotationPropertyClass'>\n",
      "<class 'owlready2.entity.ThingClass'>\n"
     ]
    }
   ],
   "source": [
    "print(type(d))\n",
    "print(type(cc))"
   ]
  },
  {
   "cell_type": "code",
   "execution_count": 15,
   "metadata": {},
   "outputs": [
    {
     "data": {
      "text/plain": [
       "['Any pizza that has a spicy topping is a SpicyPizza', 'spicy', 'very spicy']"
      ]
     },
     "execution_count": 15,
     "metadata": {},
     "output_type": "execute_result"
    }
   ],
   "source": [
    "d[cc]"
   ]
  },
  {
   "cell_type": "code",
   "execution_count": 16,
   "metadata": {},
   "outputs": [
    {
     "data": {
      "text/plain": [
       "owlready2.annotation.AnnotationPropertyClass"
      ]
     },
     "execution_count": 16,
     "metadata": {},
     "output_type": "execute_result"
    }
   ],
   "source": [
    "type(d)"
   ]
  },
  {
   "cell_type": "code",
   "execution_count": 18,
   "metadata": {},
   "outputs": [],
   "source": [
    "d3 = IRIS['http://www.w3.org/2004/02/skos/core#definition']"
   ]
  },
  {
   "cell_type": "code",
   "execution_count": 19,
   "metadata": {},
   "outputs": [],
   "source": [
    "c3 = IRIS['http://www.co-ode.org/ontologies/pizza/pizza.owl#CheeseyPizza']"
   ]
  },
  {
   "cell_type": "code",
   "execution_count": 20,
   "metadata": {},
   "outputs": [
    {
     "data": {
      "text/plain": [
       "['Any pizza that has at least 1 cheese topping.',\n",
       " 'Any pizza that has at least 2 cheese topping.',\n",
       " 'Any pizza that has at least 3 cheese topping.']"
      ]
     },
     "execution_count": 20,
     "metadata": {},
     "output_type": "execute_result"
    }
   ],
   "source": [
    "d3[c3]"
   ]
  },
  {
   "cell_type": "code",
   "execution_count": 21,
   "metadata": {},
   "outputs": [
    {
     "data": {
      "text/plain": [
       "owlready2.individual.ValueList"
      ]
     },
     "execution_count": 21,
     "metadata": {},
     "output_type": "execute_result"
    }
   ],
   "source": [
    "type(d3[c3])"
   ]
  },
  {
   "cell_type": "code",
   "execution_count": 22,
   "metadata": {},
   "outputs": [
    {
     "data": {
      "text/plain": [
       "['Any pizza that has at least 1 cheese topping.',\n",
       " 'Any pizza that has at least 2 cheese topping.',\n",
       " 'Any pizza that has at least 3 cheese topping.']"
      ]
     },
     "execution_count": 22,
     "metadata": {},
     "output_type": "execute_result"
    }
   ],
   "source": [
    "list(d3[c3])"
   ]
  },
  {
   "cell_type": "code",
   "execution_count": null,
   "metadata": {},
   "outputs": [],
   "source": []
  }
 ],
 "metadata": {
  "kernelspec": {
   "display_name": "Python 3",
   "language": "python",
   "name": "python3"
  },
  "language_info": {
   "codemirror_mode": {
    "name": "ipython",
    "version": 3
   },
   "file_extension": ".py",
   "mimetype": "text/x-python",
   "name": "python",
   "nbconvert_exporter": "python",
   "pygments_lexer": "ipython3",
   "version": "3.6.5"
  }
 },
 "nbformat": 4,
 "nbformat_minor": 2
}
