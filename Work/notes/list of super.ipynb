{
 "cells": [
  {
   "cell_type": "code",
   "execution_count": 1,
   "metadata": {},
   "outputs": [],
   "source": [
    "import pandas as pd\n",
    "from owlready2 import *"
   ]
  },
  {
   "cell_type": "code",
   "execution_count": 2,
   "metadata": {},
   "outputs": [
    {
     "data": {
      "text/html": [
       "<div>\n",
       "<style scoped>\n",
       "    .dataframe tbody tr th:only-of-type {\n",
       "        vertical-align: middle;\n",
       "    }\n",
       "\n",
       "    .dataframe tbody tr th {\n",
       "        vertical-align: top;\n",
       "    }\n",
       "\n",
       "    .dataframe thead th {\n",
       "        text-align: right;\n",
       "    }\n",
       "</style>\n",
       "<table border=\"1\" class=\"dataframe\">\n",
       "  <thead>\n",
       "    <tr style=\"text-align: right;\">\n",
       "      <th></th>\n",
       "      <th>ID</th>\n",
       "      <th>entity</th>\n",
       "      <th>url</th>\n",
       "    </tr>\n",
       "  </thead>\n",
       "  <tbody>\n",
       "    <tr>\n",
       "      <th>0</th>\n",
       "      <td>MTBLS189</td>\n",
       "      <td>Mus musculus</td>\n",
       "      <td>http://purl.obolibrary.org/obo/NCBITaxon_10090</td>\n",
       "    </tr>\n",
       "    <tr>\n",
       "      <th>1</th>\n",
       "      <td>MTBLS497</td>\n",
       "      <td>Staphylococcus aureus</td>\n",
       "      <td>http://purl.obolibrary.org/obo/NCBITaxon_1280</td>\n",
       "    </tr>\n",
       "    <tr>\n",
       "      <th>2</th>\n",
       "      <td>MTBLS496</td>\n",
       "      <td>Campylobacter jejuni subsp. jejuni NCTC 11168</td>\n",
       "      <td>http://purl.obolibrary.org/obo/NCBITaxon_192222</td>\n",
       "    </tr>\n",
       "    <tr>\n",
       "      <th>3</th>\n",
       "      <td>MTBLS497</td>\n",
       "      <td>Pseudomonas aeruginosa</td>\n",
       "      <td>http://purl.obolibrary.org/obo/NCBITaxon_287</td>\n",
       "    </tr>\n",
       "    <tr>\n",
       "      <th>4</th>\n",
       "      <td>MTBLS129</td>\n",
       "      <td>Arabidopsis thaliana</td>\n",
       "      <td>http://purl.obolibrary.org/obo/NCBITaxon_3702</td>\n",
       "    </tr>\n",
       "  </tbody>\n",
       "</table>\n",
       "</div>"
      ],
      "text/plain": [
       "         ID                                         entity  \\\n",
       "0  MTBLS189                                   Mus musculus   \n",
       "1  MTBLS497                          Staphylococcus aureus   \n",
       "2  MTBLS496  Campylobacter jejuni subsp. jejuni NCTC 11168   \n",
       "3  MTBLS497                         Pseudomonas aeruginosa   \n",
       "4  MTBLS129                           Arabidopsis thaliana   \n",
       "\n",
       "                                               url  \n",
       "0   http://purl.obolibrary.org/obo/NCBITaxon_10090  \n",
       "1    http://purl.obolibrary.org/obo/NCBITaxon_1280  \n",
       "2  http://purl.obolibrary.org/obo/NCBITaxon_192222  \n",
       "3     http://purl.obolibrary.org/obo/NCBITaxon_287  \n",
       "4    http://purl.obolibrary.org/obo/NCBITaxon_3702  "
      ]
     },
     "execution_count": 2,
     "metadata": {},
     "output_type": "execute_result"
    }
   ],
   "source": [
    "pd = pd.read_csv('tax.tsv',sep='\\t')\n",
    "pd.head()"
   ]
  },
  {
   "cell_type": "code",
   "execution_count": 3,
   "metadata": {},
   "outputs": [],
   "source": [
    "onto = get_ontology('file://../large file/ncbitaxon.owl').load()"
   ]
  },
  {
   "cell_type": "code",
   "execution_count": 4,
   "metadata": {},
   "outputs": [],
   "source": [
    "entities = pd.entity.tolist()"
   ]
  },
  {
   "cell_type": "code",
   "execution_count": 5,
   "metadata": {},
   "outputs": [],
   "source": [
    "res = []\n",
    "# add the list of superclass to the res[]\n",
    "def get_super(onto_class):\n",
    "    if onto_class.label == '':\n",
    "        return\n",
    "\n",
    "    for parent in onto_class.is_a:\n",
    "        get_super(parent)\n",
    "        res.append(parent.label)"
   ]
  },
  {
   "cell_type": "code",
   "execution_count": null,
   "metadata": {},
   "outputs": [
    {
     "name": "stdout",
     "output_type": "stream",
     "text": [
      "['Mus musculus']\n",
      "['Staphylococcus aureus']\n",
      "cant find the Campylobacter jejuni subsp. jejuni NCTC 11168\n",
      "['Pseudomonas aeruginosa']\n",
      "['Arabidopsis thaliana']\n",
      "cant find the Brassica napus\n",
      "cant find the Brassica oleracea\n",
      "['Sinorhizobium meliloti']\n",
      "['Glycine max']\n",
      "['Triticum aestivum']\n",
      "['Escherichia coli BL21(DE3)']\n",
      "['Escherichia coli']\n",
      "['Leishmania mexicana']\n",
      "['Leishmania infantum']\n",
      "['Klebsiella pneumoniae']\n",
      "['Caenorhabditis elegans']\n",
      "['Homo sapiens']\n",
      "['Mustela putorius furo']\n",
      "['Sus scrofa domesticus']\n",
      "['Pseudomonas fluorescens']\n",
      "['Cricetulus griseus']\n",
      "['Mus musculus']\n",
      "['Rattus']\n",
      "['Rattus norvegicus']\n",
      "['Rattus rattus']\n",
      "['Lysiphlebia japonica']\n",
      "cant find the Porites lobata\n",
      "cant find the Knautia arvensis\n",
      "['Montipora aequituberculata']\n",
      "['Drosophila melanogaster x Drosophila simulans']\n",
      "cant find the Chlorella\n",
      "['Synechocystis sp. PCC 6803']\n",
      "['Astragalus mongholicus']\n",
      "['Staphylococcus aureus']\n",
      "['Cichorium intybus']\n",
      "['Microbiota']\n",
      "['Homo sapiens/Mus musculus xenograft']\n",
      "['Acropora aspera']\n",
      "['Bacillus methanolicus']\n",
      "['Pocillopora acuta']\n",
      "['Wolffia']\n",
      "['Corynebacterium glutamicum']\n",
      "cant find the Yoldia eightsi\n",
      "['Mycobacterium tuberculosis']\n",
      "['Paraceradocus miersii']\n"
     ]
    }
   ],
   "source": [
    "for entity in entities:\n",
    "    try:\n",
    "        clas = onto.search_one(label = entity)\n",
    "        print(clas.label)\n",
    "        get_super(clas)\n",
    "    except:\n",
    "        print('cant find the %s' %entity)"
   ]
  },
  {
   "cell_type": "code",
   "execution_count": 7,
   "metadata": {},
   "outputs": [
    {
     "data": {
      "text/plain": [
       "3581"
      ]
     },
     "execution_count": 7,
     "metadata": {},
     "output_type": "execute_result"
    }
   ],
   "source": [
    "len(res)"
   ]
  },
  {
   "cell_type": "code",
   "execution_count": 8,
   "metadata": {},
   "outputs": [
    {
     "data": {
      "text/plain": [
       "3402"
      ]
     },
     "execution_count": 8,
     "metadata": {},
     "output_type": "execute_result"
    }
   ],
   "source": [
    "res = [ list(x)[0] for x in res if len(x)>0]\n",
    "len(res)"
   ]
  },
  {
   "cell_type": "code",
   "execution_count": 9,
   "metadata": {},
   "outputs": [],
   "source": [
    "from collections import Counter\n",
    "import operator\n",
    "import csv\n",
    "\n",
    "res = sorted(res, key=Counter(res).get,reverse=True)\n",
    "\n",
    "sett = set(res)\n",
    "dic = {}\n",
    "for ele in sett:\n",
    "    dic[ele] = res.count(ele)\n",
    "\n",
    "sorted_res = sorted(dic.items(),key=operator.itemgetter(1),reverse = True)\n",
    "sorted_res = dict(sorted_res)\n",
    "\n",
    "with open('ncbitaxon.csv','w') as f:\n",
    "    cols = ['entity', 'frequency']\n",
    "    writer = csv.DictWriter(f, fieldnames=cols)\n",
    "    writer.writeheader()\n",
    "    data = [dict(zip(cols, [k, v])) for k, v in dic.items()]\n",
    "    writer.writerows(data)"
   ]
  },
  {
   "cell_type": "code",
   "execution_count": null,
   "metadata": {},
   "outputs": [],
   "source": []
  }
 ],
 "metadata": {
  "kernelspec": {
   "display_name": "Python 3",
   "language": "python",
   "name": "python3"
  },
  "language_info": {
   "codemirror_mode": {
    "name": "ipython",
    "version": 3
   },
   "file_extension": ".py",
   "mimetype": "text/x-python",
   "name": "python",
   "nbconvert_exporter": "python",
   "pygments_lexer": "ipython3",
   "version": "3.6.5"
  }
 },
 "nbformat": 4,
 "nbformat_minor": 2
}
