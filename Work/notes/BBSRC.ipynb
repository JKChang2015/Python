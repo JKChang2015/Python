{
 "cells": [
  {
   "cell_type": "code",
   "execution_count": 1,
   "metadata": {},
   "outputs": [],
   "source": [
    "import pandas as pd"
   ]
  },
  {
   "cell_type": "code",
   "execution_count": 2,
   "metadata": {},
   "outputs": [],
   "source": [
    "df = pd.read_csv('../resources/MTBLS Curation Status Log.csv')"
   ]
  },
  {
   "cell_type": "code",
   "execution_count": 3,
   "metadata": {},
   "outputs": [
    {
     "data": {
      "text/plain": [
       "Index(['ACC', 'StudySize', 'Status', 'Releasedate', 'SubmissionDate',\n",
       "       'UserName', 'Technique', 'AccShort', 'StudyID', 'UpdateDate',\n",
       "       'nmr_size', 'ms_size', 'Empty?', '150'],\n",
       "      dtype='object')"
      ]
     },
     "execution_count": 3,
     "metadata": {},
     "output_type": "execute_result"
    }
   ],
   "source": [
    "df.columns"
   ]
  },
  {
   "cell_type": "code",
   "execution_count": 4,
   "metadata": {},
   "outputs": [],
   "source": [
    "df_res = pd.DataFrame(columns=['ACC', 'StudySize', 'Status', 'Releasedate', 'SubmissionDate',\n",
    "       'UserName', 'Technique', 'AccShort', 'StudyID', 'UpdateDate',\n",
    "       'nmr_size', 'ms_size', 'Empty?', '150'])"
   ]
  },
  {
   "cell_type": "code",
   "execution_count": 5,
   "metadata": {},
   "outputs": [],
   "source": [
    "for index,row in df.iterrows():\n",
    "    try:\n",
    "        temp = row.copy()\n",
    "        techniques = row['Technique'].split(';')\n",
    "        for technique in techniques:\n",
    "            temp['Technique'] = technique\n",
    "            df_res.loc[len(df_res)] = temp\n",
    "    except:\n",
    "        pass\n",
    "\n",
    "# df_res.to_csv('split.tsv', sep = '\\t', encoding = 'utf-8', index = False)\n",
    "        "
   ]
  },
  {
   "cell_type": "code",
   "execution_count": 6,
   "metadata": {},
   "outputs": [],
   "source": [
    "rr = df_res['Technique'].value_counts()\n",
    "\n",
    "rr.to_csv('da.tsv', sep = '\\t')"
   ]
  },
  {
   "cell_type": "code",
   "execution_count": 21,
   "metadata": {},
   "outputs": [],
   "source": [
    "r = rr.to_frame().reset_index()\n",
    "r.columns = ['Technique','Count']"
   ]
  },
  {
   "cell_type": "code",
   "execution_count": 22,
   "metadata": {},
   "outputs": [
    {
     "data": {
      "text/html": [
       "<div>\n",
       "<style scoped>\n",
       "    .dataframe tbody tr th:only-of-type {\n",
       "        vertical-align: middle;\n",
       "    }\n",
       "\n",
       "    .dataframe tbody tr th {\n",
       "        vertical-align: top;\n",
       "    }\n",
       "\n",
       "    .dataframe thead th {\n",
       "        text-align: right;\n",
       "    }\n",
       "</style>\n",
       "<table border=\"1\" class=\"dataframe\">\n",
       "  <thead>\n",
       "    <tr style=\"text-align: right;\">\n",
       "      <th></th>\n",
       "      <th>Technique</th>\n",
       "      <th>count</th>\n",
       "    </tr>\n",
       "  </thead>\n",
       "  <tbody>\n",
       "    <tr>\n",
       "      <th>0</th>\n",
       "      <td>NMR</td>\n",
       "      <td>119</td>\n",
       "    </tr>\n",
       "    <tr>\n",
       "      <th>1</th>\n",
       "      <td>UPLC-QTOF-MS</td>\n",
       "      <td>118</td>\n",
       "    </tr>\n",
       "    <tr>\n",
       "      <th>2</th>\n",
       "      <td>GC-Q-MS</td>\n",
       "      <td>73</td>\n",
       "    </tr>\n",
       "    <tr>\n",
       "      <th>3</th>\n",
       "      <td>GC-TOF-MS</td>\n",
       "      <td>50</td>\n",
       "    </tr>\n",
       "    <tr>\n",
       "      <th>4</th>\n",
       "      <td>UPLC-LTQ-MS</td>\n",
       "      <td>46</td>\n",
       "    </tr>\n",
       "  </tbody>\n",
       "</table>\n",
       "</div>"
      ],
      "text/plain": [
       "      Technique  count\n",
       "0           NMR    119\n",
       "1  UPLC-QTOF-MS    118\n",
       "2       GC-Q-MS     73\n",
       "3     GC-TOF-MS     50\n",
       "4   UPLC-LTQ-MS     46"
      ]
     },
     "execution_count": 22,
     "metadata": {},
     "output_type": "execute_result"
    }
   ],
   "source": [
    "r.head()"
   ]
  },
  {
   "cell_type": "code",
   "execution_count": 10,
   "metadata": {},
   "outputs": [],
   "source": [
    "df  = pd.read_csv('../resources/full name.csv')"
   ]
  },
  {
   "cell_type": "code",
   "execution_count": 13,
   "metadata": {},
   "outputs": [
    {
     "data": {
      "text/plain": [
       "Index(['Study type', 'Full Name'], dtype='object')"
      ]
     },
     "execution_count": 13,
     "metadata": {},
     "output_type": "execute_result"
    }
   ],
   "source": [
    "name_pair = dict(zip(df['Study type'],df['Full Name']))"
   ]
  },
  {
   "cell_type": "code",
   "execution_count": 14,
   "metadata": {},
   "outputs": [],
   "source": []
  },
  {
   "cell_type": "code",
   "execution_count": 15,
   "metadata": {},
   "outputs": [
    {
     "data": {
      "text/plain": [
       "{'3D DESI imaging MS': '3-Dimensional Desorption Electrospray Ionization imaging MS (3D DESI imaging MS)',\n",
       " '3D LAESI imaging MS': '3-Dimensional Laser Ablation Electrospray Ionization imaging MS',\n",
       " '3D MALDI imaging MS': '3-Dimensional Matrix Assisted Laser Desorption/Ionization Imaging MS',\n",
       " '3D MALDI imaging MS simulation': '3-Dimensional Matrix Assisted Laser Desorption/Ionization Imaging MS simulation',\n",
       " 'CE-TOF-MS': 'Capillary Electrophoresis Time-Of-Flight MS',\n",
       " 'DI-FT-ICR-MS': 'Direct Infusion Fourier Transform Ion Cyclotron Resonance MS',\n",
       " 'DI-FT-ICR-MS/MS': 'Direct Infusion Fourier Transform Ion Cyclotron Resonance Tandem MS',\n",
       " 'DI-TQ-MS': 'Direct Infusion Triple Quadrupole MS',\n",
       " 'DI-TQ-MS/MS': 'Direct Infusion Triple Quadrupole Tandem MS',\n",
       " 'DI-LTQ-MS': 'Direct Infusion Linear Trap Quadrupole MS',\n",
       " 'DI-LTQ-MS/MS': 'Direct Infusion Linear Trap Quadrupole Tandem MS',\n",
       " 'FIA-LTQ-MS': 'Flow Injection Analysis Linear Trap Quadrupole MS',\n",
       " 'FIA-LTQ-MS/MS': 'Flow Injection Analysis Linear Trap Quadrupole Tandem MS',\n",
       " 'FIA-MS': 'Flow Injection Analysis MS',\n",
       " 'FIA-MS/MS': 'Flow Injection Analysis Tandem MS',\n",
       " 'FIA-QTOF-MS': 'Flow Injection Analysis Quadrupole Time-Of-Flight MS',\n",
       " 'FIA-QTOF-MS/MS': 'Flow Injection Analysis Quadrupole Time-Of-Flight Tandem MS',\n",
       " 'FIA-TQ-MS': 'Flow Injection Analysis Triple Quadrupole MS',\n",
       " 'FIA-TQ-MS/MS': 'Flow Injection Analysis Triple Quadrupole Tandem MS',\n",
       " 'GC-FID': 'Gas Chromatography Flame Ionisation Detector',\n",
       " 'GC-LTQ-MS': 'Gas Chromatography Linear Trap Quadrupole MS',\n",
       " 'GC-QIT-MS': 'Gas Chromatography Quadrupole Ion Trap MS',\n",
       " 'GC-Q-MS': 'Gas Chromatography Quadrupole MS',\n",
       " 'GC-QTOF-MS': 'Gas Chromatography Quadrupole Time-Of-Flight MS',\n",
       " 'GC-TOF-MS': 'Gas Chromatography Time-Of-Flight MS',\n",
       " 'GC-TQ-MS': 'Gas Chromatography Triple Quarupole MS',\n",
       " 'GCxGC-TOF-MS': 'Tandem Gas Chromatography Time-Of-Flight MS',\n",
       " 'HPLC-FT-ICR-MS': 'High Performance Liquid Chromatography Fourier Transform Ion Cyclotron Resonance MS',\n",
       " 'HPLC-IT-MS': 'High Performance Liquid Chromatography Ion Trap MS',\n",
       " 'HPLC-LTQ-FT-MS': 'High Performance Liquid Chromatography Linear Trap Quadrupole Fourier Transform MS',\n",
       " 'HPLC-LTQ-FT-MS/MS': 'High Performance Liquid Chromatography Linear Trap Quadrupole Fourier Transform Tandem MS',\n",
       " 'HPLC-LTQ-MS': 'High Performance Liquid Chromatography Linear Trap Quadrupole MS',\n",
       " 'HPLC-LTQ-MS/MS': 'High Performance Liquid Chromatography Linear Trap Quadrupole Tandem MS',\n",
       " 'HPLC-QIT-MS': 'High Performance Liquid Chromatography Quadrupole Ion Trap MS',\n",
       " 'HPLC-QTOF-MS': 'High Performance Liquid Chromatography Quadrupole Time-Of-Flight MS',\n",
       " 'HPLC-QTOF-MS/MS': 'High Performance Liquid Chromatography Quadrupole Time-Of-Flight Tandem MS',\n",
       " 'HPLC-TQ-MS/MS': 'High Performance Liquid Chromatography Triple Quarupole Tandem MS',\n",
       " 'HPLC-TQ-MS': 'High Performance Liquid Chromatography Triple Quarupole MS',\n",
       " 'In vivo MRS': 'In vivo Magnetic Resonance Spectroscopy',\n",
       " 'LC-FT-ICR-MS': 'Liquid Chromatography Fourier Transform Ion Cyclotron Resonance MS',\n",
       " 'LC-LTQ-FT-MS': 'Liquid Chromatography Linear Trap Quadrupole Fourier Transform MS',\n",
       " 'LC-LTQ-FT-MS/MS': 'Liquid Chromatography Linear Trap Quadrupole Fourier Transform Tandem MS',\n",
       " 'LC-LTQ-MS': 'Liquid Chromatography Linear Trap Quadrupole MS',\n",
       " 'LC-LTQ-MS/MS': 'Liquid Chromatography Linear Trap Quadrupole Tandem MS',\n",
       " 'LC-MS': 'Liquid Chromatography MS',\n",
       " 'LC-MS simulation': 'Liquid Chromatography MS simulation',\n",
       " 'LC-QTOF-MS': 'Liquid Chromatography Time-Of-Flight MS',\n",
       " 'LC-TQ-MS': 'Liquid Chromatography Triple Quadrupole MS',\n",
       " 'LC-TQ-MS/MS': 'Liquid Chromatography Triple Quadrupole Tandem MS',\n",
       " 'LMJ-SSP/ESI imaging MS': 'Liquid Microjunction-Surface Sampling Probe/Electrospray Ionization imaging MS',\n",
       " 'MALDI imaging MS': 'Matrix Assisted Laser Desorption/Ionization imaging MS',\n",
       " 'MALDI-FT-ICR-MS': 'Matrix Assisted Laser Desorption/Ionization Fourier Transform Ion Cyclotron Resonance MS',\n",
       " 'MALDI-TOF/TOF-MS': 'Matrix Assisted Laser Desorption/Ionization Time-Of-Flight MS',\n",
       " 'MALDI-TOF/TOF-MS/MS': 'Matrix Assisted Laser Desorption/Ionization Time-Of-Flight Tandem MS',\n",
       " 'MAS-NMR': 'Magic Angle Spinning-Nuclear Magnetic Resonance',\n",
       " 'MRI': 'Magnetic Resonance Imaging',\n",
       " 'MS': 'Mass Spectrometry',\n",
       " 'NMR': 'Nuclear Magnetic Resonance',\n",
       " 'PTR-MS': 'Proton Transfer Reaction MS',\n",
       " 'PTR-TOF-MS': 'Proton Transfer Reaction Time-Of-Flight MS',\n",
       " 'REI-MS': 'Rapid Evaporative Ionisation MS',\n",
       " 'REI-QTOF-MS': 'Rapid Evaporative Ionisation Quadrupole Time-Of-Flight MS',\n",
       " 'SESI-MS': 'Secondary Electrospray Ionization MS',\n",
       " 'SESI-QTOF-MS': 'Secondary Electrospray Ionization Quadrupole Time-Of-Flight MS',\n",
       " 'SPE-IMS-MS': 'Solid-Phase Extraction Ion Mobility Spectrometry MS',\n",
       " 'SPME-GC-Q-MS': 'Solid-Phase-Micro-Extraction Gas Chromatography Quadrupole MS',\n",
       " 'SPME-GCxGC-TOF-MS': 'Solid-Phase-Micro-Extraction Tandem Gas Chromatography Time-Of-Flight MS',\n",
       " 'TD-GC-TOF-MS': 'Thermal Desorption-Gas Chromatography Time-Of-Flight MS',\n",
       " 'TD-GC-Q-MS': 'Thermal Desorption-Gas Chromatography Quarupole MS',\n",
       " 'TQ-MS': 'Triple Quarupole MS',\n",
       " 'UFLC-LTQ-MS': 'Ultra Fast Liquid Chromatography Linear Trap Quadrupole MS',\n",
       " 'UFLC-LTQ-MS/MS': 'Ultra Fast Liquid Chromatography Linear Trap Quadrupole Tandem MS',\n",
       " 'UFLC-QTOF-MS': 'Ultra Fast Liquid Chromatography Quadrupole Time-Of-Flight MS',\n",
       " 'UFLC-QTOF-MS/MS': 'Ultra Fast Liquid Chromatography Quadrupole Time-Of-Flight Tandem MS',\n",
       " 'UPLC-DAD': 'Ultra Performance Liquid Chromatography Diode Array Detection',\n",
       " 'UPLC-FT-ICR-MS': 'Ultra Performance Liquid Chromatography Fourier Transform Ion Cyclotron Resonance MS',\n",
       " 'UPLC-IT-TOF-MS': 'Ultra Performance Liquid Chromatography Ion Trap Time-Of-Flight MS',\n",
       " 'UPLC-IT-TOF-MS/MS': 'Ultra Performance Liquid Chromatography Ion Trap Time-Of-Flight Tandem MS',\n",
       " 'UPLC-LTQ-FT-MS': 'Ultra Performance Liquid Chromatography Linear Trap Quadrupole Fourier Transform MS',\n",
       " 'UPLC-LTQ-FT-MS/MS': 'Ultra Performance Liquid Chromatography Linear Trap Quadrupole Fourier Transform Tandem MS',\n",
       " 'UPLC-LTQ-MS': 'Ultra Performance Liquid Chromatography Linear Trap Quadrupole MS',\n",
       " 'UPLC-LTQ-MS/MS': 'Ultra Performance Liquid Chromatography Linear Trap Quadrupole Tandem MS',\n",
       " 'UPLC-MS': 'Ultra Performance Liquid Chromatography MS',\n",
       " 'UPLC-QTOF-MS': 'Ultra Performance Liquid Chromatography Quadrupole Time-Of-Flight MS',\n",
       " 'UPLC-QTOF-MS/MS': 'Ultra Performance Liquid Chromatography Quadrupole Time-Of-Flight Tandem MS',\n",
       " 'UPLC-TOF-MS': 'Ultra Performance Liquid Chromatography Time-Of-Flight MS',\n",
       " 'UPLC-TQ-MS': 'Ultra Performance Liquid Chromatography Triple Quarupole MS',\n",
       " 'UPLC-TQ-MS/MS': 'Ultra Performance Liquid Chromatography Triple Quarupole Tandem MS',\n",
       " 'UPLC': 'Ultra Performance Liquid Chromatography'}"
      ]
     },
     "execution_count": 15,
     "metadata": {},
     "output_type": "execute_result"
    }
   ],
   "source": []
  },
  {
   "cell_type": "code",
   "execution_count": null,
   "metadata": {},
   "outputs": [],
   "source": []
  }
 ],
 "metadata": {
  "kernelspec": {
   "display_name": "Python 3",
   "language": "python",
   "name": "python3"
  },
  "language_info": {
   "codemirror_mode": {
    "name": "ipython",
    "version": 3
   },
   "file_extension": ".py",
   "mimetype": "text/x-python",
   "name": "python",
   "nbconvert_exporter": "python",
   "pygments_lexer": "ipython3",
   "version": "3.6.5"
  }
 },
 "nbformat": 4,
 "nbformat_minor": 2
}
