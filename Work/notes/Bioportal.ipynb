{
 "cells": [
  {
   "cell_type": "code",
   "execution_count": 1,
   "metadata": {},
   "outputs": [],
   "source": [
    "import json\n",
    "import urllib.request"
   ]
  },
  {
   "cell_type": "code",
   "execution_count": 2,
   "metadata": {},
   "outputs": [],
   "source": [
    "keyword = 'lung'"
   ]
  },
  {
   "cell_type": "code",
   "execution_count": 6,
   "metadata": {},
   "outputs": [],
   "source": [
    "url = 'http://data.bioontology.org/search?q=' + keyword.replace(' ', \"+\") +'&require_exact_match=true'\n",
    "request = urllib.request.Request(url)\n",
    "request.add_header('Authorization', 'apikey token=c60c5add-63c6-4485-8736-3f495146aee3')\n",
    "response = urllib.request.urlopen(request)\n",
    "content = response.read()"
   ]
  },
  {
   "cell_type": "code",
   "execution_count": 8,
   "metadata": {},
   "outputs": [],
   "source": [
    "j_content = json.loads(content)"
   ]
  },
  {
   "cell_type": "code",
   "execution_count": 13,
   "metadata": {},
   "outputs": [
    {
     "name": "stdout",
     "output_type": "stream",
     "text": [
      "page\n",
      "pageCount\n",
      "totalCount\n",
      "prevPage\n",
      "nextPage\n",
      "links\n",
      "collection\n"
     ]
    }
   ],
   "source": [
    "for i in j_content:\n",
    "    print(i)"
   ]
  },
  {
   "cell_type": "code",
   "execution_count": 17,
   "metadata": {},
   "outputs": [
    {
     "data": {
      "text/plain": [
       "{'prefLabel': 'Lung',\n",
       " 'synonym': ['Lungs'],\n",
       " 'definition': ['Either of the pair of organs occupying the cavity of the thorax that effect the aeration of the blood.'],\n",
       " 'cui': ['C0024109'],\n",
       " 'semanticType': ['T023'],\n",
       " 'obsolete': False,\n",
       " 'matchType': 'prefLabel',\n",
       " 'ontologyType': 'ONTOLOGY',\n",
       " 'provisional': False,\n",
       " '@id': 'http://purl.bioontology.org/ontology/MESH/D008168',\n",
       " '@type': 'http://www.w3.org/2002/07/owl#Class',\n",
       " 'links': {'self': 'http://data.bioontology.org/ontologies/MESH/classes/http%3A%2F%2Fpurl.bioontology.org%2Fontology%2FMESH%2FD008168',\n",
       "  'ontology': 'http://data.bioontology.org/ontologies/MESH',\n",
       "  'children': 'http://data.bioontology.org/ontologies/MESH/classes/http%3A%2F%2Fpurl.bioontology.org%2Fontology%2FMESH%2FD008168/children',\n",
       "  'parents': 'http://data.bioontology.org/ontologies/MESH/classes/http%3A%2F%2Fpurl.bioontology.org%2Fontology%2FMESH%2FD008168/parents',\n",
       "  'descendants': 'http://data.bioontology.org/ontologies/MESH/classes/http%3A%2F%2Fpurl.bioontology.org%2Fontology%2FMESH%2FD008168/descendants',\n",
       "  'ancestors': 'http://data.bioontology.org/ontologies/MESH/classes/http%3A%2F%2Fpurl.bioontology.org%2Fontology%2FMESH%2FD008168/ancestors',\n",
       "  'instances': 'http://data.bioontology.org/ontologies/MESH/classes/http%3A%2F%2Fpurl.bioontology.org%2Fontology%2FMESH%2FD008168/instances',\n",
       "  'tree': 'http://data.bioontology.org/ontologies/MESH/classes/http%3A%2F%2Fpurl.bioontology.org%2Fontology%2FMESH%2FD008168/tree',\n",
       "  'notes': 'http://data.bioontology.org/ontologies/MESH/classes/http%3A%2F%2Fpurl.bioontology.org%2Fontology%2FMESH%2FD008168/notes',\n",
       "  'mappings': 'http://data.bioontology.org/ontologies/MESH/classes/http%3A%2F%2Fpurl.bioontology.org%2Fontology%2FMESH%2FD008168/mappings',\n",
       "  'ui': 'http://bioportal.bioontology.org/ontologies/MESH?p=classes&conceptid=http%3A%2F%2Fpurl.bioontology.org%2Fontology%2FMESH%2FD008168',\n",
       "  '@context': {'self': 'http://www.w3.org/2002/07/owl#Class',\n",
       "   'ontology': 'http://data.bioontology.org/metadata/Ontology',\n",
       "   'children': 'http://www.w3.org/2002/07/owl#Class',\n",
       "   'parents': 'http://www.w3.org/2002/07/owl#Class',\n",
       "   'descendants': 'http://www.w3.org/2002/07/owl#Class',\n",
       "   'ancestors': 'http://www.w3.org/2002/07/owl#Class',\n",
       "   'instances': 'http://data.bioontology.org/metadata/Instance',\n",
       "   'tree': 'http://www.w3.org/2002/07/owl#Class',\n",
       "   'notes': 'http://data.bioontology.org/metadata/Note',\n",
       "   'mappings': 'http://data.bioontology.org/metadata/Mapping',\n",
       "   'ui': 'http://www.w3.org/2002/07/owl#Class'}},\n",
       " '@context': {'@vocab': 'http://data.bioontology.org/metadata/',\n",
       "  'prefLabel': 'http://data.bioontology.org/metadata/skosprefLabel',\n",
       "  'synonym': 'http://data.bioontology.org/metadata/skossynonym',\n",
       "  'definition': 'http://data.bioontology.org/metadata/skosdefinition',\n",
       "  'obsolete': 'http://data.bioontology.org/metadata/owlobsolete',\n",
       "  'semanticType': 'http://data.bioontology.org/metadata/umlssemanticType',\n",
       "  'cui': 'http://data.bioontology.org/metadata/umlscui'}}"
      ]
     },
     "execution_count": 17,
     "metadata": {},
     "output_type": "execute_result"
    }
   ],
   "source": [
    "j_content['collection'][0]"
   ]
  },
  {
   "cell_type": "code",
   "execution_count": 18,
   "metadata": {},
   "outputs": [
    {
     "data": {
      "text/plain": [
       "'Lung'"
      ]
     },
     "execution_count": 18,
     "metadata": {},
     "output_type": "execute_result"
    }
   ],
   "source": [
    "j_content['collection'][0]['prefLabel']"
   ]
  },
  {
   "cell_type": "code",
   "execution_count": 19,
   "metadata": {},
   "outputs": [
    {
     "data": {
      "text/plain": [
       "'http://purl.bioontology.org/ontology/MESH/D008168'"
      ]
     },
     "execution_count": 19,
     "metadata": {},
     "output_type": "execute_result"
    }
   ],
   "source": [
    "j_content['collection'][0]['@id']"
   ]
  },
  {
   "cell_type": "code",
   "execution_count": null,
   "metadata": {},
   "outputs": [],
   "source": []
  }
 ],
 "metadata": {
  "kernelspec": {
   "display_name": "Python 3",
   "language": "python",
   "name": "python3"
  },
  "language_info": {
   "codemirror_mode": {
    "name": "ipython",
    "version": 3
   },
   "file_extension": ".py",
   "mimetype": "text/x-python",
   "name": "python",
   "nbconvert_exporter": "python",
   "pygments_lexer": "ipython3",
   "version": "3.6.5"
  }
 },
 "nbformat": 4,
 "nbformat_minor": 2
}
