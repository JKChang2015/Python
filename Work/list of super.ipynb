{
 "cells": [
  {
   "cell_type": "code",
   "execution_count": 1,
   "metadata": {},
   "outputs": [],
   "source": [
    "import pandas as pd\n",
    "from owlready2 import *"
   ]
  },
  {
   "cell_type": "code",
   "execution_count": 2,
   "metadata": {},
   "outputs": [
    {
     "data": {
      "text/html": [
       "<div>\n",
       "<style scoped>\n",
       "    .dataframe tbody tr th:only-of-type {\n",
       "        vertical-align: middle;\n",
       "    }\n",
       "\n",
       "    .dataframe tbody tr th {\n",
       "        vertical-align: top;\n",
       "    }\n",
       "\n",
       "    .dataframe thead th {\n",
       "        text-align: right;\n",
       "    }\n",
       "</style>\n",
       "<table border=\"1\" class=\"dataframe\">\n",
       "  <thead>\n",
       "    <tr style=\"text-align: right;\">\n",
       "      <th></th>\n",
       "      <th>ID</th>\n",
       "      <th>entity</th>\n",
       "      <th>url</th>\n",
       "    </tr>\n",
       "  </thead>\n",
       "  <tbody>\n",
       "    <tr>\n",
       "      <th>0</th>\n",
       "      <td>MTBLS189</td>\n",
       "      <td>Mus musculus</td>\n",
       "      <td>http://purl.obolibrary.org/obo/NCBITaxon_10090</td>\n",
       "    </tr>\n",
       "    <tr>\n",
       "      <th>1</th>\n",
       "      <td>MTBLS497</td>\n",
       "      <td>Staphylococcus aureus</td>\n",
       "      <td>http://purl.obolibrary.org/obo/NCBITaxon_1280</td>\n",
       "    </tr>\n",
       "    <tr>\n",
       "      <th>2</th>\n",
       "      <td>MTBLS496</td>\n",
       "      <td>Campylobacter jejuni subsp. jejuni NCTC 11168</td>\n",
       "      <td>http://purl.obolibrary.org/obo/NCBITaxon_192222</td>\n",
       "    </tr>\n",
       "    <tr>\n",
       "      <th>3</th>\n",
       "      <td>MTBLS497</td>\n",
       "      <td>Pseudomonas aeruginosa</td>\n",
       "      <td>http://purl.obolibrary.org/obo/NCBITaxon_287</td>\n",
       "    </tr>\n",
       "    <tr>\n",
       "      <th>4</th>\n",
       "      <td>MTBLS129</td>\n",
       "      <td>Arabidopsis thaliana</td>\n",
       "      <td>http://purl.obolibrary.org/obo/NCBITaxon_3702</td>\n",
       "    </tr>\n",
       "  </tbody>\n",
       "</table>\n",
       "</div>"
      ],
      "text/plain": [
       "         ID                                         entity  \\\n",
       "0  MTBLS189                                   Mus musculus   \n",
       "1  MTBLS497                          Staphylococcus aureus   \n",
       "2  MTBLS496  Campylobacter jejuni subsp. jejuni NCTC 11168   \n",
       "3  MTBLS497                         Pseudomonas aeruginosa   \n",
       "4  MTBLS129                           Arabidopsis thaliana   \n",
       "\n",
       "                                               url  \n",
       "0   http://purl.obolibrary.org/obo/NCBITaxon_10090  \n",
       "1    http://purl.obolibrary.org/obo/NCBITaxon_1280  \n",
       "2  http://purl.obolibrary.org/obo/NCBITaxon_192222  \n",
       "3     http://purl.obolibrary.org/obo/NCBITaxon_287  \n",
       "4    http://purl.obolibrary.org/obo/NCBITaxon_3702  "
      ]
     },
     "execution_count": 2,
     "metadata": {},
     "output_type": "execute_result"
    }
   ],
   "source": [
    "pd = pd.read_csv('tax.tsv',sep='\\t')\n",
    "pd.head()"
   ]
  },
  {
   "cell_type": "code",
   "execution_count": 3,
   "metadata": {},
   "outputs": [],
   "source": [
    "entities = pd.entity.tolist()"
   ]
  },
  {
   "cell_type": "code",
   "execution_count": 5,
   "metadata": {},
   "outputs": [],
   "source": [
    "res = []\n",
    "# add the list of superclass to the res[]\n",
    "def get_super(onto_class):\n",
    "    if onto_class.label == '':\n",
    "        return\n",
    "\n",
    "    for parent in onto_class.is_a:\n",
    "        get_super(parent)\n",
    "        res.append(parent.label)"
   ]
  },
  {
   "cell_type": "code",
   "execution_count": 6,
   "metadata": {},
   "outputs": [],
   "source": [
    "onto = get_ontology('file://../large file/ncbitaxon.owl').load()"
   ]
  },
  {
   "cell_type": "code",
   "execution_count": null,
   "metadata": {},
   "outputs": [],
   "source": [
    "for entity in entities:\n",
    "    try = onto"
   ]
  }
 ],
 "metadata": {
  "kernelspec": {
   "display_name": "Python 3",
   "language": "python",
   "name": "python3"
  },
  "language_info": {
   "codemirror_mode": {
    "name": "ipython",
    "version": 3
   },
   "file_extension": ".py",
   "mimetype": "text/x-python",
   "name": "python",
   "nbconvert_exporter": "python",
   "pygments_lexer": "ipython3",
   "version": "3.6.5"
  }
 },
 "nbformat": 4,
 "nbformat_minor": 2
}
