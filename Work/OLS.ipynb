{
 "cells": [
  {
   "cell_type": "markdown",
   "metadata": {},
   "source": [
    "### OLS parsing tool\n",
    "pares the the json response from the EBI OLS API"
   ]
  },
  {
   "cell_type": "code",
   "execution_count": 1,
   "metadata": {},
   "outputs": [],
   "source": [
    "import urllib.request\n",
    "import json\n",
    "import os"
   ]
  },
  {
   "cell_type": "code",
   "execution_count": 2,
   "metadata": {},
   "outputs": [],
   "source": [
    "keyword = \"2'-deoxyadenosine\"\n",
    "url = 'https://www.ebi.ac.uk/ols/api/select?q=' + keyword.replace(' ',\"+\")"
   ]
  },
  {
   "cell_type": "code",
   "execution_count": 3,
   "metadata": {},
   "outputs": [],
   "source": [
    "fp = urllib.request.urlopen(url)\n",
    "content = fp.read()\n",
    "j_content = json.loads(content)"
   ]
  },
  {
   "cell_type": "code",
   "execution_count": 5,
   "metadata": {},
   "outputs": [],
   "source": [
    "responses = j_content[\"response\"]['docs']"
   ]
  },
  {
   "cell_type": "code",
   "execution_count": 10,
   "metadata": {},
   "outputs": [
    {
     "data": {
      "text/plain": [
       "[{'id': 'chebi:class:http://purl.obolibrary.org/obo/CHEBI_17256',\n",
       "  'iri': 'http://purl.obolibrary.org/obo/CHEBI_17256',\n",
       "  'short_form': 'CHEBI_17256',\n",
       "  'obo_id': 'CHEBI:17256',\n",
       "  'label': \"2'-deoxyadenosine\",\n",
       "  'ontology_name': 'chebi',\n",
       "  'ontology_prefix': 'CHEBI',\n",
       "  'type': 'class'},\n",
       " {'id': 'ncit:class:http://purl.obolibrary.org/obo/NCIT_C1503',\n",
       "  'iri': 'http://purl.obolibrary.org/obo/NCIT_C1503',\n",
       "  'short_form': 'NCIT_C1503',\n",
       "  'obo_id': 'NCIT:C1503',\n",
       "  'label': \"2'-deoxyadenosine\",\n",
       "  'ontology_name': 'ncit',\n",
       "  'ontology_prefix': 'NCIT',\n",
       "  'type': 'class'},\n",
       " {'id': 'nbo:class:http://purl.obolibrary.org/obo/CHEBI_17256',\n",
       "  'iri': 'http://purl.obolibrary.org/obo/CHEBI_17256',\n",
       "  'short_form': 'CHEBI_17256',\n",
       "  'obo_id': 'CHEBI:17256',\n",
       "  'label': \"2'-deoxyadenosine\",\n",
       "  'ontology_name': 'nbo',\n",
       "  'ontology_prefix': 'NBO',\n",
       "  'type': 'class'},\n",
       " {'id': 'micro:class:http://purl.obolibrary.org/obo/CHEBI_17256',\n",
       "  'iri': 'http://purl.obolibrary.org/obo/CHEBI_17256',\n",
       "  'short_form': 'CHEBI_17256',\n",
       "  'obo_id': 'CHEBI:17256',\n",
       "  'label': \"2'-deoxyadenosine\",\n",
       "  'ontology_name': 'micro',\n",
       "  'ontology_prefix': 'MICRO',\n",
       "  'type': 'class'},\n",
       " {'id': 'chebi:class:http://purl.obolibrary.org/obo/CHEBI_17713',\n",
       "  'iri': 'http://purl.obolibrary.org/obo/CHEBI_17713',\n",
       "  'short_form': 'CHEBI_17713',\n",
       "  'obo_id': 'CHEBI:17713',\n",
       "  'label': \"2'-deoxyadenosine 5'-monophosphate\",\n",
       "  'ontology_name': 'chebi',\n",
       "  'ontology_prefix': 'CHEBI',\n",
       "  'type': 'class'}]"
      ]
     },
     "execution_count": 10,
     "metadata": {},
     "output_type": "execute_result"
    }
   ],
   "source": [
    "responses[:5]"
   ]
  },
  {
   "cell_type": "code",
   "execution_count": 12,
   "metadata": {},
   "outputs": [
    {
     "name": "stdout",
     "output_type": "stream",
     "text": [
      "2'-deoxyadenosine http://purl.obolibrary.org/obo/CHEBI_17256\n",
      "2'-deoxyadenosine http://purl.obolibrary.org/obo/NCIT_C1503\n",
      "2'-deoxyadenosine http://purl.obolibrary.org/obo/CHEBI_17256\n",
      "2'-deoxyadenosine http://purl.obolibrary.org/obo/CHEBI_17256\n",
      "2'-deoxyadenosine 5'-monophosphate http://purl.obolibrary.org/obo/CHEBI_17713\n"
     ]
    }
   ],
   "source": [
    "for i in responses[:5]:\n",
    "    print(i['label'],i['iri'])"
   ]
  },
  {
   "cell_type": "code",
   "execution_count": 15,
   "metadata": {},
   "outputs": [
    {
     "name": "stdout",
     "output_type": "stream",
     "text": [
      "{'http://purl.obolibrary.org/obo/CHEBI_17256': \"2'-deoxyadenosine\", 'http://purl.obolibrary.org/obo/NCIT_C1503': \"2'-deoxyadenosine\", 'http://purl.obolibrary.org/obo/CHEBI_17713': \"2'-deoxyadenosine 5'-monophosphate\"}\n"
     ]
    }
   ],
   "source": [
    "dict ={}\n",
    "for i in responses[:5]:\n",
    "    label = i['label']\n",
    "    iri = i['iri']\n",
    "    if iri not in dict:\n",
    "        dict[iri] = label\n",
    "print(dict)"
   ]
  },
  {
   "cell_type": "code",
   "execution_count": 27,
   "metadata": {},
   "outputs": [],
   "source": [
    "def getOLS(query):\n",
    "    try:\n",
    "        url = 'https://www.ebi.ac.uk/ols/api/select?q=' + query.replace(' ',\"+\")\n",
    "        fp = urllib.request.urlopen(url)\n",
    "        content = fp.read()\n",
    "        j_content = json.loads(content)\n",
    "        responses = j_content[\"response\"]['docs'][:5]\n",
    "        res = {}\n",
    "        for term in responses:\n",
    "            label = term['label']\n",
    "            iri = term['iri']\n",
    "            if iri not in res:\n",
    "                res[iri] = label\n",
    "        return res\n",
    "    except:\n",
    "        return \"fail to search term from OLS\""
   ]
  },
  {
   "cell_type": "code",
   "execution_count": 35,
   "metadata": {},
   "outputs": [],
   "source": [
    "import pandas as pd"
   ]
  },
  {
   "cell_type": "code",
   "execution_count": 36,
   "metadata": {},
   "outputs": [],
   "source": [
    "fd = pd.read_csv('organisms.csv')\n",
    "terms = fd['terms']"
   ]
  },
  {
   "cell_type": "code",
   "execution_count": 38,
   "metadata": {},
   "outputs": [],
   "source": [
    "for term in terms:\n",
    "    temp = [term]\n",
    "    \n",
    "    match = getOLS(term)\n",
    "    for i in match.keys():\n",
    "        temp.append(dict[i])\n",
    "        temp.append(i)\n",
    "        \n",
    "    s = '\\t'.join(temp) + '\\n'\n",
    "    with open('organism test.csv', 'a') as file:\n",
    "        file.writelines(s)\n",
    "    "
   ]
  },
  {
   "cell_type": "code",
   "execution_count": 31,
   "metadata": {},
   "outputs": [
    {
     "data": {
      "text/plain": [
       "456"
      ]
     },
     "execution_count": 31,
     "metadata": {},
     "output_type": "execute_result"
    }
   ],
   "source": []
  },
  {
   "cell_type": "code",
   "execution_count": 34,
   "metadata": {},
   "outputs": [
    {
     "data": {
      "text/plain": [
       "[\"2'-deoxyadenosine\"]"
      ]
     },
     "execution_count": 34,
     "metadata": {},
     "output_type": "execute_result"
    }
   ],
   "source": [
    "res[0]    "
   ]
  },
  {
   "cell_type": "code",
   "execution_count": 26,
   "metadata": {},
   "outputs": [
    {
     "data": {
      "text/plain": [
       "[\"2'-deoxyadenosine\",\n",
       " 'http://purl.obolibrary.org/obo/CHEBI_17256',\n",
       " \"2'-deoxyadenosine\",\n",
       " 'http://purl.obolibrary.org/obo/NCIT_C1503',\n",
       " \"2'-deoxyadenosine 5'-monophosphate\",\n",
       " 'http://purl.obolibrary.org/obo/CHEBI_17713']"
      ]
     },
     "execution_count": 26,
     "metadata": {},
     "output_type": "execute_result"
    }
   ],
   "source": []
  },
  {
   "cell_type": "code",
   "execution_count": 33,
   "metadata": {},
   "outputs": [],
   "source": [
    "import csv\n",
    "\n",
    "with open(\"organism.csv\", 'w') as myfile:\n",
    "    wr = csv.writer(myfile, quoting=csv.QUOTE_ALL)\n",
    "    wr.writerow(res)"
   ]
  },
  {
   "cell_type": "code",
   "execution_count": null,
   "metadata": {},
   "outputs": [],
   "source": []
  }
 ],
 "metadata": {
  "kernelspec": {
   "display_name": "Python 3",
   "language": "python",
   "name": "python3"
  },
  "language_info": {
   "codemirror_mode": {
    "name": "ipython",
    "version": 3
   },
   "file_extension": ".py",
   "mimetype": "text/x-python",
   "name": "python",
   "nbconvert_exporter": "python",
   "pygments_lexer": "ipython3",
   "version": "3.6.5"
  }
 },
 "nbformat": 4,
 "nbformat_minor": 2
}
