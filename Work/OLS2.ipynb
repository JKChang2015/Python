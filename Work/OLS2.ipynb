{
 "cells": [
  {
   "cell_type": "code",
   "execution_count": 3,
   "metadata": {},
   "outputs": [],
   "source": [
    "import json\n",
    "import urllib.request\n",
    "import pandas as pd"
   ]
  },
  {
   "cell_type": "code",
   "execution_count": 4,
   "metadata": {},
   "outputs": [],
   "source": [
    "keyword = 'lung'"
   ]
  },
  {
   "cell_type": "code",
   "execution_count": 5,
   "metadata": {},
   "outputs": [],
   "source": [
    "url = 'https://www.ebi.ac.uk/ols/api/search?q=' + keyword.replace(' ', \"+\") + \\\n",
    "              '&exact=true' \\\n",
    "              '&groupField=true' \\\n",
    "              '&queryFields=label,synonym' \\\n",
    "              '&fieldList=iri,label,short_form,obo_id,ontology_name,ontology_prefix'"
   ]
  },
  {
   "cell_type": "code",
   "execution_count": 6,
   "metadata": {},
   "outputs": [],
   "source": [
    "fp = urllib.request.urlopen(url)\n",
    "content = fp.read()\n",
    "j_content = json.loads(content)\n",
    "response = j_content[\"response\"]['docs']"
   ]
  },
  {
   "cell_type": "code",
   "execution_count": 7,
   "metadata": {},
   "outputs": [
    {
     "data": {
      "text/plain": [
       "10"
      ]
     },
     "execution_count": 7,
     "metadata": {},
     "output_type": "execute_result"
    }
   ],
   "source": [
    "len(response)"
   ]
  },
  {
   "cell_type": "code",
   "execution_count": 8,
   "metadata": {},
   "outputs": [
    {
     "data": {
      "text/plain": [
       "[{'iri': 'http://purl.obolibrary.org/obo/NCIT_C12468',\n",
       "  'short_form': 'NCIT_C12468',\n",
       "  'obo_id': 'NCIT:C12468',\n",
       "  'label': 'Lung',\n",
       "  'ontology_name': 'ncit',\n",
       "  'ontology_prefix': 'NCIT'},\n",
       " {'iri': 'http://purl.obolibrary.org/obo/UBERON_0002048',\n",
       "  'short_form': 'UBERON_0002048',\n",
       "  'obo_id': 'UBERON:0002048',\n",
       "  'label': 'lung',\n",
       "  'ontology_name': 'opl',\n",
       "  'ontology_prefix': 'OPL'},\n",
       " {'iri': 'http://purl.obolibrary.org/obo/BTO_0000763',\n",
       "  'short_form': 'BTO_0000763',\n",
       "  'obo_id': 'BTO:0000763',\n",
       "  'label': 'lung',\n",
       "  'ontology_name': 'bto',\n",
       "  'ontology_prefix': 'BTO'},\n",
       " {'iri': 'http://purl.obolibrary.org/obo/MA_0000415',\n",
       "  'short_form': 'MA_0000415',\n",
       "  'obo_id': 'MA:0000415',\n",
       "  'label': 'lung',\n",
       "  'ontology_name': 'ma',\n",
       "  'ontology_prefix': 'MA'},\n",
       " {'iri': 'http://purl.obolibrary.org/obo/FMA_7195',\n",
       "  'short_form': 'FMA_7195',\n",
       "  'obo_id': 'FMA:7195',\n",
       "  'label': 'Lung',\n",
       "  'ontology_name': 'ontoneo',\n",
       "  'ontology_prefix': 'ONTONEO'},\n",
       " {'iri': 'http://purl.org/obo/owl/FMA#FMA_7195',\n",
       "  'short_form': 'FMA_7195',\n",
       "  'obo_id': 'FMA:7195',\n",
       "  'label': 'Lung',\n",
       "  'ontology_name': 'flu',\n",
       "  'ontology_prefix': 'FLU'},\n",
       " {'iri': 'http://www.ebi.ac.uk/efo/EFO_0000934',\n",
       "  'short_form': 'EFO_0000934',\n",
       "  'obo_id': 'EFO:0000934',\n",
       "  'label': 'lung',\n",
       "  'ontology_name': 'clo',\n",
       "  'ontology_prefix': 'CLO'},\n",
       " {'iri': 'http://purl.obolibrary.org/obo/XAO_0000119',\n",
       "  'short_form': 'XAO_0000119',\n",
       "  'obo_id': 'XAO:0000119',\n",
       "  'label': 'lung',\n",
       "  'ontology_name': 'xao',\n",
       "  'ontology_prefix': 'XAO'},\n",
       " {'iri': 'http://purl.obolibrary.org/obo/OMIT_0009248',\n",
       "  'short_form': 'OMIT_0009248',\n",
       "  'obo_id': 'OMIT:0009248',\n",
       "  'label': 'Lung',\n",
       "  'ontology_name': 'omit',\n",
       "  'ontology_prefix': 'OMIT'},\n",
       " {'iri': 'http://purl.obolibrary.org/obo/EMAPA_16728',\n",
       "  'short_form': 'EMAPA_16728',\n",
       "  'obo_id': 'EMAPA:16728',\n",
       "  'label': 'lung',\n",
       "  'ontology_name': 'emapa',\n",
       "  'ontology_prefix': 'EMAPA'}]"
      ]
     },
     "execution_count": 8,
     "metadata": {},
     "output_type": "execute_result"
    }
   ],
   "source": [
    "response"
   ]
  },
  {
   "cell_type": "code",
   "execution_count": null,
   "metadata": {},
   "outputs": [],
   "source": []
  }
 ],
 "metadata": {
  "kernelspec": {
   "display_name": "Python 3",
   "language": "python",
   "name": "python3"
  },
  "language_info": {
   "codemirror_mode": {
    "name": "ipython",
    "version": 3
   },
   "file_extension": ".py",
   "mimetype": "text/x-python",
   "name": "python",
   "nbconvert_exporter": "python",
   "pygments_lexer": "ipython3",
   "version": "3.6.5"
  }
 },
 "nbformat": 4,
 "nbformat_minor": 2
}
