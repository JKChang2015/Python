{
 "cells": [
  {
   "cell_type": "markdown",
   "metadata": {},
   "source": [
    "# Decorators"
   ]
  },
  {
   "cell_type": "code",
   "execution_count": 4,
   "metadata": {},
   "outputs": [
    {
     "name": "stdout",
     "output_type": "stream",
     "text": [
      "2019-12-04\n"
     ]
    }
   ],
   "source": [
    "from datetime import date\n",
    "def now():\n",
    "    print(date.today())\n",
    "\n",
    "f = now\n",
    "f()"
   ]
  },
  {
   "cell_type": "code",
   "execution_count": 5,
   "metadata": {},
   "outputs": [
    {
     "data": {
      "text/plain": [
       "'now'"
      ]
     },
     "execution_count": 5,
     "metadata": {},
     "output_type": "execute_result"
    }
   ],
   "source": [
    "now.__name__"
   ]
  },
  {
   "cell_type": "code",
   "execution_count": 6,
   "metadata": {},
   "outputs": [
    {
     "data": {
      "text/plain": [
       "'now'"
      ]
     },
     "execution_count": 6,
     "metadata": {},
     "output_type": "execute_result"
    }
   ],
   "source": [
    "f.__name__"
   ]
  },
  {
   "cell_type": "markdown",
   "metadata": {},
   "source": [
    "现在，假设我们要增强`now()`函数的功能，比如，在函数调用前后自动打印日志，但又不希望修改now()函数的定义，这种在代码运行期间动态增加功能的方式，称之为“装饰器”（Decorator）。\n",
    "\n",
    "本质上，decorator就是一个`返回函数`的高阶函数。"
   ]
  },
  {
   "cell_type": "code",
   "execution_count": 7,
   "metadata": {},
   "outputs": [],
   "source": [
    "def log(func):\n",
    "    def wrapper(*arg,**kw):\n",
    "        print('call %s():'%func.__name__)\n",
    "        return func(*arg,**kw)\n",
    "    return wrapper"
   ]
  },
  {
   "cell_type": "code",
   "execution_count": 9,
   "metadata": {},
   "outputs": [
    {
     "name": "stdout",
     "output_type": "stream",
     "text": [
      "call now():\n",
      "2019-12-04\n"
     ]
    }
   ],
   "source": [
    "# Method 1:\n",
    "\n",
    "ff = log(now)\n",
    "ff()"
   ]
  },
  {
   "cell_type": "code",
   "execution_count": 14,
   "metadata": {},
   "outputs": [
    {
     "name": "stdout",
     "output_type": "stream",
     "text": [
      "call now():\n",
      "2019-12-04\n"
     ]
    }
   ],
   "source": [
    "# Method 2:\n",
    "\n",
    "from datetime import date\n",
    "@log\n",
    "def now():\n",
    "    print(date.today())\n",
    "    \n",
    "now()"
   ]
  },
  {
   "cell_type": "markdown",
   "metadata": {},
   "source": [
    "把`@log`放到`now()`函数的定义处，相当于执行了语句：\n",
    "```python\n",
    "now = log(now)\n",
    "```\n",
    "\n",
    "由于`log()`是一个decorator，返回一个函数，所以，原来的`now()`函数仍然存在，只是现在同名的now变量指向了新的函数，于是调用now()将执行新函数，即在log()函数中返回的wrapper()函数。\n",
    "\n",
    "wrapper()函数的参数定义是`(*args, **kw)`，因此，wrapper()函数可以接受任意参数的调用。在wrapper()函数内，首先打印日志，再紧接着调用原始函数。"
   ]
  },
  {
   "cell_type": "markdown",
   "metadata": {},
   "source": [
    "### 含有参数的def"
   ]
  },
  {
   "cell_type": "code",
   "execution_count": 21,
   "metadata": {},
   "outputs": [],
   "source": [
    "def log(text):\n",
    "    def decorator(func):\n",
    "        def wrapper(*args, **kw):\n",
    "            print('%s %s():' % (text, func.__name__))\n",
    "            return func(*args, **kw)\n",
    "        return wrapper\n",
    "    return decorator"
   ]
  },
  {
   "cell_type": "code",
   "execution_count": 22,
   "metadata": {},
   "outputs": [
    {
     "name": "stdout",
     "output_type": "stream",
     "text": [
      "execute now():\n",
      "2019-12-04\n"
     ]
    }
   ],
   "source": [
    "from datetime import date\n",
    "\n",
    "@log('execute')\n",
    "def now():\n",
    "    print(date.today())\n",
    "\n",
    "now()    "
   ]
  },
  {
   "cell_type": "code",
   "execution_count": 24,
   "metadata": {},
   "outputs": [
    {
     "data": {
      "text/plain": [
       "'wrapper'"
      ]
     },
     "execution_count": 24,
     "metadata": {},
     "output_type": "execute_result"
    }
   ],
   "source": [
    "now.__name__\n",
    "\n",
    "# now 执行的其实是 wrapper"
   ]
  },
  {
   "cell_type": "code",
   "execution_count": 16,
   "metadata": {},
   "outputs": [],
   "source": [
    "from functools import wraps\n",
    "from time import time\n",
    "\n",
    "def timeing(fun):\n",
    "    @wraps(fun)\n",
    "    def wrapper(*args, **kw):\n",
    "        start = time()\n",
    "        result = fun(*args,**kw)\n",
    "        end = time()\n",
    "        print('runing time: {time}'.format(time = end-start))\n",
    "        return result\n",
    "    return wrapper "
   ]
  },
  {
   "cell_type": "code",
   "execution_count": 12,
   "metadata": {},
   "outputs": [],
   "source": [
    "import math\n",
    "\n",
    "def power(a, p):\n",
    "    return a**p\n",
    "\n",
    "def factorial(a):\n",
    "    res = 1\n",
    "    for i in range(1,a+1):\n",
    "        res *= i\n",
    "    return res\n",
    "    "
   ]
  },
  {
   "cell_type": "code",
   "execution_count": 11,
   "metadata": {},
   "outputs": [
    {
     "name": "stdout",
     "output_type": "stream",
     "text": [
      "32\n"
     ]
    }
   ],
   "source": [
    "print(power(2,5))"
   ]
  },
  {
   "cell_type": "code",
   "execution_count": 13,
   "metadata": {},
   "outputs": [
    {
     "name": "stdout",
     "output_type": "stream",
     "text": [
      "720\n"
     ]
    }
   ],
   "source": [
    "print(factorial(6))"
   ]
  },
  {
   "cell_type": "code",
   "execution_count": 17,
   "metadata": {},
   "outputs": [],
   "source": [
    "@timeing\n",
    "def power(a, p):\n",
    "    return a**p\n",
    "\n",
    "@timeing\n",
    "def factorial(a):\n",
    "    res = 1\n",
    "    for i in range(1,a+1):\n",
    "        res *= i\n",
    "    return res"
   ]
  },
  {
   "cell_type": "code",
   "execution_count": 18,
   "metadata": {},
   "outputs": [
    {
     "name": "stdout",
     "output_type": "stream",
     "text": [
      "runing time: 1.6689300537109375e-06\n",
      "32\n"
     ]
    }
   ],
   "source": [
    "print(power(2,5))"
   ]
  },
  {
   "cell_type": "code",
   "execution_count": 19,
   "metadata": {},
   "outputs": [
    {
     "name": "stdout",
     "output_type": "stream",
     "text": [
      "runing time: 2.1457672119140625e-06\n",
      "3628800\n"
     ]
    }
   ],
   "source": [
    "print(factorial(10))"
   ]
  },
  {
   "cell_type": "markdown",
   "metadata": {},
   "source": [
    "### multiple decorators"
   ]
  },
  {
   "cell_type": "code",
   "execution_count": 32,
   "metadata": {},
   "outputs": [],
   "source": [
    "from functools import wraps\n",
    "from time import time\n",
    "\n",
    "def nameit(fun):\n",
    "    @wraps(fun)\n",
    "    def wrapper(*args, **kwargs):\n",
    "        print('NAME: {name} ...'.format(name= fun.__name__))\n",
    "        return fun(*args,**kwargs)\n",
    "    return wrapper\n",
    "\n",
    "def timeing(fun):\n",
    "    @wraps(fun)\n",
    "    def wrapper(*args, **kw):\n",
    "        print('count {name} running time..'.format(name= fun.__name__))\n",
    "        start = time()\n",
    "        result = fun(*args,**kw)\n",
    "        end = time()\n",
    "        print('runing time: {time}'.format(time = end-start))\n",
    "        return result\n",
    "    return wrapper "
   ]
  },
  {
   "cell_type": "code",
   "execution_count": 33,
   "metadata": {},
   "outputs": [
    {
     "name": "stdout",
     "output_type": "stream",
     "text": [
      "NAME: foo ...\n",
      "count foo running time..\n",
      "hello David\n",
      "runing time: 1.6927719116210938e-05\n"
     ]
    }
   ],
   "source": [
    "@nameit\n",
    "@timeing\n",
    "def foo(name):\n",
    "    print('hello ' + name)\n",
    "    \n",
    "foo('David')"
   ]
  },
  {
   "cell_type": "code",
   "execution_count": 34,
   "metadata": {},
   "outputs": [
    {
     "name": "stdout",
     "output_type": "stream",
     "text": [
      "count foo running time..\n",
      "NAME: foo ...\n",
      "hello David\n",
      "runing time: 3.790855407714844e-05\n"
     ]
    }
   ],
   "source": [
    "@timeing\n",
    "@nameit\n",
    "def foo(name):\n",
    "    print('hello ' + name)\n",
    "    \n",
    "foo('David')"
   ]
  },
  {
   "cell_type": "code",
   "execution_count": null,
   "metadata": {},
   "outputs": [],
   "source": []
  }
 ],
 "metadata": {
  "kernelspec": {
   "display_name": "Python 3",
   "language": "python",
   "name": "python3"
  },
  "language_info": {
   "codemirror_mode": {
    "name": "ipython",
    "version": 3
   },
   "file_extension": ".py",
   "mimetype": "text/x-python",
   "name": "python",
   "nbconvert_exporter": "python",
   "pygments_lexer": "ipython3",
   "version": "3.7.3"
  }
 },
 "nbformat": 4,
 "nbformat_minor": 4
}
