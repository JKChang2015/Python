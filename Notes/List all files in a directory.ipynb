{
 "cells": [
  {
   "cell_type": "markdown",
   "metadata": {},
   "source": [
    "# List all files in a directory"
   ]
  },
  {
   "cell_type": "code",
   "execution_count": 1,
   "metadata": {},
   "outputs": [],
   "source": [
    "import os"
   ]
  },
  {
   "cell_type": "code",
   "execution_count": 2,
   "metadata": {},
   "outputs": [
    {
     "data": {
      "text/plain": [
       "'/Users/jkchang/Github/Python/Notes'"
      ]
     },
     "execution_count": 2,
     "metadata": {},
     "output_type": "execute_result"
    }
   ],
   "source": [
    "os.getcwd()"
   ]
  },
  {
   "cell_type": "code",
   "execution_count": 4,
   "metadata": {},
   "outputs": [
    {
     "data": {
      "text/plain": [
       "['List all files in a directory.ipynb',\n",
       " 'Map, Filter, Reduce and Lambda.ipynb',\n",
       " 'Yield .ipynb',\n",
       " 'Exec & Eval.ipynb',\n",
       " 'Sorting.ipynb',\n",
       " 'Regular Expression.ipynb',\n",
       " '.ipynb_checkpoints',\n",
       " 'Itertools.ipynb',\n",
       " 'Class methods.ipynb']"
      ]
     },
     "execution_count": 4,
     "metadata": {},
     "output_type": "execute_result"
    }
   ],
   "source": [
    "f_list = os.listdir()\n",
    "f_list"
   ]
  },
  {
   "cell_type": "markdown",
   "metadata": {},
   "source": [
    "### 1. get files in current dir"
   ]
  },
  {
   "cell_type": "code",
   "execution_count": 6,
   "metadata": {},
   "outputs": [
    {
     "data": {
      "text/plain": [
       "['List all files in a directory.ipynb',\n",
       " 'Map, Filter, Reduce and Lambda.ipynb',\n",
       " 'Yield .ipynb',\n",
       " 'Exec & Eval.ipynb',\n",
       " 'Sorting.ipynb',\n",
       " 'Regular Expression.ipynb',\n",
       " '.ipynb_checkpoints',\n",
       " 'Itertools.ipynb',\n",
       " 'Class methods.ipynb']"
      ]
     },
     "execution_count": 6,
     "metadata": {},
     "output_type": "execute_result"
    }
   ],
   "source": [
    "import os\n",
    "arr = os.listdir()\n",
    "arr"
   ]
  },
  {
   "cell_type": "markdown",
   "metadata": {},
   "source": [
    "### 2. Getting the full path name"
   ]
  },
  {
   "cell_type": "code",
   "execution_count": 7,
   "metadata": {},
   "outputs": [
    {
     "data": {
      "text/plain": [
       "['/Users/jkchang/Github/Python/Notes/List all files in a directory.ipynb',\n",
       " '/Users/jkchang/Github/Python/Notes/Map, Filter, Reduce and Lambda.ipynb',\n",
       " '/Users/jkchang/Github/Python/Notes/Yield .ipynb',\n",
       " '/Users/jkchang/Github/Python/Notes/Exec & Eval.ipynb',\n",
       " '/Users/jkchang/Github/Python/Notes/Sorting.ipynb',\n",
       " '/Users/jkchang/Github/Python/Notes/Regular Expression.ipynb',\n",
       " '/Users/jkchang/Github/Python/Notes/.ipynb_checkpoints',\n",
       " '/Users/jkchang/Github/Python/Notes/Itertools.ipynb',\n",
       " '/Users/jkchang/Github/Python/Notes/Class methods.ipynb']"
      ]
     },
     "execution_count": 7,
     "metadata": {},
     "output_type": "execute_result"
    }
   ],
   "source": [
    "import os \n",
    "files_path = [os.path.abspath(x) for x in os.listdir()]\n",
    "files_path"
   ]
  },
  {
   "cell_type": "markdown",
   "metadata": {},
   "source": [
    "### 3. Get the full path name of a type of file into all subdirectories with walk"
   ]
  },
  {
   "cell_type": "code",
   "execution_count": 28,
   "metadata": {},
   "outputs": [
    {
     "name": "stdout",
     "output_type": "stream",
     "text": [
      "/Users/jkchang/github/python/Work/test/.ipynb_checkpoints/crazy-checkpoint.ipynb\n",
      "/Users/jkchang/github/python/Work/notes/OLS2.ipynb\n",
      "/Users/jkchang/github/python/Work/notes/owlready2.ipynb\n",
      "/Users/jkchang/github/python/Work/notes/list of super.ipynb\n",
      "/Users/jkchang/github/python/Work/notes/BBSRC.ipynb\n",
      "/Users/jkchang/github/python/Work/notes/server test.ipynb\n",
      "/Users/jkchang/github/python/Work/notes/study log.ipynb\n",
      "/Users/jkchang/github/python/Work/notes/OLS.ipynb\n",
      "/Users/jkchang/github/python/Work/notes/count classes.ipynb\n",
      "/Users/jkchang/github/python/Work/notes/AnnotationProperties.ipynb\n",
      "/Users/jkchang/github/python/Work/notes/zooma.ipynb\n",
      "/Users/jkchang/github/python/Work/notes/Bioportal.ipynb\n",
      "/Users/jkchang/github/python/Work/notes/investigation test.ipynb\n",
      "/Users/jkchang/github/python/Work/notes/list of super_test.ipynb\n",
      "/Users/jkchang/github/python/Work/notes/.ipynb_checkpoints/BBSRC-checkpoint.ipynb\n",
      "/Users/jkchang/github/python/Work/notes/.ipynb_checkpoints/investigation test-checkpoint.ipynb\n",
      "/Users/jkchang/github/python/Work/notes/.ipynb_checkpoints/AnnotationProperties-checkpoint.ipynb\n",
      "/Users/jkchang/github/python/Work/notes/.ipynb_checkpoints/study log-checkpoint.ipynb\n",
      "/Users/jkchang/github/python/Work/notes/.ipynb_checkpoints/owlready2-checkpoint.ipynb\n",
      "/Users/jkchang/github/python/Work/notes/.ipynb_checkpoints/server test-checkpoint.ipynb\n",
      "/Users/jkchang/github/python/Work/.ipynb_checkpoints/zooma-checkpoint.ipynb\n",
      "/Users/jkchang/github/python/Work/.ipynb_checkpoints/OLS-checkpoint.ipynb\n",
      "/Users/jkchang/github/python/Work/.ipynb_checkpoints/list of super_test-checkpoint.ipynb\n",
      "/Users/jkchang/github/python/Work/.ipynb_checkpoints/count classes-checkpoint.ipynb\n",
      "/Users/jkchang/github/python/Work/.ipynb_checkpoints/OLS2-checkpoint.ipynb\n",
      "/Users/jkchang/github/python/Work/.ipynb_checkpoints/Bioportal-checkpoint.ipynb\n",
      "/Users/jkchang/github/python/Work/.ipynb_checkpoints/list of super-checkpoint.ipynb\n"
     ]
    }
   ],
   "source": [
    "import os\n",
    "\n",
    "# \"root prints out directories only from what you specified\"\n",
    "# \"dirs prints out sub-directories from root\"\n",
    "# \"files prints out all files from root and directories\"\n",
    "\n",
    "# thisdir = os.getcwd()\n",
    "thisdir = '/Users/jkchang/github/python/Work/'\n",
    "\n",
    "for root,dirs,files in os.walk(thisdir):\n",
    "    for file in files:\n",
    "        if \".ipynb\" in file:\n",
    "            print(os.path.join(root,file))"
   ]
  },
  {
   "cell_type": "markdown",
   "metadata": {},
   "source": [
    "### 4. Go up in the directory tree"
   ]
  },
  {
   "cell_type": "code",
   "execution_count": 13,
   "metadata": {},
   "outputs": [
    {
     "data": {
      "text/plain": [
       "['.HFS+ Private Directory Data\\r',\n",
       " 'home',\n",
       " 'usr',\n",
       " '.Spotlight-V100',\n",
       " 'net',\n",
       " '.DS_Store',\n",
       " '.PKInstallSandboxManager',\n",
       " '.PKInstallSandboxManager-SystemSoftware',\n",
       " 'bin',\n",
       " 'installer.failurerequests',\n",
       " 'Network',\n",
       " 'sbin',\n",
       " '.file',\n",
       " 'etc',\n",
       " 'var',\n",
       " 'Library',\n",
       " '.Trashes',\n",
       " 'System',\n",
       " 'TMVersion.ini',\n",
       " '.OSInstallerMessages',\n",
       " '.fseventsd',\n",
       " 'private',\n",
       " '.DocumentRevisions-V100',\n",
       " '.vol',\n",
       " 'Users',\n",
       " 'Applications',\n",
       " 'opt',\n",
       " 'dev',\n",
       " 'Volumes',\n",
       " '.TemporaryItems',\n",
       " 'tmp',\n",
       " 'cores']"
      ]
     },
     "execution_count": 13,
     "metadata": {},
     "output_type": "execute_result"
    }
   ],
   "source": [
    "# method 1\n",
    "x = os.listdir('..')\n",
    "# method 2\n",
    "x = os.listdir('/')\n",
    "x"
   ]
  },
  {
   "cell_type": "markdown",
   "metadata": {},
   "source": [
    "### 5. Get files of particular subdirectory"
   ]
  },
  {
   "cell_type": "code",
   "execution_count": 15,
   "metadata": {},
   "outputs": [
    {
     "data": {
      "text/plain": [
       "['MTBLS Curation Status Log copy.csv',\n",
       " 'zooma.py',\n",
       " '.DS_Store',\n",
       " 'species.py',\n",
       " 'test',\n",
       " 'tree_structure.py',\n",
       " 'relationship.py',\n",
       " 'onto_tester.py',\n",
       " 'terms and urls.py',\n",
       " 'crawler',\n",
       " 'resources',\n",
       " 'extractor',\n",
       " 'maf_results copy.xlsx',\n",
       " '__pycache__',\n",
       " 'ontology',\n",
       " 'StudyInfo.py',\n",
       " 'metabolights_zooma.py',\n",
       " 'results',\n",
       " 'notes',\n",
       " 'temp.py',\n",
       " 'maf_results.tsv',\n",
       " '1.py',\n",
       " 'target.py',\n",
       " 'maf_results copy.tsv',\n",
       " 'sample_cleaning.py',\n",
       " '.ipynb_checkpoints',\n",
       " 'reMapping.py',\n",
       " 'removeDuplicatedresult.py',\n",
       " 'mapStudy.py']"
      ]
     },
     "execution_count": 15,
     "metadata": {},
     "output_type": "execute_result"
    }
   ],
   "source": [
    "arr = os.listdir('../work')\n",
    "arr"
   ]
  },
  {
   "cell_type": "markdown",
   "metadata": {},
   "source": [
    "### 6. Go Walk current directory"
   ]
  },
  {
   "cell_type": "code",
   "execution_count": 30,
   "metadata": {},
   "outputs": [
    {
     "data": {
      "text/plain": [
       "('.',\n",
       " ['.ipynb_checkpoints'],\n",
       " ['List all files in a directory.ipynb',\n",
       "  'Map, Filter, Reduce and Lambda.ipynb',\n",
       "  'Yield .ipynb',\n",
       "  'Exec & Eval.ipynb',\n",
       "  'Sorting.ipynb',\n",
       "  'Regular Expression.ipynb',\n",
       "  'Itertools.ipynb',\n",
       "  'Class methods.ipynb'])"
      ]
     },
     "execution_count": 30,
     "metadata": {},
     "output_type": "execute_result"
    }
   ],
   "source": [
    "import os\n",
    "arr = next(os.walk('.'))\n",
    "arr"
   ]
  },
  {
   "cell_type": "code",
   "execution_count": 31,
   "metadata": {},
   "outputs": [
    {
     "name": "stdout",
     "output_type": "stream",
     "text": [
      "['List all files in a directory.ipynb', 'Map, Filter, Reduce and Lambda.ipynb', 'Yield .ipynb', 'Exec & Eval.ipynb', 'Sorting.ipynb', 'Regular Expression.ipynb', 'Itertools.ipynb', 'Class methods.ipynb']\n"
     ]
    }
   ],
   "source": [
    "import glob\n",
    "print(glob.glob(\"*\"))"
   ]
  },
  {
   "cell_type": "markdown",
   "metadata": {},
   "source": [
    "# SOME EXAMPLES"
   ]
  },
  {
   "cell_type": "code",
   "execution_count": 34,
   "metadata": {},
   "outputs": [
    {
     "name": "stdout",
     "output_type": "stream",
     "text": [
      "['/Users/jkchang/Github/Python/Notes/List all files in a directory.ipynb', '/Users/jkchang/Github/Python/Notes/Map, Filter, Reduce and Lambda.ipynb', '/Users/jkchang/Github/Python/Notes/Yield .ipynb', '/Users/jkchang/Github/Python/Notes/Exec & Eval.ipynb', '/Users/jkchang/Github/Python/Notes/Sorting.ipynb', '/Users/jkchang/Github/Python/Notes/Regular Expression.ipynb', '/Users/jkchang/Github/Python/Notes/Itertools.ipynb', '/Users/jkchang/Github/Python/Notes/Class methods.ipynb', '/Users/jkchang/Github/Python/Notes/.ipynb_checkpoints/Regular Expression-checkpoint.ipynb', '/Users/jkchang/Github/Python/Notes/.ipynb_checkpoints/Itertools-checkpoint.ipynb', '/Users/jkchang/Github/Python/Notes/.ipynb_checkpoints/List all files in a directory-checkpoint.ipynb', '/Users/jkchang/Github/Python/Notes/.ipynb_checkpoints/Exec & Eval-checkpoint.ipynb', '/Users/jkchang/Github/Python/Notes/.ipynb_checkpoints/Class methods-checkpoint.ipynb', '/Users/jkchang/Github/Python/Notes/.ipynb_checkpoints/Yield -checkpoint.ipynb', '/Users/jkchang/Github/Python/Notes/.ipynb_checkpoints/Map, Filter, Reduce and Lambda-checkpoint.ipynb', '/Users/jkchang/Github/Python/Notes/.ipynb_checkpoints/Sorting-checkpoint.ipynb']\n"
     ]
    }
   ],
   "source": [
    "def select_files(path):\n",
    "    ext = ['.py','.ipynb']\n",
    "    file_to_enc=[]\n",
    "    for root,dirs,files in os.walk(path):\n",
    "        for file in files:\n",
    "            if file.endswith(tuple(ext)):\n",
    "                file_to_enc.append(os.path.join(root,file))\n",
    "    return file_to_enc\n",
    "\n",
    "\n",
    "path = os.getcwd()\n",
    "res = select_files(path)\n",
    "print(res)\n"
   ]
  },
  {
   "cell_type": "code",
   "execution_count": null,
   "metadata": {},
   "outputs": [],
   "source": []
  }
 ],
 "metadata": {
  "kernelspec": {
   "display_name": "Python 3",
   "language": "python",
   "name": "python3"
  },
  "language_info": {
   "codemirror_mode": {
    "name": "ipython",
    "version": 3
   },
   "file_extension": ".py",
   "mimetype": "text/x-python",
   "name": "python",
   "nbconvert_exporter": "python",
   "pygments_lexer": "ipython3",
   "version": "3.6.8"
  }
 },
 "nbformat": 4,
 "nbformat_minor": 2
}
