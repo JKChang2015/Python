{
 "cells": [
  {
   "cell_type": "markdown",
   "metadata": {},
   "source": [
    "# Itertools\n",
    "\n",
    "我们知道，迭代器的特点是：惰性求值（Lazy evaluation），即只有当迭代至某个值时，它才会被计算，这个特点使得迭代器特别适合于遍历大文件或无限集合等，因为我们不用一次性将它们存储在内存中。<br/>\n",
    "\n",
    "Python 内置的 itertools 模块包含了一系列用来产生不同类型迭代器的函数或类，这些函数的返回都是一个迭代器，我们可以通过 for 循环来遍历取值，也可以使用 next() 来取值。<br/>\n",
    "\n",
    "itertools 模块提供的迭代器函数有以下几种类型：<br/>\n",
    "\n",
    "* 无限迭代器：生成一个无限序列，比如自然数序列 1, 2, 3, 4, ...；\n",
    "* 有限迭代器：接收一个或多个序列（sequence）作为参数，进行组合、分组和过滤等；\n",
    "* 组合生成器：序列的排列、组合，求序列的笛卡儿积等；\n",
    "\n",
    "https://docs.python.org/3/library/itertools.html"
   ]
  },
  {
   "cell_type": "code",
   "execution_count": 1,
   "metadata": {},
   "outputs": [
    {
     "name": "stdout",
     "output_type": "stream",
     "text": [
      "__name__\n",
      "__doc__\n",
      "__package__\n",
      "__loader__\n",
      "__spec__\n",
      "tee\n",
      "accumulate\n",
      "combinations\n",
      "combinations_with_replacement\n",
      "cycle\n",
      "dropwhile\n",
      "takewhile\n",
      "islice\n",
      "starmap\n",
      "chain\n",
      "compress\n",
      "filterfalse\n",
      "count\n",
      "zip_longest\n",
      "permutations\n",
      "product\n",
      "repeat\n",
      "groupby\n",
      "_grouper\n",
      "_tee\n",
      "_tee_dataobject\n"
     ]
    }
   ],
   "source": [
    "import itertools\n",
    "print('\\n'.join(itertools.__dict__))"
   ]
  },
  {
   "cell_type": "markdown",
   "metadata": {},
   "source": [
    "## 无限迭代器\n",
    "itertools 模块提供了三个函数（事实上，它们是类）用于生成一个无限序列迭代器：\n",
    "\n",
    "* count(firstval=0, step=1)\n",
    "\n",
    "    创建一个从 firstval (默认值为 0) 开始，以 step (默认值为 1) 为步长的的无限整数迭代器\n",
    "\n",
    "* cycle(iterable)\n",
    "\n",
    "    对 iterable 中的元素反复执行循环，返回迭代器\n",
    "\n",
    "* repeat(object [,times]）\n",
    "\n",
    "    反复生成 object，如果给定 times，则重复次数为 times，否则为无限"
   ]
  },
  {
   "cell_type": "markdown",
   "metadata": {},
   "source": [
    "### count\n",
    "#### itertools.count(start=0,step=1)\n",
    "接收两个参数，第一个参数指定开始值，默认为 0，第二个参数指定步长，默认为 1."
   ]
  },
  {
   "cell_type": "code",
   "execution_count": 2,
   "metadata": {},
   "outputs": [
    {
     "name": "stdout",
     "output_type": "stream",
     "text": [
      "0\n",
      "1\n",
      "2\n",
      "3\n",
      "4\n",
      "5\n"
     ]
    }
   ],
   "source": [
    "import itertools\n",
    "\n",
    "nums = itertools.count()\n",
    "for i in nums:\n",
    "    if i > 5:\n",
    "        break\n",
    "    print(i)"
   ]
  },
  {
   "cell_type": "code",
   "execution_count": 3,
   "metadata": {},
   "outputs": [
    {
     "name": "stdout",
     "output_type": "stream",
     "text": [
      "10\n",
      "12\n",
      "14\n",
      "16\n",
      "18\n",
      "20\n"
     ]
    }
   ],
   "source": [
    "import itertools\n",
    "\n",
    "nums = itertools.count(10, 2)\n",
    "for i in nums:\n",
    "    if i > 20:\n",
    "        break\n",
    "    print(i)"
   ]
  },
  {
   "cell_type": "code",
   "execution_count": 38,
   "metadata": {},
   "outputs": [
    {
     "name": "stdout",
     "output_type": "stream",
     "text": [
      "5\n",
      "6\n",
      "7\n",
      "8\n",
      "9\n",
      "10\n"
     ]
    }
   ],
   "source": [
    "nums = itertools.count(5)\n",
    "for i in nums:\n",
    "    if i >10:\n",
    "        break\n",
    "    print(i)"
   ]
  },
  {
   "cell_type": "markdown",
   "metadata": {},
   "source": [
    "### cycle\n",
    "#### itertools.cycle(iterable)\n",
    "用于对 iterable 中的元素反复执行循环："
   ]
  },
  {
   "cell_type": "code",
   "execution_count": 4,
   "metadata": {},
   "outputs": [
    {
     "name": "stdout",
     "output_type": "stream",
     "text": [
      "1 A\n",
      "2 B\n",
      "3 C\n",
      "4 A\n",
      "5 B\n",
      "6 C\n",
      "7 A\n",
      "8 B\n",
      "9 C\n"
     ]
    }
   ],
   "source": [
    "import itertools\n",
    "\n",
    "cycle_string = itertools.cycle('ABC')\n",
    "i = 1\n",
    "for s in cycle_string:\n",
    "    if i == 10:\n",
    "        break\n",
    "    print(i, s)\n",
    "    i += 1"
   ]
  },
  {
   "cell_type": "markdown",
   "metadata": {},
   "source": [
    "### repeat\n",
    "#### itertools.repeat(object[, times])\n",
    "用于反复生成一个 object："
   ]
  },
  {
   "cell_type": "code",
   "execution_count": 5,
   "metadata": {},
   "outputs": [
    {
     "name": "stdout",
     "output_type": "stream",
     "text": [
      "Hello world\n",
      "Hello world\n",
      "Hello world\n"
     ]
    }
   ],
   "source": [
    "import itertools\n",
    "\n",
    "for item in itertools.repeat('Hello world',3):\n",
    "    print(item)"
   ]
  },
  {
   "cell_type": "code",
   "execution_count": 6,
   "metadata": {},
   "outputs": [
    {
     "name": "stdout",
     "output_type": "stream",
     "text": [
      "[1, 2, 3, 4]\n",
      "[1, 2, 3, 4]\n",
      "[1, 2, 3, 4]\n"
     ]
    }
   ],
   "source": [
    "for item in itertools.repeat([1,2,3,4],3):\n",
    "    print(item)"
   ]
  },
  {
   "cell_type": "markdown",
   "metadata": {},
   "source": [
    "## 有限迭代器\n",
    "itertools 模块提供了多个函数（类），接收一个或多个迭代对象作为参数，对它们进行组合、分组和过滤等：\n",
    "\n",
    "|Iterator|Arguments|Results|Example|\n",
    "|--------|---------|-------|--------|\n",
    "|accumulate()|\tp [,func]|\tp0, p0+p1, p0+p1+p2, …|\taccumulate([1,2,3,4,5]) --> 1 3 6 10 15|\n",
    "|chain()|\tp, q, …\t| p0, p1, … plast, q0, q1, …|\tchain('ABC', 'DEF') --> A B C D E F|\n",
    "|chain.from_iterable()|\titerable|\tp0, p1, … plast, q0, q1, …|\tchain.from_iterable(['ABC', 'DEF']) --> A B C D E F|\n",
    "|compress()|\tdata, selectors|\t(d[0] if s[0]), (d[1] if s[1]), …|\tcompress('ABCDEF', [1,0,1,0,1,1]) --> A C E F|\n",
    "|dropwhile()|\tpred, seq|\tseq[n], seq[n+1], starting when pred fails|\tdropwhile(lambda x: x<5, [1,4,6,4,1]) --> 6 4 1|\n",
    "|filterfalse()|\tpred, seq|\telements of seq where pred(elem) is false|\tfilterfalse(lambda x: x%2, range(10)) --> 0 2 4 6 8|\n",
    "|groupby()|\titerable[, key]|\tsub-iterators grouped by value of key(v)|\t |\n",
    "|islice()|\tseq, [start,] stop [, step]|\telements from seq[start:stop:step]|\tislice('ABCDEFG', 2, None) --> C D E F G|\n",
    "|starmap()|\tfunc, seq|\tfunc(*seq[0]), func(*seq[1]), …|\tstarmap(pow, [(2,5), (3,2), (10,3)]) --> 32 9 1000|\n",
    "|takewhile()|\tpred, seq|\tseq[0], seq[1], until pred fails|\ttakewhile(lambda x: x<5, [1,4,6,4,1]) --> 1 4|\n",
    "|tee()|\tit, n|\tit1, it2, … itn splits one iterator into n\t| |\n",
    "|zip_longest()|\tp, q, …|\t(p[0], q[0]), (p[1], q[1]), …|\tzip_longest('ABCD', 'xy', fillvalue='-') --> Ax By C- D-|"
   ]
  },
  {
   "cell_type": "markdown",
   "metadata": {},
   "source": [
    "----\n",
    "### accumulate 累加迭代器\n",
    "```python\n",
    "itertools.accumulate(iterable[, func])\n",
    "```\n",
    "创建一个迭代器，返回累加和或其他二元函数的累加结果（通过可选参数 func 指定）。如果提供了 func ，它应是2个参数的函数。输入 iterable 元素类型应是 func 能支持的任意类型。"
   ]
  },
  {
   "cell_type": "code",
   "execution_count": 7,
   "metadata": {},
   "outputs": [
    {
     "name": "stdout",
     "output_type": "stream",
     "text": [
      "[3, 12, 72, 144, 144, 1296, 0, 0, 0, 0]\n",
      "[3, 4, 6, 6, 6, 9, 9, 9, 9, 9]\n"
     ]
    }
   ],
   "source": [
    "from itertools import accumulate\n",
    "import operator\n",
    "data =  [3, 4, 6, 2, 1, 9, 0, 7, 5, 8]\n",
    "print(list(accumulate(data,operator.mul)))# running product\n",
    "print(list(accumulate(data,max)))  # running maximum"
   ]
  },
  {
   "cell_type": "code",
   "execution_count": 8,
   "metadata": {},
   "outputs": [
    {
     "data": {
      "text/plain": [
       "[1000, 960.0, 918.0, 873.9000000000001, 827.5950000000001]"
      ]
     },
     "execution_count": 8,
     "metadata": {},
     "output_type": "execute_result"
    }
   ],
   "source": [
    "# Amortize a 5% loan of 1000 with 4 annual payments of 90\n",
    "cashflows = [1000, -90, -90, -90, -90]\n",
    "list(accumulate(cashflows,lambda bal,pmt:bal*1.05 + pmt))"
   ]
  },
  {
   "cell_type": "markdown",
   "metadata": {},
   "source": [
    "---\n",
    "### Chain 链式迭代\n",
    "\n",
    "```python\n",
    "chain(iterable1, iterable2, iterable3, ...)\n",
    "```\n",
    "\n",
    "**chain**  接收多个可迭代对象作为参数，将它们『连接』起来，作为一个新的迭代器返回。\n",
    "迭代器按照顺序一一运行"
   ]
  },
  {
   "cell_type": "code",
   "execution_count": 9,
   "metadata": {},
   "outputs": [
    {
     "name": "stdout",
     "output_type": "stream",
     "text": [
      "1\n",
      "2\n",
      "3\n",
      "a\n",
      "b\n",
      "c\n"
     ]
    }
   ],
   "source": [
    "from itertools import chain\n",
    "\n",
    "for item in chain([1,2,3],['a','b','c']):\n",
    "    print(item)"
   ]
  },
  {
   "cell_type": "code",
   "execution_count": 4,
   "metadata": {},
   "outputs": [
    {
     "name": "stdout",
     "output_type": "stream",
     "text": [
      "1 2 3 a b c "
     ]
    }
   ],
   "source": [
    "from itertools import chain\n",
    "def make_interable_to_chain():\n",
    "    yield[1,2,3]\n",
    "    yield['a','b','c']\n",
    "\n",
    "for i in chain.from_iterable(make_interable_to_chain()):\n",
    "    print(i,end=' ')"
   ]
  },
  {
   "cell_type": "markdown",
   "metadata": {},
   "source": [
    "---\n",
    "### combination 组合\n",
    "```python\n",
    "itertools.combinations(iterable, r)\n",
    "\n",
    "```\n",
    "返回由输入 iterable 中元素组成长度为 r 的子序列。\n",
    "\n",
    "组合按照字典序返回。所以如果输入 iterable 是有序的，生成的组合元组也是有序的。\n",
    "\n",
    "即使元素的值相同，不同位置的元素也被认为是不同的。如果元素各自不同，那么每个组合中没有重复元素。"
   ]
  },
  {
   "cell_type": "code",
   "execution_count": 10,
   "metadata": {},
   "outputs": [
    {
     "name": "stdout",
     "output_type": "stream",
     "text": [
      "('A', 'B')\n",
      "('A', 'C')\n",
      "('A', 'D')\n",
      "('B', 'C')\n",
      "('B', 'D')\n",
      "('C', 'D')\n"
     ]
    }
   ],
   "source": [
    "from itertools import combinations\n",
    "for i in combinations('ABCD',2):\n",
    "    print(i)"
   ]
  },
  {
   "cell_type": "code",
   "execution_count": 11,
   "metadata": {},
   "outputs": [
    {
     "name": "stdout",
     "output_type": "stream",
     "text": [
      "(0, 1, 2)\n",
      "(0, 1, 3)\n",
      "(0, 2, 3)\n",
      "(1, 2, 3)\n"
     ]
    }
   ],
   "source": [
    "for i in combinations(range(4),3):\n",
    "    print(i)"
   ]
  },
  {
   "cell_type": "markdown",
   "metadata": {},
   "source": [
    "#### combinations() 的代码可被改写为 permutations() 过滤后的子序列，（相对于元素在输入中的位置）元素不是有序的"
   ]
  },
  {
   "cell_type": "code",
   "execution_count": 12,
   "metadata": {},
   "outputs": [
    {
     "name": "stdout",
     "output_type": "stream",
     "text": [
      "('A', 'B')\n",
      "('A', 'C')\n",
      "('A', 'D')\n",
      "('B', 'A')\n",
      "('B', 'C')\n",
      "('B', 'D')\n",
      "('C', 'A')\n",
      "('C', 'B')\n",
      "('C', 'D')\n",
      "('D', 'A')\n",
      "('D', 'B')\n",
      "('D', 'C')\n"
     ]
    }
   ],
   "source": [
    "from itertools import permutations\n",
    "for i in permutations('ABCD',2):\n",
    "    print(i)"
   ]
  },
  {
   "cell_type": "markdown",
   "metadata": {},
   "source": [
    "### combinations_with_replacement\n",
    "```python\n",
    "combinations_with_replacement(iterable, r)\n",
    "```\n",
    "\n",
    "\n",
    "返回由输入 iterable 中元素组成的长度为 r 的子序列，**_允许每个元素可重复出现。_**"
   ]
  },
  {
   "cell_type": "code",
   "execution_count": 13,
   "metadata": {},
   "outputs": [
    {
     "name": "stdout",
     "output_type": "stream",
     "text": [
      "('A', 'A')\n",
      "('A', 'B')\n",
      "('A', 'C')\n",
      "('B', 'B')\n",
      "('B', 'C')\n",
      "('C', 'C')\n"
     ]
    }
   ],
   "source": [
    "from itertools import combinations_with_replacement\n",
    "\n",
    "for i in combinations_with_replacement('ABC',2):\n",
    "    print(i)"
   ]
  },
  {
   "cell_type": "markdown",
   "metadata": {},
   "source": [
    "---\n",
    "### compress\n",
    "\n",
    "```python\n",
    "itertools.compress(data, selectors)\n",
    "```\n",
    "\n",
    "创建一个迭代器，返回selectors中**True** 的元素，迭代器在两者较短的长度处停止。"
   ]
  },
  {
   "cell_type": "code",
   "execution_count": 14,
   "metadata": {},
   "outputs": [
    {
     "name": "stdout",
     "output_type": "stream",
     "text": [
      "A\n",
      "C\n",
      "E\n",
      "F\n"
     ]
    }
   ],
   "source": [
    "from itertools import compress\n",
    "\n",
    "for i in compress('ABCDEFG',[1,0,1,0,1,1]):\n",
    "    print(i)"
   ]
  },
  {
   "cell_type": "markdown",
   "metadata": {},
   "source": [
    "---\n",
    "### 断言迭代\n",
    "\n",
    "#### dropwhile \n",
    "\n",
    "```python\n",
    "itertools.dropwhile(predicate, iterable)\n",
    "```\n",
    "创建一个迭代器，如果 predicate 为true，迭代器丢弃这些元素，然后返回其他元素。注意，**迭代器在 predicate 首次为false之前不会产生任何输出**，所以可能需要一定长度的启动时间。"
   ]
  },
  {
   "cell_type": "code",
   "execution_count": 15,
   "metadata": {},
   "outputs": [
    {
     "name": "stdout",
     "output_type": "stream",
     "text": [
      "7\n",
      "2\n",
      "1\n",
      "9\n"
     ]
    }
   ],
   "source": [
    "from itertools import dropwhile\n",
    "\n",
    "for i in dropwhile(lambda x:x<5, [1,2,4,7,2,1,9]):\n",
    "    print(i)"
   ]
  },
  {
   "cell_type": "code",
   "execution_count": 16,
   "metadata": {},
   "outputs": [
    {
     "name": "stdout",
     "output_type": "stream",
     "text": [
      "7\n",
      "2\n",
      "4\n",
      "7\n",
      "2\n",
      "1\n",
      "9\n"
     ]
    }
   ],
   "source": [
    "from itertools import dropwhile\n",
    "\n",
    "for i in dropwhile(lambda x:x<5, [7,2,4,7,2,1,9]):\n",
    "    print(i)"
   ]
  },
  {
   "cell_type": "markdown",
   "metadata": {},
   "source": [
    "#### takewhile\n",
    "\n",
    "和dropwhile相反，takewhile创建一个迭代器，只要 predicate 为真就从可迭代对象中返回元素。"
   ]
  },
  {
   "cell_type": "code",
   "execution_count": 17,
   "metadata": {},
   "outputs": [
    {
     "name": "stdout",
     "output_type": "stream",
     "text": [
      "1\n",
      "2\n",
      "4\n"
     ]
    }
   ],
   "source": [
    "from itertools import takewhile\n",
    "\n",
    "for i in takewhile(lambda x:x<5, [1,2,4,7,2,1,9]):\n",
    "    print(i)"
   ]
  },
  {
   "cell_type": "code",
   "execution_count": 18,
   "metadata": {},
   "outputs": [
    {
     "name": "stdout",
     "output_type": "stream",
     "text": [
      "1\n",
      "3\n",
      "4\n"
     ]
    }
   ],
   "source": [
    "from itertools import takewhile\n",
    "\n",
    "for i in takewhile(lambda x:x<5, [1,3,4,7,2,1,9]):\n",
    "    print(i)"
   ]
  },
  {
   "cell_type": "markdown",
   "metadata": {},
   "source": [
    "----\n",
    "### 过滤迭代"
   ]
  },
  {
   "cell_type": "markdown",
   "metadata": {},
   "source": [
    "#### filterfalse\n",
    "\n",
    "```python\n",
    "itertools.filterfalse(predicate, iterable)\n",
    "```\n",
    "\n",
    "创建一个迭代器，只返回 iterable 中 predicate 为 False 的元素。如果 predicate 是 None，返回真值测试为false的元素。"
   ]
  },
  {
   "cell_type": "code",
   "execution_count": 19,
   "metadata": {},
   "outputs": [
    {
     "name": "stdout",
     "output_type": "stream",
     "text": [
      "7\n",
      "9\n"
     ]
    }
   ],
   "source": [
    "from itertools import filterfalse\n",
    "\n",
    "for i in filterfalse(lambda x:x<5, [1,2,4,7,2,1,9]):\n",
    "    print(i)"
   ]
  },
  {
   "cell_type": "code",
   "execution_count": 20,
   "metadata": {},
   "outputs": [
    {
     "name": "stdout",
     "output_type": "stream",
     "text": [
      "7\n",
      "7\n",
      "9\n"
     ]
    }
   ],
   "source": [
    "for i in filterfalse(lambda x:x<5, [7,2,4,7,2,1,9]):\n",
    "    print(i)"
   ]
  },
  {
   "cell_type": "code",
   "execution_count": null,
   "metadata": {},
   "outputs": [],
   "source": []
  },
  {
   "cell_type": "code",
   "execution_count": null,
   "metadata": {},
   "outputs": [],
   "source": []
  },
  {
   "cell_type": "code",
   "execution_count": null,
   "metadata": {},
   "outputs": [],
   "source": []
  },
  {
   "cell_type": "code",
   "execution_count": null,
   "metadata": {},
   "outputs": [],
   "source": []
  },
  {
   "cell_type": "code",
   "execution_count": 8,
   "metadata": {},
   "outputs": [
    {
     "name": "stdout",
     "output_type": "stream",
     "text": [
      "(1, 'a')\n",
      "(2, 'b')\n",
      "(3, 'c')\n",
      "(4, None)\n",
      "(5, None)\n"
     ]
    }
   ],
   "source": [
    "from itertools import zip_longest\n",
    "for i in zip_longest([1,2,3,4,5],['a','b','c']):\n",
    "    print(i)"
   ]
  },
  {
   "cell_type": "code",
   "execution_count": 5,
   "metadata": {},
   "outputs": [
    {
     "name": "stdout",
     "output_type": "stream",
     "text": [
      "0 1 2 3 4 \n",
      "5 6 7 8 9 \n",
      "0 10 20 30 40 50 60 70 80 90 "
     ]
    }
   ],
   "source": [
    "from itertools import islice\n",
    "\n",
    "for i in islice(range(10),5):\n",
    "    print(i,end= ' ')\n",
    "    \n",
    "for i in islice(range(10),5,10):\n",
    "    print(i,end= ' ')\n",
    "\n",
    "for i in islice(range(100), 0,100,10):\n",
    "    print(i,end= ' ')"
   ]
  },
  {
   "cell_type": "code",
   "execution_count": 23,
   "metadata": {},
   "outputs": [
    {
     "name": "stdout",
     "output_type": "stream",
     "text": [
      "i1: [0, 1, 2, 3, 4]\n",
      "i2: [0, 1, 2, 3, 4]\n",
      "r: []\n"
     ]
    }
   ],
   "source": [
    "from itertools import tee,islice,count\n",
    "\n",
    "r = islice(count(),5)\n",
    "i1,i2 = tee(r)\n",
    "print('i1:', list(i1))\n",
    "print('i2:', list(i2))\n",
    "print('r:',list(r))"
   ]
  },
  {
   "cell_type": "code",
   "execution_count": 2,
   "metadata": {},
   "outputs": [
    {
     "name": "stdout",
     "output_type": "stream",
     "text": [
      "[0, 0]\n",
      "[1, 2]\n",
      "[4, 4]\n",
      "[9, 6]\n",
      "[16, 8]\n"
     ]
    }
   ],
   "source": [
    "def multiply(x):\n",
    "    return x*x\n",
    "\n",
    "def add(x):\n",
    "    return x+x\n",
    "\n",
    "funs = [multiply,add]\n",
    "for i in range(5):\n",
    "    value = list(map(lambda x:x(i),funs))\n",
    "    print(value)"
   ]
  },
  {
   "cell_type": "code",
   "execution_count": 3,
   "metadata": {},
   "outputs": [],
   "source": [
    "res = map(lambda x,y: x+y, range(5),range(5,10))"
   ]
  },
  {
   "cell_type": "code",
   "execution_count": 4,
   "metadata": {},
   "outputs": [
    {
     "data": {
      "text/plain": [
       "<map at 0x10eca76d8>"
      ]
     },
     "execution_count": 4,
     "metadata": {},
     "output_type": "execute_result"
    }
   ],
   "source": [
    "res"
   ]
  },
  {
   "cell_type": "code",
   "execution_count": 5,
   "metadata": {},
   "outputs": [
    {
     "name": "stdout",
     "output_type": "stream",
     "text": [
      "5\n",
      "7\n",
      "9\n",
      "11\n",
      "13\n"
     ]
    }
   ],
   "source": [
    "for i in res:\n",
    "    print(i)"
   ]
  },
  {
   "cell_type": "code",
   "execution_count": null,
   "metadata": {},
   "outputs": [],
   "source": []
  }
 ],
 "metadata": {
  "kernelspec": {
   "display_name": "Python 3",
   "language": "python",
   "name": "python3"
  },
  "language_info": {
   "codemirror_mode": {
    "name": "ipython",
    "version": 3
   },
   "file_extension": ".py",
   "mimetype": "text/x-python",
   "name": "python",
   "nbconvert_exporter": "python",
   "pygments_lexer": "ipython3",
   "version": "3.7.3"
  }
 },
 "nbformat": 4,
 "nbformat_minor": 4
}
